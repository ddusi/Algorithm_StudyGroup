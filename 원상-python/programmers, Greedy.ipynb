{
 "cells": [
  {
   "cell_type": "markdown",
   "metadata": {},
   "source": [
    "# 체육복"
   ]
  },
  {
   "cell_type": "code",
   "execution_count": 88,
   "metadata": {},
   "outputs": [],
   "source": [
    "# 변수선언\n",
    "n=5\n",
    "lost = []\n",
    "reserve = []"
   ]
  },
  {
   "cell_type": "code",
   "execution_count": 95,
   "metadata": {},
   "outputs": [],
   "source": [
    "# 첫번째 시도,\n",
    "def solution (n, lost, reserve):\n",
    "    front = [x-1 for x in lost]\n",
    "    back = [x+1 for x in lost]\n",
    "    count = 0\n",
    "    \n",
    "    # 도난당한 reserve들 체크 \n",
    "    for x in lost:\n",
    "        if x in reserve:\n",
    "            reserve.remove(x)\n",
    "            lost.remove(x)\n",
    "    \n",
    "    # 빈 리스트 체크\n",
    "    if lost == []:\n",
    "        return n \n",
    "    elif reserve == []:\n",
    "        return n - len(lost)\n",
    "        \n",
    "        \n",
    "    for i in range(len(lost)):\n",
    "        if front[i] in reserve:\n",
    "            reserve.remove(front[i])\n",
    "            lost.remove(front[i]+1)\n",
    "            count += 1\n",
    "            \n",
    "        elif back[i] in reserve:\n",
    "            reserve.remove(back[i])\n",
    "            lost.remove(back[i]-1)\n",
    "            count += 1\n",
    "\n",
    "    answer = n - len(lost)\n",
    "    return answer"
   ]
  },
  {
   "cell_type": "code",
   "execution_count": 96,
   "metadata": {},
   "outputs": [
    {
     "data": {
      "text/plain": [
       "5"
      ]
     },
     "execution_count": 96,
     "metadata": {},
     "output_type": "execute_result"
    }
   ],
   "source": [
    "solution(n, lost, reserve)"
   ]
  },
  {
   "cell_type": "markdown",
   "metadata": {},
   "source": [
    "런타임 오류가 계속뜸... ㅠㅠㅠ "
   ]
  },
  {
   "cell_type": "code",
   "execution_count": 93,
   "metadata": {},
   "outputs": [],
   "source": [
    "# 다른사람 풀이\n",
    "def solution(n, lost, reserve):\n",
    "    _reserve = [r for r in reserve if r not in lost]      #도난후에 진짜로 여분이 있는 학생들 list\n",
    "    _lost = [l for l in lost if l not in reserve]         #여분이 있어 도난후에 1이 되는 애들말고 진짜 0인 애들\n",
    "\n",
    "    for r in _reserve:                                    #여분이 있는 학생들의 번호 -1과 +1을 해서 잃어버린 애들이 있으면 빌려줌\n",
    "        f = r - 1                                         \n",
    "        b = r + 1\n",
    "        if f in _lost:                                    # 빌려줬기때문에 lost list에서 삭제\n",
    "            _lost.remove(f)\n",
    "        elif b in _lost:\n",
    "            _lost.remove(b)\n",
    "    return n - len(_lost)\n"
   ]
  },
  {
   "cell_type": "code",
   "execution_count": 94,
   "metadata": {
    "scrolled": true
   },
   "outputs": [
    {
     "data": {
      "text/plain": [
       "5"
      ]
     },
     "execution_count": 94,
     "metadata": {},
     "output_type": "execute_result"
    }
   ],
   "source": [
    "solution(n, lost, reserve)"
   ]
  },
  {
   "cell_type": "code",
   "execution_count": null,
   "metadata": {},
   "outputs": [],
   "source": [
    "# set을 활용해 중복값을 없앤 로직\n",
    "# 개인적으로 컴프리헨션을 이용한게 더 낫다.\n",
    "def solution(n, lost, reserve):\n",
    "    reserved = 0\n",
    "    lostN = list(set(lost) - set(reserve))\n",
    "    reserveN = list(set(reserve) - set(lost))\n",
    "    lostN.sort()\n",
    "    for l in lostN:\n",
    "        for x in range(l-1, l+2):\n",
    "            if x in reserveN:\n",
    "                reserveN.remove(x)\n",
    "                reserved += 1\n",
    "                break\n",
    "    return n - len(lostN) + reserved"
   ]
  },
  {
   "cell_type": "markdown",
   "metadata": {},
   "source": [
    "전반적인 로직이 똑같은데, 내 로직은 런타임 오류가 계속 뜨는것을 보니 \n",
    "인덱싱을 벗어나는게 문제인것 같다. "
   ]
  },
  {
   "cell_type": "markdown",
   "metadata": {},
   "source": [
    "# 큰 수 만들기"
   ]
  },
  {
   "cell_type": "code",
   "execution_count": 199,
   "metadata": {},
   "outputs": [],
   "source": [
    "# 변수 선언\n",
    "number = 1231234\n",
    "k = 3\n"
   ]
  },
  {
   "cell_type": "code",
   "execution_count": 191,
   "metadata": {},
   "outputs": [],
   "source": [
    "_number = list(str(number))\n",
    "\n",
    "# 얕은복사\n",
    "index = _number[:]\n",
    "index.append('0')\n",
    "for x in range(len(_number)):\n",
    "    if index[x] < index[x+1]:\n",
    "        _number.remove(index[x])\n",
    "        count += 1\n",
    "        if count == k:\n",
    "            break"
   ]
  },
  {
   "cell_type": "code",
   "execution_count": 202,
   "metadata": {},
   "outputs": [],
   "source": [
    "def solution(number, k):\n",
    "    count = 0\n",
    "    _number = list(str(number))\n",
    "    # 얕은복사\n",
    "    \n",
    "    index = _number[:]\n",
    "    index.append('0')\n",
    "    for x in range(len(_number)):\n",
    "        if index[x] < index[x+1]:\n",
    "            _number.remove(index[x])\n",
    "            count += 1\n",
    "            if count == k:\n",
    "                break\n",
    "                \n",
    "    answer = \"\".join(_number)\n",
    "    return answer"
   ]
  },
  {
   "cell_type": "code",
   "execution_count": 203,
   "metadata": {},
   "outputs": [
    {
     "data": {
      "text/plain": [
       "'3234'"
      ]
     },
     "execution_count": 203,
     "metadata": {},
     "output_type": "execute_result"
    }
   ],
   "source": [
    "solution(number, k)"
   ]
  },
  {
   "cell_type": "code",
   "execution_count": 198,
   "metadata": {},
   "outputs": [
    {
     "data": {
      "text/plain": [
       "'3234'"
      ]
     },
     "execution_count": 198,
     "metadata": {},
     "output_type": "execute_result"
    }
   ],
   "source": [
    "\"\".join(_number)"
   ]
  },
  {
   "cell_type": "markdown",
   "metadata": {},
   "source": [
    "# 조이스틱"
   ]
  },
  {
   "cell_type": "code",
   "execution_count": null,
   "metadata": {},
   "outputs": [],
   "source": [
    "< 문제 규칙 >\n",
    "위 - 다음알파벳\n",
    "아래 - 이전알파벳\n",
    "왼쪽 - 커서를 왼쪽으로 이동 ( 첫번째 위치는 마지막으로 이동 )\n",
    "오른쪽 - 커서를 오른쪽으로 이동\n",
    "\n",
    "위로 9번, 왼쪽으로 1번, 아래로 1번\n",
    "총 11번"
   ]
  },
  {
   "cell_type": "code",
   "execution_count": null,
   "metadata": {},
   "outputs": [],
   "source": [
    "< 설계한 로직 >\n",
    "1. name을 입력받는다. \n",
    "2. 자릿수를 체크해서 AAA를 만든다. \n",
    "3. 첫번째 자리의 알파벳을 맞춘다. chr()\n",
    "4. 두번째 자리의 알파벳을 맞춘다. \n",
    "    이때 두번째 자리가 A라면 뒤로 움직인다 ( 더 효율적 )\n",
    "5. 세번째 자리의 알파벳을 맞춘다. "
   ]
  },
  {
   "cell_type": "code",
   "execution_count": 176,
   "metadata": {
    "scrolled": true
   },
   "outputs": [],
   "source": [
    "# 첫번째 시도 --------------------------------------------- 틀림, 테스트는 통과함\n",
    "def solution(name):\n",
    "    name = list(name)\n",
    "    start_name = ['A' for x in range(len(name))]\n",
    "    num = 0\n",
    "    for i in range(len(name)):\n",
    "        if name[i] != start_name[i]:            # 맞는 알파벳으로 변환\n",
    "            front = -(ord('A') - ord(name[i]))      # A에서 앞 변환하는 경우\n",
    "            back = ord('Z') - ord(name[i]) + 1      # A에서 뒤로 변환하는 경우\n",
    "\n",
    "            if front <= back:                    # 더 효율적인 것을 카운트함.\n",
    "                num += front\n",
    "\n",
    "            elif front > back:\n",
    "                num += back\n",
    "            num += 1\n",
    "\n",
    "    check = list(name)                   # 자리이동 체크사항\n",
    "    check.pop(0)\n",
    "    check.pop()\n",
    "\n",
    "    for i in check:                     # 자이리동을 뒤로 할지, 앞으로 할지\n",
    "        if i != 'A':                    # 모든 자리가 A가 아니기에 check를 False로둠\n",
    "            check = False\n",
    "\n",
    "\n",
    "    if check != False:                 # 모든자리가 A라면 check를 True를 줌\n",
    "        check = True\n",
    "    else:\n",
    "        num -= 1\n",
    "\n",
    "    if check == True:                  # 이때 모든 자리가 A였기 때문에 그만큼 기회비용 환수\n",
    "        num -= len(name)-2\n",
    "    return num"
   ]
  },
  {
   "cell_type": "code",
   "execution_count": 177,
   "metadata": {},
   "outputs": [
    {
     "data": {
      "text/plain": [
       "11"
      ]
     },
     "execution_count": 177,
     "metadata": {},
     "output_type": "execute_result"
    }
   ],
   "source": [
    "name = \"JAZ\"\n",
    "solution(name)"
   ]
  },
  {
   "cell_type": "code",
   "execution_count": 178,
   "metadata": {},
   "outputs": [
    {
     "data": {
      "text/plain": [
       "56"
      ]
     },
     "execution_count": 178,
     "metadata": {},
     "output_type": "execute_result"
    }
   ],
   "source": [
    "name = \"JEROEN\"\n",
    "solution(name)"
   ]
  },
  {
   "cell_type": "code",
   "execution_count": 195,
   "metadata": {},
   "outputs": [
    {
     "data": {
      "text/plain": [
       "'AAA'"
      ]
     },
     "execution_count": 195,
     "metadata": {},
     "output_type": "execute_result"
    }
   ],
   "source": [
    "name = \"JAA\"\n",
    "idx = 0\n",
    "name = name[0:idx] + 'A' + name[idx+1:]\n",
    "name"
   ]
  },
  {
   "cell_type": "code",
   "execution_count": 196,
   "metadata": {},
   "outputs": [
    {
     "data": {
      "text/plain": [
       "'AA'"
      ]
     },
     "execution_count": 196,
     "metadata": {},
     "output_type": "execute_result"
    }
   ],
   "source": [
    " name[idx+1:]"
   ]
  },
  {
   "cell_type": "code",
   "execution_count": 187,
   "metadata": {},
   "outputs": [],
   "source": [
    "def solution(name):\n",
    "    answer = 0\n",
    "    idx = 0\n",
    "    base = 'A' * len(name)\n",
    "\n",
    "    while(True):\n",
    "        leftIdx = idx\n",
    "        rightIdx = idx\n",
    "\n",
    "        if(name[idx] != 'A'):                           #위, 아래 효율다지기\n",
    "            if(ord(name[idx]) - ord('A') > 13):\n",
    "                answer += 26 - (ord(name[idx]) - ord('A'))\n",
    "            else:\n",
    "                answer += ord(name[idx]) - ord('A')\n",
    "            name = name[0:idx] + 'A' + name[idx+1:]\n",
    "        \n",
    "        if(name == base):\n",
    "            break\n",
    "            \n",
    "        while(name[leftIdx] == 'A' and name[rightIdx] == 'A'):\n",
    "            answer += 1\n",
    "\n",
    "            if(leftIdx == 0):\n",
    "                leftIdx = len(name) - 1\n",
    "            else:\n",
    "                leftIdx -= 1\n",
    "\n",
    "            if(rightIdx == len(name)-1):\n",
    "                pass\n",
    "            else:\n",
    "                rightIdx += 1\n",
    "        \n",
    "        if(name[rightIdx] != 'A'):\n",
    "            idx = rightIdx\n",
    "        else:\n",
    "            idx = leftIdx\n",
    "\n",
    "    return answer"
   ]
  },
  {
   "cell_type": "code",
   "execution_count": null,
   "metadata": {},
   "outputs": [],
   "source": [
    "def solution(name):\n",
    "    answer = 0\n",
    "    name=list(name)\n",
    "    base=[\"A\"]*len(name)\n",
    "    idx=0\n",
    "    while(True):\n",
    "        rightidx=1\n",
    "        leftidx=1\n",
    "        if name[idx]!=\"A\":\n",
    "            if ord(name[idx])-ord(\"A\")>13:\n",
    "                answer+=26-(ord(name[idx])-ord(\"A\"))\n",
    "            else:\n",
    "                answer+=ord(name[idx])-ord(\"A\")\n",
    "            name[idx]=\"A\"\n",
    "            \n",
    "        if name ==base:\n",
    "            break\n",
    "        else:\n",
    "            for i in range(1,len(name)):\n",
    "                if name[idx+i]==\"A\":\n",
    "                    rightidx+=1\n",
    "                else:\n",
    "                    break\n",
    "                if name[idx-i]==\"A\":\n",
    "                    leftidx+=1\n",
    "                else:\n",
    "                    break\n",
    "            if rightidx>leftidx:\n",
    "                answer+=leftidx\n",
    "                idx-=leftidx\n",
    "            else:\n",
    "                answer+=rightidx\n",
    "                idx+=rightidx\n",
    "    return answer\n"
   ]
  },
  {
   "cell_type": "code",
   "execution_count": null,
   "metadata": {},
   "outputs": [],
   "source": [
    "from string import ascii_uppercase\n",
    "alphabet = list(ascii_uppercase)\n",
    "\n",
    "def next_index(string):\n",
    "    for i in range(1,len(string)):\n",
    "        if string[i]!='A':\n",
    "            return i\n",
    "\n",
    "def distance_of_two_alphabets(given,target):\n",
    "    givenindex = alphabet.index(given)\n",
    "    targetindex = alphabet.index(target)\n",
    "    distance = abs(givenindex - targetindex)\n",
    "    return min(distance, 26 - distance)\n",
    "\n",
    "def solution(name):\n",
    "    if name=='A'*len(name):\n",
    "        return 0\n",
    "    else:\n",
    "        nextstring = name[1:]\n",
    "        distance=distance_of_two_alphabets('A', name[0])\n",
    "        if nextstring=='A'*len(nextstring):\n",
    "            return distance\n",
    "\n",
    "        #forward index \n",
    "        forward_index = next_index(name)\n",
    "        forward = forward_index + solution(name[forward_index:]+'A'*forward_index)\n",
    "\n",
    "        #backward index\n",
    "        backward_index = next_index('A'+nextstring[::-1])\n",
    "        backward = backward_index + solution(name[1:len(name)-backward_index+1][::-1]+'A'*backward_index)\n",
    "        return distance + min(forward, backward)"
   ]
  },
  {
   "cell_type": "code",
   "execution_count": 180,
   "metadata": {},
   "outputs": [
    {
     "data": {
      "text/plain": [
       "11"
      ]
     },
     "execution_count": 180,
     "metadata": {},
     "output_type": "execute_result"
    }
   ],
   "source": [
    "name = \"JAZ\"\n",
    "solution(name)"
   ]
  },
  {
   "cell_type": "code",
   "execution_count": 181,
   "metadata": {},
   "outputs": [
    {
     "data": {
      "text/plain": [
       "56"
      ]
     },
     "execution_count": 181,
     "metadata": {},
     "output_type": "execute_result"
    }
   ],
   "source": [
    "name = \"JEROEN\"\n",
    "solution(name)"
   ]
  },
  {
   "cell_type": "code",
   "execution_count": null,
   "metadata": {},
   "outputs": [],
   "source": []
  },
  {
   "cell_type": "code",
   "execution_count": null,
   "metadata": {},
   "outputs": [],
   "source": []
  },
  {
   "cell_type": "code",
   "execution_count": null,
   "metadata": {},
   "outputs": [],
   "source": []
  }
 ],
 "metadata": {
  "kernelspec": {
   "display_name": "Python 3",
   "language": "python",
   "name": "python3"
  },
  "language_info": {
   "codemirror_mode": {
    "name": "ipython",
    "version": 3
   },
   "file_extension": ".py",
   "mimetype": "text/x-python",
   "name": "python",
   "nbconvert_exporter": "python",
   "pygments_lexer": "ipython3",
   "version": "3.7.4"
  }
 },
 "nbformat": 4,
 "nbformat_minor": 2
}
