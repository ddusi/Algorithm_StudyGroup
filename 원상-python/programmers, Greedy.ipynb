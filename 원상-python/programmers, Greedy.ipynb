{
 "cells": [
  {
   "cell_type": "markdown",
   "metadata": {},
   "source": [
    "# 체육복"
   ]
  },
  {
   "cell_type": "code",
   "execution_count": 88,
   "metadata": {},
   "outputs": [],
   "source": [
    "# 변수선언\n",
    "n=5\n",
    "lost = []\n",
    "reserve = []"
   ]
  },
  {
   "cell_type": "code",
   "execution_count": 95,
   "metadata": {},
   "outputs": [],
   "source": [
    "# 첫번째 시도,\n",
    "def solution (n, lost, reserve):\n",
    "    front = [x-1 for x in lost]\n",
    "    back = [x+1 for x in lost]\n",
    "    count = 0\n",
    "    \n",
    "    # 도난당한 reserve들 체크 \n",
    "    for x in lost:\n",
    "        if x in reserve:\n",
    "            reserve.remove(x)\n",
    "            lost.remove(x)\n",
    "    \n",
    "    # 빈 리스트 체크\n",
    "    if lost == []:\n",
    "        return n \n",
    "    elif reserve == []:\n",
    "        return n - len(lost)\n",
    "        \n",
    "        \n",
    "    for i in range(len(lost)):\n",
    "        if front[i] in reserve:\n",
    "            reserve.remove(front[i])\n",
    "            lost.remove(front[i]+1)\n",
    "            count += 1\n",
    "            \n",
    "        elif back[i] in reserve:\n",
    "            reserve.remove(back[i])\n",
    "            lost.remove(back[i]-1)\n",
    "            count += 1\n",
    "\n",
    "    answer = n - len(lost)\n",
    "    return answer"
   ]
  },
  {
   "cell_type": "code",
   "execution_count": 96,
   "metadata": {},
   "outputs": [
    {
     "data": {
      "text/plain": [
       "5"
      ]
     },
     "execution_count": 96,
     "metadata": {},
     "output_type": "execute_result"
    }
   ],
   "source": [
    "solution(n, lost, reserve)"
   ]
  },
  {
   "cell_type": "markdown",
   "metadata": {},
   "source": [
    "런타임 오류가 계속뜸... ㅠㅠㅠ "
   ]
  },
  {
   "cell_type": "code",
   "execution_count": 93,
   "metadata": {},
   "outputs": [],
   "source": [
    "# 다른사람 풀이\n",
    "def solution(n, lost, reserve):\n",
    "    _reserve = [r for r in reserve if r not in lost]      #도난후에 진짜로 여분이 있는 학생들 list\n",
    "    _lost = [l for l in lost if l not in reserve]         #여분이 있어 도난후에 1이 되는 애들말고 진짜 0인 애들\n",
    "\n",
    "    for r in _reserve:                                    #여분이 있는 학생들의 번호 -1과 +1을 해서 잃어버린 애들이 있으면 빌려줌\n",
    "        f = r - 1                                         \n",
    "        b = r + 1\n",
    "        if f in _lost:                                    # 빌려줬기때문에 lost list에서 삭제\n",
    "            _lost.remove(f)\n",
    "        elif b in _lost:\n",
    "            _lost.remove(b)\n",
    "    return n - len(_lost)\n"
   ]
  },
  {
   "cell_type": "code",
   "execution_count": 94,
   "metadata": {
    "scrolled": true
   },
   "outputs": [
    {
     "data": {
      "text/plain": [
       "5"
      ]
     },
     "execution_count": 94,
     "metadata": {},
     "output_type": "execute_result"
    }
   ],
   "source": [
    "solution(n, lost, reserve)"
   ]
  },
  {
   "cell_type": "code",
   "execution_count": null,
   "metadata": {},
   "outputs": [],
   "source": [
    "# set을 활용해 중복값을 없앤 로직\n",
    "# 개인적으로 컴프리헨션을 이용한게 더 낫다.\n",
    "def solution(n, lost, reserve):\n",
    "    reserved = 0\n",
    "    lostN = list(set(lost) - set(reserve))\n",
    "    reserveN = list(set(reserve) - set(lost))\n",
    "    lostN.sort()\n",
    "    for l in lostN:\n",
    "        for x in range(l-1, l+2):\n",
    "            if x in reserveN:\n",
    "                reserveN.remove(x)\n",
    "                reserved += 1\n",
    "                break\n",
    "    return n - len(lostN) + reserved"
   ]
  },
  {
   "cell_type": "markdown",
   "metadata": {},
   "source": [
    "전반적인 로직이 똑같은데, 내 로직은 런타임 오류가 계속 뜨는것을 보니 \n",
    "인덱싱을 벗어나는게 문제인것 같다. "
   ]
  },
  {
   "cell_type": "markdown",
   "metadata": {},
   "source": [
    "# 큰 수 만들기"
   ]
  },
  {
   "cell_type": "code",
   "execution_count": 199,
   "metadata": {},
   "outputs": [],
   "source": [
    "# 변수 선언\n",
    "number = 1231234\n",
    "k = 3\n"
   ]
  },
  {
   "cell_type": "code",
   "execution_count": 191,
   "metadata": {},
   "outputs": [],
   "source": [
    "_number = list(str(number))\n",
    "\n",
    "# 얕은복사\n",
    "index = _number[:]\n",
    "index.append('0')\n",
    "for x in range(len(_number)):\n",
    "    if index[x] < index[x+1]:\n",
    "        _number.remove(index[x])\n",
    "        count += 1\n",
    "        if count == k:\n",
    "            break"
   ]
  },
  {
   "cell_type": "code",
   "execution_count": 202,
   "metadata": {},
   "outputs": [],
   "source": [
    "def solution(number, k):\n",
    "    count = 0\n",
    "    _number = list(str(number))\n",
    "    # 얕은복사\n",
    "    index = _number[:]\n",
    "    index.append('0')\n",
    "    for x in range(len(_number)):\n",
    "        if index[x] < index[x+1]:\n",
    "            _number.remove(index[x])\n",
    "            count += 1\n",
    "            if count == k:\n",
    "                break\n",
    "                \n",
    "    answer = \"\".join(_number)\n",
    "    return answer"
   ]
  },
  {
   "cell_type": "code",
   "execution_count": 203,
   "metadata": {},
   "outputs": [
    {
     "data": {
      "text/plain": [
       "'3234'"
      ]
     },
     "execution_count": 203,
     "metadata": {},
     "output_type": "execute_result"
    }
   ],
   "source": [
    "solution(number, k)"
   ]
  },
  {
   "cell_type": "code",
   "execution_count": 198,
   "metadata": {},
   "outputs": [
    {
     "data": {
      "text/plain": [
       "'3234'"
      ]
     },
     "execution_count": 198,
     "metadata": {},
     "output_type": "execute_result"
    }
   ],
   "source": [
    "\"\".join(_number)"
   ]
  },
  {
   "cell_type": "code",
   "execution_count": null,
   "metadata": {},
   "outputs": [],
   "source": []
  }
 ],
 "metadata": {
  "kernelspec": {
   "display_name": "Python 3",
   "language": "python",
   "name": "python3"
  },
  "language_info": {
   "codemirror_mode": {
    "name": "ipython",
    "version": 3
   },
   "file_extension": ".py",
   "mimetype": "text/x-python",
   "name": "python",
   "nbconvert_exporter": "python",
   "pygments_lexer": "ipython3",
   "version": "3.7.4"
  }
 },
 "nbformat": 4,
 "nbformat_minor": 2
}
