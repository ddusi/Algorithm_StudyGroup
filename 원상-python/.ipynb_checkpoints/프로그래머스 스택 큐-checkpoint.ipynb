{
 "cells": [
  {
   "cell_type": "markdown",
   "metadata": {},
   "source": [
    "# 프로그래머스, 주식가격"
   ]
  },
  {
   "cell_type": "code",
   "execution_count": 18,
   "metadata": {},
   "outputs": [],
   "source": [
    "# 돈 변동 pop할 때 마다 1초씩 흘러감.\n",
    "prices = [1,2,3,2,3]\n"
   ]
  },
  {
   "cell_type": "code",
   "execution_count": 21,
   "metadata": {},
   "outputs": [],
   "source": [
    "# 주식가격, 1차풀이 2중 for문\n",
    "def solution(prices):\n",
    "    answer = [0]*len(prices)\n",
    "    for i in range(len(prices)-1):\n",
    "        for j in range(i+1, len(prices)):\n",
    "            answer[i] += 1     \n",
    "            if prices[i]>prices[j]:\n",
    "                break\n",
    "    return answer\n"
   ]
  },
  {
   "cell_type": "code",
   "execution_count": null,
   "metadata": {},
   "outputs": [],
   "source": [
    "# 주식가격, 2차 리스트의 pop 이용.\n",
    "# 하지만 효율성 문제에서 시간초과 뜸.. \n",
    "answer = []\n",
    "def solution(prices):\n",
    "    while prices:\n",
    "        c= prices.pop(0)\n",
    "\n",
    "        count = 0 \n",
    "        for i in prices:\n",
    "            if c > i:\n",
    "                count += 1 \n",
    "                break\n",
    "            count += 1\n",
    "        answer.append(count)\n",
    "    return answer"
   ]
  },
  {
   "cell_type": "code",
   "execution_count": null,
   "metadata": {},
   "outputs": [],
   "source": [
    "# 주식가격, 3차 deque\n",
    "# 같은 pop이지만 collections 모듈의 deque를 이용하니 효율 개선됌.\n",
    "from collections import deque\n",
    "def solution(prices):\n",
    "    answer = []\n",
    "    prices = deque(prices)\n",
    "    while prices:\n",
    "        c = prices.popleft()\n",
    "\n",
    "        count = 0\n",
    "        for i in prices:\n",
    "            if c > i:\n",
    "                count += 1\n",
    "                break\n",
    "            count += 1\n",
    "\n",
    "        answer.append(count)\n",
    "\n",
    "    return answer"
   ]
  },
  {
   "cell_type": "markdown",
   "metadata": {},
   "source": [
    "## 배운점 \n",
    "1. collections의 deque 효율이 리스트의 pop보다 빠르다."
   ]
  },
  {
   "cell_type": "markdown",
   "metadata": {},
   "source": [
    "# 프로그래머스, 탑"
   ]
  },
  {
   "cell_type": "code",
   "execution_count": 139,
   "metadata": {},
   "outputs": [],
   "source": [
    "heights = [6,9,5,7,4]\n",
    "\n",
    "#원하는 리턴값 [0,0,2,2,4]"
   ]
  },
  {
   "cell_type": "code",
   "execution_count": 140,
   "metadata": {},
   "outputs": [],
   "source": [
    "from collections import deque\n",
    "heights = deque(heights)\n",
    "\n",
    "def solution(heights):\n",
    "    answer = [0]* len(heights)\n",
    "    while heights:\n",
    "        c = heights.pop()\n",
    "        for i in range(len(heights)-1, -1, -1):\n",
    "            if c < heights[i]:\n",
    "\n",
    "                #answer의 위치를 heights의 길이값으로 정해줄 수 있음.\n",
    "                answer[len(heights)] = i+1\n",
    "                break\n",
    "    return answer"
   ]
  },
  {
   "cell_type": "code",
   "execution_count": 141,
   "metadata": {
    "scrolled": true
   },
   "outputs": [
    {
     "data": {
      "text/plain": [
       "[0, 0, 2, 2, 4]"
      ]
     },
     "execution_count": 141,
     "metadata": {},
     "output_type": "execute_result"
    }
   ],
   "source": [
    "solution(heights)"
   ]
  },
  {
   "cell_type": "code",
   "execution_count": null,
   "metadata": {},
   "outputs": [],
   "source": [
    "# 왜인지 모르겠지만, 프로그래머스에서 collenctions을 쓰면 런타임 오류뜸."
   ]
  },
  {
   "cell_type": "code",
   "execution_count": null,
   "metadata": {},
   "outputs": [],
   "source": [
    "# 이중 for문으로 푸는 법. 시간복잡도상... 효율이 안좋을 듯.\n",
    "def solution(h):\n",
    "    ans = [0] * len(h)\n",
    "    for i in range(len(h)-1, 0, -1):\n",
    "        for j in range(i-1, -1, -1):\n",
    "            if h[i] < h[j]:\n",
    "                ans[i] = j+1\n",
    "                break\n",
    "    return ans\n"
   ]
  },
  {
   "cell_type": "markdown",
   "metadata": {},
   "source": [
    "## 배운점 "
   ]
  },
  {
   "cell_type": "markdown",
   "metadata": {},
   "source": [
    "1. deque.popleft() 메서드 \n",
    "2. deque.appendleft() 메서드 <br>\n",
    "    출처: [deque 메서드들](https://excelsior-cjh.tistory.com/96)\n",
    "3. for문 거꾸로 출력하는법 \n",
    "    ``` \n",
    "    for i in range(4,-1,-1):\n",
    "        # [4,3,2,1,0] 출력됨.\n",
    "4. 뽑아낸 곳의 인덱스 지정하는 법. \n",
    "    ```\n",
    "    deque.pop()\n",
    "    answer[len(deque)] = i\n",
    "    ```\n",
    "    "
   ]
  },
  {
   "cell_type": "markdown",
   "metadata": {},
   "source": [
    "# 프로그래머스, 다리를 지나는 트럭"
   ]
  },
  {
   "cell_type": "code",
   "execution_count": null,
   "metadata": {},
   "outputs": [],
   "source": [
    "def solution(bridge_length, weight, truck_weights):\n",
    "    answer = 0\n",
    "    return answer"
   ]
  },
  {
   "cell_type": "code",
   "execution_count": 151,
   "metadata": {},
   "outputs": [],
   "source": [
    "# 다리를 지나는 트럭, 1차시도\n",
    "bridge_length = 2\n",
    "weight = 10\n",
    "truck_weights = [7,4,5,6]"
   ]
  },
  {
   "cell_type": "code",
   "execution_count": 152,
   "metadata": {},
   "outputs": [],
   "source": [
    "# 다리를 지나는 트럭, 1차시도\n",
    "# 시간 초과뜸. 아마도 sum 때문인것 같다.\n",
    "from collections import deque\n",
    "\n",
    "def solution(bridge_length, weight, truck_weights):\n",
    "    truck_weights = deque(truck_weights)\n",
    "    process =  bridge_length * [0]\n",
    "    process = deque(process)\n",
    "    count = 0\n",
    "\n",
    "    while process:\n",
    "        count += 1\n",
    "        process.popleft()\n",
    "        if truck_weights:  \n",
    "            if sum(process) + truck_weights[0] <= weight:\n",
    "                process.append(truck_weights.popleft())\n",
    "            else:\n",
    "                process.append(0)\n",
    "    return count\n"
   ]
  },
  {
   "cell_type": "code",
   "execution_count": 153,
   "metadata": {
    "scrolled": true
   },
   "outputs": [
    {
     "data": {
      "text/plain": [
       "8"
      ]
     },
     "execution_count": 153,
     "metadata": {},
     "output_type": "execute_result"
    }
   ],
   "source": [
    "solution(bridge_length, weight, truck_weights)"
   ]
  },
  {
   "cell_type": "code",
   "execution_count": null,
   "metadata": {},
   "outputs": [],
   "source": [
    "# 다리를 지나는 트럭, 볼만한 풀이\n",
    "def solution(bridge_length, weight, truck_weights):\n",
    "    time = 1 \n",
    "    passing_truck= []\n",
    "    passed_truck= []\n",
    "    current_mass = 0\n",
    "    time_dic = {}\n",
    "\n",
    "    while True:\n",
    "        while truck_weights:\n",
    "            if weight >= current_mass + truck_weights[0]:\n",
    "                passing_truck.append(truck_weights.pop(0))\n",
    "                time_dic[time] = bridge_length + time \n",
    "                current_mass = sum(passing_truck)\n",
    "                break  \n",
    "            else :\n",
    "                break\n",
    "\n",
    "        time += 1\n",
    "\n",
    "        for out_time in time_dic:\n",
    "            if time_dic[out_time] == time:\n",
    "                passed_truck.append(passing_truck.pop(0))\n",
    "\n",
    "        current_mass = sum(passing_truck)\n",
    "\n",
    "        if passing_truck == [] and truck_weights== []:\n",
    "            break\n",
    "    return time\n"
   ]
  },
  {
   "cell_type": "code",
   "execution_count": null,
   "metadata": {},
   "outputs": [],
   "source": [
    "# 다리를 지나는 트럭, 볼만한 풀이 2\n",
    "def solution(bridge_length, weight, truck_weights):\n",
    "    t = 0\n",
    "    on = []  # (weight, stayed)\n",
    "    while truck_weights or on:\n",
    "        for i, e in enumerate(on):\n",
    "            on[i] = (e[0], e[1] + 1)\n",
    "        on = list(filter(lambda x: x[1] < bridge_length + 1, on))\n",
    "\n",
    "        weight_sum = 0\n",
    "        for e in on:\n",
    "            weight_sum += e[0]\n",
    "\n",
    "        if truck_weights:\n",
    "            if weight_sum + truck_weights[0] <= weight:\n",
    "                on.append((truck_weights.pop(0), 1))\n",
    "        t += 1\n",
    "        # print(str(t)+\":\"+str(on))\n",
    "    return t"
   ]
  },
  {
   "cell_type": "code",
   "execution_count": null,
   "metadata": {},
   "outputs": [],
   "source": [
    "ㄷㄷ 람다와 filter를 쓰다니.."
   ]
  }
 ],
 "metadata": {
  "kernelspec": {
   "display_name": "Python 3",
   "language": "python",
   "name": "python3"
  },
  "language_info": {
   "codemirror_mode": {
    "name": "ipython",
    "version": 3
   },
   "file_extension": ".py",
   "mimetype": "text/x-python",
   "name": "python",
   "nbconvert_exporter": "python",
   "pygments_lexer": "ipython3",
   "version": "3.7.4"
  }
 },
 "nbformat": 4,
 "nbformat_minor": 2
}
