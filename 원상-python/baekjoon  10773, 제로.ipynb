{
 "cells": [
  {
   "cell_type": "code",
   "execution_count": null,
   "metadata": {},
   "outputs": [],
   "source": [
    "# 10773번\n",
    "import queue as q \n",
    "\n",
    "num=int(input())\n",
    "data = q.LifoQueue() #스택 자료형 설정.\n",
    "sum_num = int(0) # int자료형에 초기값 0으로 지정.\n",
    "\n",
    "for i in range(num):\n",
    "    k = input()\n",
    "    if k == '0': \n",
    "        data.get() # 스택 출력\n",
    "    else:\n",
    "        data.put(k) # 스택 입력\n",
    "        \n",
    "while True:\n",
    "    if data.qsize() == 0:\n",
    "        break\n",
    "    else:\n",
    "        j = int(data.get())\n",
    "        sum_num = sum_num + j\n",
    "        \n",
    "print(sum_num)\n",
    "        "
   ]
  },
  {
   "cell_type": "code",
   "execution_count": null,
   "metadata": {},
   "outputs": [],
   "source": [
    "# 큐를 보는 방법\n",
    "d = data.queue\n",
    "print(d)\n"
   ]
  },
  {
   "cell_type": "code",
   "execution_count": null,
   "metadata": {},
   "outputs": [],
   "source": [
    "# 10773번 두번째 풀이 ( 리스트-pop 활용 )\n",
    "num = int(input())\n",
    "A = []\n",
    "for i in range(num):\n",
    "    data = int(input())\n",
    "    if data == 0:\n",
    "        A.pop()\n",
    "    else:\n",
    "        A.append(data)\n",
    "print(sum(A))"
   ]
  }
 ],
 "metadata": {
  "kernelspec": {
   "display_name": "Python 3",
   "language": "python",
   "name": "python3"
  },
  "language_info": {
   "codemirror_mode": {
    "name": "ipython",
    "version": 3
   },
   "file_extension": ".py",
   "mimetype": "text/x-python",
   "name": "python",
   "nbconvert_exporter": "python",
   "pygments_lexer": "ipython3",
   "version": "3.7.4"
  }
 },
 "nbformat": 4,
 "nbformat_minor": 2
}
