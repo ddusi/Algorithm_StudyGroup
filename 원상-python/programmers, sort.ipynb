{
 "cells": [
  {
   "cell_type": "code",
   "execution_count": null,
   "metadata": {},
   "outputs": [],
   "source": [
    "def solution(array, commands):\n",
    "    answer = []\n",
    "    return answer"
   ]
  },
  {
   "cell_type": "markdown",
   "metadata": {},
   "source": [
    "# K번째 수"
   ]
  },
  {
   "cell_type": "markdown",
   "metadata": {},
   "source": [
    "1. i~j번까지 끊어서 리스트로 저장해줌\n",
    "2. 정렬을함 \n",
    "3. k번째 수를 출력\n",
    "4. commands len()만큼 반복 \n",
    "5. 그 결과값을 리스트에 append(), 출력"
   ]
  },
  {
   "cell_type": "code",
   "execution_count": 125,
   "metadata": {},
   "outputs": [],
   "source": [
    "array = [1, 5, 2, 6, 3, 7, 4]\n",
    "commands = [[2, 5, 3], [4, 4, 1], [1, 7, 3]]\n",
    "answer = []"
   ]
  },
  {
   "cell_type": "code",
   "execution_count": 121,
   "metadata": {},
   "outputs": [
    {
     "data": {
      "text/plain": [
       "[5, 6, 3]"
      ]
     },
     "execution_count": 121,
     "metadata": {},
     "output_type": "execute_result"
    }
   ],
   "source": [
    "while commands:\n",
    "    command = commands.pop(0)\n",
    "    i = command.pop(0)\n",
    "    j = command.pop(0)\n",
    "    k = command.pop(0)\n",
    "    \n",
    "    new_array = array[i-1:j]\n",
    "    new_array.sort()\n",
    "    answer.append(new_array[k-1])\n",
    "answer"
   ]
  },
  {
   "cell_type": "code",
   "execution_count": 123,
   "metadata": {},
   "outputs": [
    {
     "data": {
      "text/plain": [
       "[5, 6, 3]"
      ]
     },
     "execution_count": 123,
     "metadata": {},
     "output_type": "execute_result"
    }
   ],
   "source": [
    "# 내 풀이\n",
    "def solution(array, commands):\n",
    "    answer = []\n",
    "    command = []\n",
    "    \n",
    "    while commands:\n",
    "        command = commands.pop(0)\n",
    "        i = command.pop(0)\n",
    "        j = command.pop(0)\n",
    "        k = command.pop(0)\n",
    "\n",
    "        new_array = array[i-1:j]\n",
    "        new_array.sort()\n",
    "        answer.append(new_array[k-1])\n",
    "        \n",
    "    return answer\n",
    "\n",
    "solution(array, commands)"
   ]
  },
  {
   "cell_type": "code",
   "execution_count": null,
   "metadata": {},
   "outputs": [],
   "source": [
    "# 다른사람 풀이\n",
    "def solution(array, commands):\n",
    "    answer = []\n",
    "    for command in commands:\n",
    "        i,j,k = command\n",
    "        answer.append(list(sorted(array[i-1:j]))[k-1])\n",
    "    return answer"
   ]
  },
  {
   "cell_type": "code",
   "execution_count": 126,
   "metadata": {},
   "outputs": [
    {
     "data": {
      "text/plain": [
       "[5, 6, 3]"
      ]
     },
     "execution_count": 126,
     "metadata": {},
     "output_type": "execute_result"
    }
   ],
   "source": [
    "def solution(array, commands):\n",
    "    answer = []\n",
    "    command = []\n",
    "    \n",
    "    while commands:\n",
    "        command = commands.pop(0)\n",
    "        i,j,k = command\n",
    "        \n",
    "        new_array = array[i-1:j]\n",
    "        new_array.sort()\n",
    "        answer.append(new_array[k-1])\n",
    "        \n",
    "    return answer\n",
    "\n",
    "solution(array, commands)"
   ]
  },
  {
   "cell_type": "markdown",
   "metadata": {},
   "source": [
    "# 가장 큰 수 "
   ]
  },
  {
   "cell_type": "code",
   "execution_count": 37,
   "metadata": {},
   "outputs": [
    {
     "ename": "SyntaxError",
     "evalue": "invalid syntax (<ipython-input-37-5d405c4b500b>, line 1)",
     "output_type": "error",
     "traceback": [
      "\u001b[1;36m  File \u001b[1;32m\"<ipython-input-37-5d405c4b500b>\"\u001b[1;36m, line \u001b[1;32m1\u001b[0m\n\u001b[1;33m    1. 일의자리 중 숫자가 제일 큰것,\u001b[0m\n\u001b[1;37m          ^\u001b[0m\n\u001b[1;31mSyntaxError\u001b[0m\u001b[1;31m:\u001b[0m invalid syntax\n"
     ]
    }
   ],
   "source": [
    "1. 일의자리 중 숫자가 제일 큰것,\n",
    "2. 배열을 이중 배열로 바꾼다."
   ]
  },
  {
   "cell_type": "code",
   "execution_count": 45,
   "metadata": {},
   "outputs": [],
   "source": [
    "nums = [6, 10, 2]\n",
    "numbers = []\n",
    "first = []"
   ]
  },
  {
   "cell_type": "code",
   "execution_count": 46,
   "metadata": {},
   "outputs": [],
   "source": [
    "# 이중 배열로 만들어 줌. \n",
    "for i in nums:\n",
    "    x = list(str(i))\n",
    "    if 1 == len(x):\n",
    "        numbers.append(i)\n",
    "    else:\n",
    "        numbers.append(x)\n",
    "\n",
    "for i in numbers:\n",
    "     \n",
    "    if type(i) == int:\n",
    "       \n",
    "        first.append(i)\n",
    "    else:\n",
    "        first.append(int(i[0]))\n",
    "        "
   ]
  },
  {
   "cell_type": "code",
   "execution_count": 50,
   "metadata": {},
   "outputs": [
    {
     "data": {
      "text/plain": [
       "[6, ['1', '0'], 2]"
      ]
     },
     "execution_count": 50,
     "metadata": {},
     "output_type": "execute_result"
    }
   ],
   "source": [
    "numbers"
   ]
  },
  {
   "cell_type": "code",
   "execution_count": 43,
   "metadata": {},
   "outputs": [],
   "source": [
    "k = ['1', '0']\n",
    "\n",
    "first.append(k[0])"
   ]
  },
  {
   "cell_type": "code",
   "execution_count": 47,
   "metadata": {},
   "outputs": [
    {
     "data": {
      "text/plain": [
       "[6, 1, 2]"
      ]
     },
     "execution_count": 47,
     "metadata": {},
     "output_type": "execute_result"
    }
   ],
   "source": [
    "first"
   ]
  },
  {
   "cell_type": "code",
   "execution_count": null,
   "metadata": {},
   "outputs": [],
   "source": []
  }
 ],
 "metadata": {
  "kernelspec": {
   "display_name": "Python 3",
   "language": "python",
   "name": "python3"
  },
  "language_info": {
   "codemirror_mode": {
    "name": "ipython",
    "version": 3
   },
   "file_extension": ".py",
   "mimetype": "text/x-python",
   "name": "python",
   "nbconvert_exporter": "python",
   "pygments_lexer": "ipython3",
   "version": "3.7.4"
  }
 },
 "nbformat": 4,
 "nbformat_minor": 2
}
