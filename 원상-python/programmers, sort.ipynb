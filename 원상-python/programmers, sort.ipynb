{
 "cells": [
  {
   "cell_type": "code",
   "execution_count": null,
   "metadata": {},
   "outputs": [],
   "source": [
    "def solution(array, commands):\n",
    "    answer = []\n",
    "    return answer"
   ]
  },
  {
   "cell_type": "markdown",
   "metadata": {},
   "source": [
    "# K번째 수"
   ]
  },
  {
   "cell_type": "markdown",
   "metadata": {},
   "source": [
    "1. i~j번까지 끊어서 리스트로 저장해줌\n",
    "2. 정렬을함 \n",
    "3. k번째 수를 출력\n",
    "4. commands len()만큼 반복 \n",
    "5. 그 결과값을 리스트에 append(), 출력"
   ]
  },
  {
   "cell_type": "code",
   "execution_count": 125,
   "metadata": {},
   "outputs": [],
   "source": [
    "array = [1, 5, 2, 6, 3, 7, 4]\n",
    "commands = [[2, 5, 3], [4, 4, 1], [1, 7, 3]]\n",
    "answer = []"
   ]
  },
  {
   "cell_type": "code",
   "execution_count": 121,
   "metadata": {},
   "outputs": [
    {
     "data": {
      "text/plain": [
       "[5, 6, 3]"
      ]
     },
     "execution_count": 121,
     "metadata": {},
     "output_type": "execute_result"
    }
   ],
   "source": [
    "while commands:\n",
    "    command = commands.pop(0)\n",
    "    i = command.pop(0)\n",
    "    j = command.pop(0)\n",
    "    k = command.pop(0)\n",
    "    \n",
    "    new_array = array[i-1:j]\n",
    "    new_array.sort()\n",
    "    answer.append(new_array[k-1])\n",
    "answer"
   ]
  },
  {
   "cell_type": "code",
   "execution_count": 123,
   "metadata": {},
   "outputs": [
    {
     "data": {
      "text/plain": [
       "[5, 6, 3]"
      ]
     },
     "execution_count": 123,
     "metadata": {},
     "output_type": "execute_result"
    }
   ],
   "source": [
    "# 내 풀이\n",
    "def solution(array, commands):\n",
    "    answer = []\n",
    "    command = []\n",
    "    \n",
    "    while commands:\n",
    "        command = commands.pop(0)\n",
    "        i = command.pop(0)\n",
    "        j = command.pop(0)\n",
    "        k = command.pop(0)\n",
    "\n",
    "        new_array = array[i-1:j]\n",
    "        new_array.sort()\n",
    "        answer.append(new_array[k-1])\n",
    "        \n",
    "    return answer\n",
    "\n",
    "solution(array, commands)"
   ]
  },
  {
   "cell_type": "code",
   "execution_count": null,
   "metadata": {},
   "outputs": [],
   "source": [
    "# 다른사람 풀이\n",
    "def solution(array, commands):\n",
    "    answer = []\n",
    "    for command in commands:\n",
    "        i,j,k = command\n",
    "        answer.append(list(sorted(array[i-1:j]))[k-1])\n",
    "    return answer"
   ]
  },
  {
   "cell_type": "code",
   "execution_count": 126,
   "metadata": {},
   "outputs": [
    {
     "data": {
      "text/plain": [
       "[5, 6, 3]"
      ]
     },
     "execution_count": 126,
     "metadata": {},
     "output_type": "execute_result"
    }
   ],
   "source": [
    "# 다른사람 풀이에 내것이랑 합침\n",
    "def solution(array, commands):\n",
    "    answer = []\n",
    "    command = []\n",
    "    \n",
    "    while commands:\n",
    "        command = commands.pop(0)\n",
    "        i,j,k = command\n",
    "        \n",
    "        new_array = array[i-1:j]\n",
    "        new_array.sort()\n",
    "        answer.append(new_array[k-1])\n",
    "        \n",
    "    return answer\n",
    "\n",
    "solution(array, commands)"
   ]
  },
  {
   "cell_type": "markdown",
   "metadata": {},
   "source": [
    "# 가장 큰 수 "
   ]
  },
  {
   "cell_type": "code",
   "execution_count": 37,
   "metadata": {},
   "outputs": [
    {
     "ename": "SyntaxError",
     "evalue": "invalid syntax (<ipython-input-37-5d405c4b500b>, line 1)",
     "output_type": "error",
     "traceback": [
      "\u001b[1;36m  File \u001b[1;32m\"<ipython-input-37-5d405c4b500b>\"\u001b[1;36m, line \u001b[1;32m1\u001b[0m\n\u001b[1;33m    1. 일의자리 중 숫자가 제일 큰것,\u001b[0m\n\u001b[1;37m          ^\u001b[0m\n\u001b[1;31mSyntaxError\u001b[0m\u001b[1;31m:\u001b[0m invalid syntax\n"
     ]
    }
   ],
   "source": [
    "1. 일의자리와 10의자리, 100의자리 각 자리수별로 list를 분리한다. \n",
    "2. 각 자리별 첫번째 숫자가 제일 큰것을 체크한후 맨 앞자리로 넣는다. "
   ]
  },
  {
   "cell_type": "code",
   "execution_count": 175,
   "metadata": {
    "scrolled": false
   },
   "outputs": [
    {
     "name": "stdout",
     "output_type": "stream",
     "text": [
      "[0, 0] [0, 0] [0, 0] []\n"
     ]
    }
   ],
   "source": [
    "nums = [6, 10, 2, 62]\n",
    "answer, one, ten, hundred, thousand   = [],[],[],[],[]\n",
    "\n",
    "# 자리 재배치\n",
    "for i in nums:\n",
    "    if i < 10: \n",
    "        one.append(i*100)\n",
    "    elif i < 100:\n",
    "        ten.append(i*10)\n",
    "    elif i <1000:\n",
    "        hundred.append(i)\n",
    "    else:\n",
    "        thousand.append(i)\n",
    "\n",
    "# 각 자리별 정렬 \n",
    "one.sort(reverse=True)\n",
    "ten.sort(reverse=True)\n",
    "hundred.sort(reverse=True)\n",
    "thousand.sort(reverse=True)\n",
    "\n",
    "# 각 인덱스 자릿수 맞춰야함.\n",
    "len_total = len(one)+len(ten)+len(hundred)\n",
    "L = (max([len(one), len(ten), len(hundred)]))\n",
    "if len(one) != L:\n",
    "    for i in range(L - len(one)):\n",
    "        one.append(0)\n",
    "elif len(ten) != L:\n",
    "    for i in range(L - len(ten)):\n",
    "        ten.append(0)\n",
    "elif len(hundred) != L:\n",
    "    for i in range(L - len(hundred)):\n",
    "        hundred.append(0)\n",
    "\n",
    "# 각 앞자리의 1의자리를 비교해보고 리스트에 넣는다. \n",
    "for i in range(len_total):\n",
    "    if hundred[0] > ten[0]:              # 100의자리가 더 크다\n",
    "        answer.append(hundred[0])\n",
    "    elif ten[0] > one[0]:                #10의 자리가 더 크다\n",
    "        answer.append(ten[0]//10)\n",
    "        ten.remove(ten[0])\n",
    "        ten.append(0)\n",
    "    else:                                #1의 자리가 더 크다\n",
    "        answer.append(one[0]//100)\n",
    "        one.remove(one[0])\n",
    "        one.append(0)\n",
    "print(one, ten, hundred, thousand)"
   ]
  },
  {
   "cell_type": "code",
   "execution_count": 176,
   "metadata": {},
   "outputs": [
    {
     "data": {
      "text/plain": [
       "[62, 6, 2, 10]"
      ]
     },
     "execution_count": 176,
     "metadata": {},
     "output_type": "execute_result"
    }
   ],
   "source": [
    "answer"
   ]
  },
  {
   "cell_type": "code",
   "execution_count": 155,
   "metadata": {},
   "outputs": [
    {
     "data": {
      "text/plain": [
       "[2, 2, 0]"
      ]
     },
     "execution_count": 155,
     "metadata": {},
     "output_type": "execute_result"
    }
   ],
   "source": [
    "nums = [6, 10, 2, 62]\n",
    "answer, one, ten, hundred, thousand   = [],[],[],[],[]\n",
    "\n",
    "# 자리 재배치\n",
    "for i in nums:\n",
    "    if i < 10: \n",
    "        one.append(i*100)\n",
    "    elif i < 100:\n",
    "        ten.append(i*10)\n",
    "    elif i <1000:\n",
    "        hundred.append(i)\n",
    "    else:\n",
    "        thousand.append(i)\n",
    "\n",
    "# 각 자리별 정렬 \n",
    "one.sort(reverse=True)\n",
    "ten.sort(reverse=True)\n",
    "hundred.sort(reverse=True)\n",
    "thousand.sort(reverse=True)\n",
    "\n",
    "# 각 인덱스 자릿수 맞춰야함.\n",
    "len_total = len(one)+len(ten)+len(hundred)\n",
    "L = (max([len(one), len(ten), len(hundred)]))\n",
    "if len(one) != L:\n",
    "    for i in range(L - len(one)):\n",
    "        one.append(0)\n",
    "elif len(ten) != L:\n",
    "    for i in range(L - len(ten)):\n",
    "        ten.append(0)\n",
    "elif len(hundred) != L:\n",
    "    for i in range(L - len(hundred)):\n",
    "        hundred.append(0)\n",
    "\n",
    "# 각 앞자리의 1의자리를 비교해보고 리스트에 넣는다. \n",
    "for i in range(len_total):\n",
    "    if hundred[0] > ten[0]:              # 100의자리가 더 크다\n",
    "        if list(str(hundred[0]))[0] == list(str(ten[0]))[0]:\n",
    "            \n",
    "        answer.append(hundred[0])\n",
    "    elif ten[0] > one[0]:                #10의 자리가 더 크다\n",
    "        answer.append(ten[0]//10)\n",
    "        ten.remove(ten[0])\n",
    "        ten.append(0)\n",
    "    else:                                #1의 자리가 더 크다\n",
    "        answer.append(one[0]//100)\n",
    "        one.remove(one[0])\n",
    "        one.append(0)\n",
    "print(one, ten, hundred, thousand)"
   ]
  },
  {
   "cell_type": "code",
   "execution_count": 181,
   "metadata": {},
   "outputs": [],
   "source": [
    "hundred[0] = 242"
   ]
  },
  {
   "cell_type": "code",
   "execution_count": 183,
   "metadata": {
    "scrolled": false
   },
   "outputs": [
    {
     "data": {
      "text/plain": [
       "'2'"
      ]
     },
     "execution_count": 183,
     "metadata": {},
     "output_type": "execute_result"
    }
   ],
   "source": [
    "list(str(hundred[0]))[0]"
   ]
  },
  {
   "cell_type": "code",
   "execution_count": 185,
   "metadata": {},
   "outputs": [],
   "source": [
    "ten, one, hundred = [],[],[]"
   ]
  },
  {
   "cell_type": "code",
   "execution_count": 186,
   "metadata": {
    "scrolled": true
   },
   "outputs": [],
   "source": [
    "while ten and one and hundred:\n",
    "    print(\"True\")"
   ]
  },
  {
   "cell_type": "code",
   "execution_count": 190,
   "metadata": {},
   "outputs": [],
   "source": [
    "nums = [6, 10, 2, 62]"
   ]
  },
  {
   "cell_type": "code",
   "execution_count": 3,
   "metadata": {},
   "outputs": [
    {
     "name": "stdout",
     "output_type": "stream",
     "text": [
      "[600, 200] [620, 100] [0, 0]\n"
     ]
    }
   ],
   "source": [
    "nums = [6, 10, 2, 62]\n",
    "answer, one, ten, hundred, thousand   = [],[],[],[],[]\n",
    "\n",
    "# 자리 재배치\n",
    "for i in nums:\n",
    "    if i < 10: \n",
    "        one.append(i*100)\n",
    "    elif i < 100:\n",
    "        ten.append(i*10)\n",
    "    elif i <1000:\n",
    "        hundred.append(i)\n",
    "    else:\n",
    "        thousand.append(i)\n",
    "\n",
    "# 각 자리별 정렬 \n",
    "one.sort(reverse=True)\n",
    "ten.sort(reverse=True)\n",
    "hundred.sort(reverse=True)\n",
    "thousand.sort(reverse=True)\n",
    "\n",
    "# 각 인덱스 자릿수 맞춰야함.\n",
    "len_total = len(one)+len(ten)+len(hundred)\n",
    "L = (max([len(one), len(ten), len(hundred)]))\n",
    "if len(one) != L:\n",
    "    for i in range(L - len(one)):\n",
    "        one.append(0)\n",
    "elif len(ten) != L:\n",
    "    for i in range(L - len(ten)):\n",
    "        ten.append(0)\n",
    "elif len(hundred) != L:\n",
    "    for i in range(L - len(hundred)):\n",
    "        hundred.append(0)\n",
    "print(one, ten, hundred)"
   ]
  },
  {
   "cell_type": "code",
   "execution_count": 7,
   "metadata": {},
   "outputs": [
    {
     "ename": "KeyboardInterrupt",
     "evalue": "",
     "output_type": "error",
     "traceback": [
      "\u001b[1;31m---------------------------------------------------------------------------\u001b[0m",
      "\u001b[1;31mKeyboardInterrupt\u001b[0m                         Traceback (most recent call last)",
      "\u001b[1;32m<ipython-input-7-a33b0f06d8a7>\u001b[0m in \u001b[0;36m<module>\u001b[1;34m\u001b[0m\n\u001b[1;32m----> 1\u001b[1;33m \u001b[1;32mwhile\u001b[0m \u001b[0mone\u001b[0m \u001b[1;32mand\u001b[0m \u001b[0mten\u001b[0m \u001b[1;32mand\u001b[0m \u001b[0mhundred\u001b[0m\u001b[1;33m:\u001b[0m\u001b[1;33m\u001b[0m\u001b[1;33m\u001b[0m\u001b[0m\n\u001b[0m\u001b[0;32m      2\u001b[0m     \u001b[1;32mif\u001b[0m \u001b[0mone\u001b[0m\u001b[1;33m[\u001b[0m\u001b[1;36m0\u001b[0m\u001b[1;33m]\u001b[0m \u001b[1;33m<\u001b[0m \u001b[0mten\u001b[0m\u001b[1;33m[\u001b[0m\u001b[1;36m0\u001b[0m\u001b[1;33m]\u001b[0m\u001b[1;33m:\u001b[0m\u001b[1;33m\u001b[0m\u001b[1;33m\u001b[0m\u001b[0m\n\u001b[0;32m      3\u001b[0m         \u001b[1;32mif\u001b[0m \u001b[0mlist\u001b[0m\u001b[1;33m(\u001b[0m\u001b[0mstr\u001b[0m\u001b[1;33m(\u001b[0m\u001b[0mone\u001b[0m\u001b[1;33m[\u001b[0m\u001b[1;36m0\u001b[0m\u001b[1;33m]\u001b[0m\u001b[1;33m)\u001b[0m\u001b[1;33m)\u001b[0m\u001b[1;33m[\u001b[0m\u001b[1;36m0\u001b[0m\u001b[1;33m]\u001b[0m \u001b[1;33m==\u001b[0m \u001b[0mlist\u001b[0m\u001b[1;33m(\u001b[0m\u001b[0mstr\u001b[0m\u001b[1;33m(\u001b[0m\u001b[0mten\u001b[0m\u001b[1;33m[\u001b[0m\u001b[1;36m0\u001b[0m\u001b[1;33m]\u001b[0m\u001b[1;33m)\u001b[0m\u001b[1;33m)\u001b[0m\u001b[1;33m[\u001b[0m\u001b[1;36m0\u001b[0m\u001b[1;33m]\u001b[0m\u001b[1;33m:\u001b[0m\u001b[1;33m\u001b[0m\u001b[1;33m\u001b[0m\u001b[0m\n\u001b[0;32m      4\u001b[0m             \u001b[0manswer\u001b[0m\u001b[1;33m.\u001b[0m\u001b[0mappend\u001b[0m\u001b[1;33m(\u001b[0m\u001b[0mone\u001b[0m\u001b[1;33m.\u001b[0m\u001b[0mpop\u001b[0m\u001b[1;33m(\u001b[0m\u001b[1;36m0\u001b[0m\u001b[1;33m)\u001b[0m\u001b[1;33m)\u001b[0m\u001b[1;33m\u001b[0m\u001b[1;33m\u001b[0m\u001b[0m\n\u001b[0;32m      5\u001b[0m         \u001b[1;32melse\u001b[0m\u001b[1;33m:\u001b[0m\u001b[1;33m\u001b[0m\u001b[1;33m\u001b[0m\u001b[0m\n",
      "\u001b[1;31mKeyboardInterrupt\u001b[0m: "
     ]
    }
   ],
   "source": [
    "while one and ten and hundred:\n",
    "    if one[0] < ten[0]:\n",
    "        if list(str(one[0]))[0] == list(str(ten[0]))[0]:\n",
    "            answer.append(one.pop(0))\n",
    "        else:\n",
    "            answer.append(ten.pop(0))\n",
    "            \n",
    "    elif ten[0] < hundred[0]:\n",
    "        if list(str(ten[0]))[0] == list(str(hundred[0]))[0]:\n",
    "            answer.append(ten.pop(0))\n",
    "        else:\n",
    "            answer.append(hundred.pop(0))\n",
    "\n",
    "    elif hundred[0] >= ten[0] and hundred[0] >= one[0]:\n",
    "        answer.appned(hundred.pop(0))\n",
    "        "
   ]
  },
  {
   "cell_type": "code",
   "execution_count": null,
   "metadata": {},
   "outputs": [],
   "source": [
    "answer"
   ]
  },
  {
   "cell_type": "code",
   "execution_count": null,
   "metadata": {},
   "outputs": [],
   "source": [
    "print(list(answer))  "
   ]
  },
  {
   "cell_type": "code",
   "execution_count": 203,
   "metadata": {
    "scrolled": true
   },
   "outputs": [
    {
     "data": {
      "text/plain": [
       "[10]"
      ]
     },
     "execution_count": 203,
     "metadata": {},
     "output_type": "execute_result"
    }
   ],
   "source": [
    "answer = []\n",
    "one=[10]\n",
    "answer.append(one.pop(0))\n",
    "\n",
    "answer\n"
   ]
  },
  {
   "cell_type": "code",
   "execution_count": null,
   "metadata": {},
   "outputs": [],
   "source": [
    "666 620 640 600 \n",
    "1. 600이랑 640 이랑 비교해서 더 큰값을 append 근데 만약 6 = 6이라면, 600을 넣는다. True 값 \n",
    "2. elif 690 이랑 666 비교해서 더 큰 값을 append 근데 6=6 이라면, 690을 넣는다. True 값\n",
    "3. elif 666을 넣는다. "
   ]
  },
  {
   "cell_type": "code",
   "execution_count": 156,
   "metadata": {},
   "outputs": [
    {
     "name": "stdout",
     "output_type": "stream",
     "text": [
      "2\n"
     ]
    }
   ],
   "source": [
    "answer"
   ]
  },
  {
   "cell_type": "code",
   "execution_count": null,
   "metadata": {},
   "outputs": [],
   "source": [
    "# 각 앞자리의 1의자리를 비교해보고 리스트에 넣는다. \n",
    "for i in range(2):\n",
    "    if hundred[i] > ten[i]:              # 100의자리가 더 크다\n",
    "        answer.append(hundred[i])\n",
    "    elif ten[0] > one[0]:                #10의 자리가 더 크다\n",
    "        answer.append(ten[i]/10)\n",
    "    else:                                #1의 자리가 더 크다\n",
    "        answer.append(ten[i]/100)\n",
    "\n",
    "    print(one, ten, hundred, thousand)\n",
    "    \n",
    "# 각 인덱스 자릿수 맞춰야함.\n",
    "print(max([len(one), len(ten), len(hundred)]))"
   ]
  },
  {
   "cell_type": "code",
   "execution_count": 45,
   "metadata": {},
   "outputs": [],
   "source": [
    "nums = [6, 10, 2]\n",
    "numbers = []\n",
    "first = []"
   ]
  },
  {
   "cell_type": "code",
   "execution_count": 138,
   "metadata": {},
   "outputs": [],
   "source": [
    "nums = [6, 10, 2]\n",
    "nums = list(map(str, nums))"
   ]
  },
  {
   "cell_type": "code",
   "execution_count": 140,
   "metadata": {},
   "outputs": [
    {
     "data": {
      "text/plain": [
       "'6102'"
      ]
     },
     "execution_count": 140,
     "metadata": {},
     "output_type": "execute_result"
    }
   ],
   "source": [
    "for i in range()\n",
    "numbers.append(\"\".join(nums))"
   ]
  },
  {
   "cell_type": "code",
   "execution_count": 46,
   "metadata": {},
   "outputs": [],
   "source": [
    "# 이중 배열로 만들어 줌. \n",
    "for i in nums:\n",
    "    x = list(str(i))\n",
    "    if 1 == len(x):\n",
    "        numbers.append(i)\n",
    "    else:\n",
    "        numbers.append(x)\n",
    "\n",
    "for i in numbers:\n",
    "     \n",
    "    if type(i) == int:\n",
    "       \n",
    "        first.append(i)\n",
    "    else:\n",
    "        first.append(int(i[0]))\n",
    "        "
   ]
  },
  {
   "cell_type": "code",
   "execution_count": 50,
   "metadata": {},
   "outputs": [
    {
     "data": {
      "text/plain": [
       "[6, ['1', '0'], 2]"
      ]
     },
     "execution_count": 50,
     "metadata": {},
     "output_type": "execute_result"
    }
   ],
   "source": [
    "numbers"
   ]
  },
  {
   "cell_type": "code",
   "execution_count": 43,
   "metadata": {},
   "outputs": [],
   "source": [
    "k = ['1', '0']\n",
    "\n",
    "first.append(k[0])"
   ]
  },
  {
   "cell_type": "code",
   "execution_count": 47,
   "metadata": {},
   "outputs": [
    {
     "data": {
      "text/plain": [
       "[6, 1, 2]"
      ]
     },
     "execution_count": 47,
     "metadata": {},
     "output_type": "execute_result"
    }
   ],
   "source": [
    "first"
   ]
  },
  {
   "cell_type": "code",
   "execution_count": null,
   "metadata": {},
   "outputs": [],
   "source": []
  }
 ],
 "metadata": {
  "kernelspec": {
   "display_name": "Python 3",
   "language": "python",
   "name": "python3"
  },
  "language_info": {
   "codemirror_mode": {
    "name": "ipython",
    "version": 3
   },
   "file_extension": ".py",
   "mimetype": "text/x-python",
   "name": "python",
   "nbconvert_exporter": "python",
   "pygments_lexer": "ipython3",
   "version": "3.7.4"
  }
 },
 "nbformat": 4,
 "nbformat_minor": 2
}
