{
 "cells": [
  {
   "cell_type": "code",
   "execution_count": 15,
   "metadata": {},
   "outputs": [
    {
     "name": "stdout",
     "output_type": "stream",
     "text": [
      ".F.F...F\n",
      "F...F.F.\n",
      "...F.F.F\n",
      "F.F...F.\n",
      ".F...F..\n",
      "F...F.F.\n",
      ".F.F.F.F\n",
      "..FF..F.\n"
     ]
    }
   ],
   "source": [
    "# 백준 1100번, \n",
    "# 홀수 안에 F가 있는것을 찾아야한다. \n",
    "def solution(data, search):\n",
    "    indexs = [0,2,4,6]\n",
    "    indexs2 = [1,3,5,7]\n",
    "    count = 0\n",
    "    for x in indexs:\n",
    "        for y in indexs:\n",
    "            if data[x][y] == search:\n",
    "                count += 1\n",
    "\n",
    "    for x in indexs2:\n",
    "        for y in indexs2:\n",
    "            if data[x][y] == search:\n",
    "                count += 1\n",
    "    return count\n",
    "\n",
    "n = []\n",
    "n_list = []\n",
    "for i in range(8):\n",
    "    n=list(input())\n",
    "    n_list.append(n)\n",
    "    \n",
    "print(solution(n_list, 'F'))\n"
   ]
  },
  {
   "cell_type": "code",
   "execution_count": 78,
   "metadata": {
    "scrolled": true
   },
   "outputs": [
    {
     "name": "stdout",
     "output_type": "stream",
     "text": [
      "5\n",
      "1 1 1 6 0\n",
      "2 7 8 3 1\n",
      "18\n"
     ]
    }
   ],
   "source": [
    "# 백준 1026번, 틀렸다고 뜨는데 왜 그런지 모르겠음.\n",
    "def Sol(data,b):\n",
    "    sum_data = 0\n",
    "    for i in b:\n",
    "        sum_data += data[i]*i\n",
    "    return sum_data\n",
    "\n",
    "n = int(input())\n",
    "a = list(map(int, input().split()))\n",
    "b = list(map(int, input().split()))\n",
    "b_copy = list(b)\n",
    "\n",
    "a.sort()\n",
    "b_copy.sort(reverse=True)\n",
    "\n",
    "dict_b={}\n",
    "for i in range(len(a)):\n",
    "    dict_b[b_copy[i]] = a[i]\n",
    "\n",
    "print(Sol(dict_b,b))"
   ]
  },
  {
   "cell_type": "code",
   "execution_count": 80,
   "metadata": {},
   "outputs": [
    {
     "name": "stdout",
     "output_type": "stream",
     "text": [
      "18\n"
     ]
    }
   ],
   "source": [
    "print(S(dict_b,b))"
   ]
  },
  {
   "cell_type": "code",
   "execution_count": null,
   "metadata": {},
   "outputs": [],
   "source": []
  },
  {
   "cell_type": "code",
   "execution_count": null,
   "metadata": {},
   "outputs": [],
   "source": []
  }
 ],
 "metadata": {
  "kernelspec": {
   "display_name": "Python 3",
   "language": "python",
   "name": "python3"
  },
  "language_info": {
   "codemirror_mode": {
    "name": "ipython",
    "version": 3
   },
   "file_extension": ".py",
   "mimetype": "text/x-python",
   "name": "python",
   "nbconvert_exporter": "python",
   "pygments_lexer": "ipython3",
   "version": "3.7.4"
  }
 },
 "nbformat": 4,
 "nbformat_minor": 2
}
