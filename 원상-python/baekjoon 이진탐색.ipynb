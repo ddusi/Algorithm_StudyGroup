{
 "cells": [
  {
   "cell_type": "code",
   "execution_count": null,
   "metadata": {},
   "outputs": [],
   "source": [
    "# 백준 2869번, 1차시도 시간초과\n",
    "a,b,v = map(int, input().split())\n",
    "\n",
    "def keepgoing(a,b,v):\n",
    "    now = 0\n",
    "    count = 0\n",
    "    while True:\n",
    "        count += 1\n",
    "        now += a\n",
    "        if now >= v:\n",
    "            break\n",
    "        now -= b \n",
    "        \n",
    "    return count \n",
    "\n",
    "keepgoing(a, b, v)"
   ]
  },
  {
   "cell_type": "code",
   "execution_count": null,
   "metadata": {},
   "outputs": [],
   "source": [
    "# 백준 2869번, 2차시도\n",
    "\n",
    "a,b,v = map(int, input().split())\n",
    "now=0\n",
    "if (v-b) % (a-b) != 0:\n",
    "    now = ((v-b)//(a-b)) + 1\n",
    "else:\n",
    "    now = ((v-b)//(a-b))\n",
    "    \n",
    "print (now)"
   ]
  },
  {
   "cell_type": "code",
   "execution_count": null,
   "metadata": {},
   "outputs": [],
   "source": [
    "# 백준 1920번, 1차시도. 시간초과 뜸 ㅠ\n",
    "def binary_search (data, search):\n",
    "    #데이터 길이가 1일때, 아닐때, 0일때\n",
    "    if len(data) == 1:\n",
    "        if data[0] == search:\n",
    "            return 1\n",
    "        else:\n",
    "            return 0\n",
    "    if len(data) == 0:\n",
    "        return 0\n",
    "    \n",
    "    # 중간값 \n",
    "    medium = len(data) // 2\n",
    "    if search == data[medium]:\n",
    "        return 1 \n",
    "    if search > data[medium]:\n",
    "        return binary_search(data[medium:], search)\n",
    "    else:\n",
    "        return binary_search(data[:medium], search) \n",
    "    \n",
    "n = int(input())\n",
    "n_list = list(map(int, input().split()))\n",
    "n_list.sort()\n",
    "m = int(input())\n",
    "m_list = list(map(int, input().split()))\n",
    "\n",
    "\n",
    "for i in m_list:\n",
    "    print(binary_search(n_list, i))"
   ]
  },
  {
   "cell_type": "code",
   "execution_count": null,
   "metadata": {},
   "outputs": [],
   "source": []
  },
  {
   "cell_type": "code",
   "execution_count": null,
   "metadata": {},
   "outputs": [],
   "source": []
  },
  {
   "cell_type": "code",
   "execution_count": null,
   "metadata": {},
   "outputs": [],
   "source": []
  }
 ],
 "metadata": {
  "kernelspec": {
   "display_name": "Python 3",
   "language": "python",
   "name": "python3"
  },
  "language_info": {
   "codemirror_mode": {
    "name": "ipython",
    "version": 3
   },
   "file_extension": ".py",
   "mimetype": "text/x-python",
   "name": "python",
   "nbconvert_exporter": "python",
   "pygments_lexer": "ipython3",
   "version": "3.7.4"
  }
 },
 "nbformat": 4,
 "nbformat_minor": 2
}
