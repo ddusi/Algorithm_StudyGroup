{
 "cells": [
  {
   "cell_type": "markdown",
   "metadata": {},
   "source": [
    "# Heap 자료구조"
   ]
  },
  {
   "cell_type": "code",
   "execution_count": null,
   "metadata": {},
   "outputs": [],
   "source": [
    "부모 노드 인덱스 번호 (parent node's index)\n",
    "                = 자식 노드 인덱스 번호 (child node's index) // 2\n",
    "왼쪽 자식 노드 인덱스 번호 (left child node's index) \n",
    "                = 부모 노드 인덱스 번호 (parent node's index) * 2\n",
    "오른쪽 자식 노드 인덱스 번호 (right child node's index) \n",
    "                = 부모 노드 인덱스 번호 (parent node's index) * 2 + 1"
   ]
  },
  {
   "cell_type": "code",
   "execution_count": 3,
   "metadata": {},
   "outputs": [],
   "source": [
    "# 힙 구현해보기 swap 구현\n",
    "\n",
    "class Heap:\n",
    "    def __init__(self, data):\n",
    "        self.heap_array = list()\n",
    "        self.heap_array.append(None) # 인덱스 번호는 1번부터\n",
    "        self.heap_array.append(data)\n",
    "\n",
    "    def move_up(self, inserted_idx):\n",
    "        if inserted_idx <= 1:\n",
    "            return False\n",
    "        parent_idx = inserted_idx // 2\n",
    "        if self.heap_array[inserted_idx] > self.heap_array[parent_idx]:\n",
    "            return True\n",
    "        else:\n",
    "            return False\n",
    "\n",
    "    def insert(self, data):\n",
    "        if len(self.heap_array) == 1:\n",
    "            self.heap_array.append(data)\n",
    "            return True\n",
    "        \n",
    "        self.heap_array.append(data)\n",
    "        inserted_idx = len(self.heap_array) - 1\n",
    "        \n",
    "        while self.move_up(inserted_idx):\n",
    "            parent_idx = inserted_idx // 2\n",
    "            self.heap_array[inserted_idx], self.heap_array[parent_idx] = self.heap_array[parent_idx], self.heap_array[inserted_idx]\n",
    "            inserted_idx = parent_idx\n",
    "            \n",
    "        return True"
   ]
  },
  {
   "cell_type": "code",
   "execution_count": 5,
   "metadata": {},
   "outputs": [
    {
     "data": {
      "text/plain": [
       "[None, 20, 10, 15, 5, 4, 8]"
      ]
     },
     "execution_count": 5,
     "metadata": {},
     "output_type": "execute_result"
    }
   ],
   "source": [
    "# 구현한 최대 힙 사용하기\n",
    "\n",
    "heap = Heap(15)\n",
    "heap.insert(10)\n",
    "heap.insert(8)\n",
    "heap.insert(5)\n",
    "heap.insert(4)\n",
    "heap.insert(20)\n",
    "heap.heap_array"
   ]
  },
  {
   "cell_type": "code",
   "execution_count": null,
   "metadata": {},
   "outputs": [],
   "source": [
    "# 힙 구현해보기 delete 구현!\n",
    "\n",
    "class Heap:\n",
    "    def __init__(self, data):\n",
    "        self.heap_array = list()\n",
    "        self.heap_array.append(None) # 인덱스 번호는 1번부터\n",
    "        self.heap_array.append(data)\n",
    "\n",
    "    def pop(self):\n",
    "        if len(self.heap_array) <= 1:\n",
    "            return None\n",
    "        \n",
    "        returned_data = self.heap_array[1]\n",
    "        return returned_data"
   ]
  },
  {
   "cell_type": "code",
   "execution_count": 6,
   "metadata": {},
   "outputs": [],
   "source": [
    "class Heap:\n",
    "    def __init__(self, data):\n",
    "        self.heap_array = list()\n",
    "        self.heap_array.append(None) # 인덱스 번호는 1번부터\n",
    "        self.heap_array.append(data)\n",
    "\n",
    "    def move_down(self, popped_idx):\n",
    "        left_child_popped_idx = popped_idx * 2\n",
    "        right_child_popped_idx = popped_idx * 2 + 1\n",
    "        if left_child_popped_idx >= len(self.heap_array):\n",
    "            return False\n",
    "        elif right_child_popped_idx >= len(self.heap_array):\n",
    "            if self.heap_array[popped_idx] < self.heap_array[left_child_popped_idx]:\n",
    "                return True\n",
    "            else:\n",
    "                return False\n",
    "        else:\n",
    "            if self.heap_array[left_child_popped_idx] > self.heap_array[right_child_popped_idx]:\n",
    "                if self.heap_array[popped_idx] < self.heap_array[left_child_popped_idx]:\n",
    "                    return True\n",
    "                else:\n",
    "                    return False\n",
    "            else:\n",
    "                if self.heap_array[popped_idx] < self.heap_array[right_child_popped_idx]:\n",
    "                    return True\n",
    "                else:\n",
    "                    return False\n",
    "        \n",
    "    def pop(self):\n",
    "        if len(self.heap_array) <= 1:\n",
    "            return None\n",
    "        \n",
    "        returned_data = self.heap_array[1]\n",
    "        self.heap_array[1] = self.heap_array[-1]\n",
    "        del self.heap_array[-1]\n",
    "        popped_idx = 1\n",
    "        \n",
    "        while self.move_down(popped_idx):\n",
    "            left_child_popped_idx = popped_idx * 2\n",
    "            right_child_popped_idx = popped_idx * 2 + 1\n",
    "            if right_child_popped_idx >= len(self.heap_array):\n",
    "                self.heap_array[popped_idx], self.heap_array[left_child_popped_idx] = self.heap_array[left_child_popped_idx], self.heap_array[popped_idx]\n",
    "                poppoed_idx = left_child_popped_idx\n",
    "            else:\n",
    "                if self.heap_array[left_child_popped_idx] > self.heap_array[right_child_popped_idx]:\n",
    "                    self.heap_array[popped_idx], self.heap_array[left_child_popped_idx] = self.heap_array[left_child_popped_idx], self.heap_array[popped_idx]\n",
    "                    poppoed_idx = left_child_popped_idx\n",
    "                else:\n",
    "                    self.heap_array[popped_idx], self.heap_array[right_child_popped_idx] = self.heap_array[right_child_popped_idx], self.heap_array[popped_idx]\n",
    "                    poppoed_idx = right_child_popped_idx\n",
    "        \n",
    "        return returned_data\n",
    "    \n",
    "    \n",
    "    def move_up(self, inserted_idx):\n",
    "        if inserted_idx <= 1:\n",
    "            return False\n",
    "        parent_idx = inserted_idx // 2\n",
    "        if self.heap_array[inserted_idx] > self.heap_array[parent_idx]:\n",
    "            return True\n",
    "        else:\n",
    "            return False\n",
    "\n",
    "    def insert(self, data):\n",
    "        if len(self.heap_array) == 1:\n",
    "            self.heap_array.append(data)\n",
    "            return True\n",
    "        \n",
    "        self.heap_array.append(data)\n",
    "        inserted_idx = len(self.heap_array) - 1\n",
    "        \n",
    "        while self.move_up(inserted_idx):\n",
    "            parent_idx = inserted_idx // 2\n",
    "            self.heap_array[inserted_idx], self.heap_array[parent_idx] = self.heap_array[parent_idx], self.heap_array[inserted_idx]\n",
    "            inserted_idx = parent_idx\n",
    "        return True"
   ]
  },
  {
   "cell_type": "code",
   "execution_count": 7,
   "metadata": {},
   "outputs": [
    {
     "data": {
      "text/plain": [
       "[None, 20, 10, 15, 5, 4, 8]"
      ]
     },
     "execution_count": 7,
     "metadata": {},
     "output_type": "execute_result"
    }
   ],
   "source": [
    "heap = Heap(15)\n",
    "heap.insert(10)\n",
    "heap.insert(8)\n",
    "heap.insert(5)\n",
    "heap.insert(4)\n",
    "heap.insert(20)\n",
    "heap.heap_array"
   ]
  },
  {
   "cell_type": "code",
   "execution_count": 8,
   "metadata": {},
   "outputs": [
    {
     "data": {
      "text/plain": [
       "20"
      ]
     },
     "execution_count": 8,
     "metadata": {},
     "output_type": "execute_result"
    }
   ],
   "source": [
    "heap.pop()"
   ]
  },
  {
   "cell_type": "code",
   "execution_count": 9,
   "metadata": {
    "scrolled": true
   },
   "outputs": [
    {
     "data": {
      "text/plain": [
       "[None, 15, 10, 8, 5, 4]"
      ]
     },
     "execution_count": 9,
     "metadata": {},
     "output_type": "execute_result"
    }
   ],
   "source": [
    "heap.heap_array\n"
   ]
  },
  {
   "cell_type": "markdown",
   "metadata": {},
   "source": [
    "## 힙 (Heap) 시간 복잡도\n",
    "\n",
    "- depth (트리의 높이) 를 h라고 표기한다면,\n",
    "- n개의 노드를 가지는 heap 에 데이터 삽입 또는 삭제시,\n",
    "- 최악의 경우 root 노드에서 leaf 노드까지 비교해야 하므로 h=log2n 에 가까우므로,\n",
    "- 시간 복잡도는 O(logn)\n",
    "\n",
    "\n",
    "- 참고: 빅오 표기법에서 logn 에서의 log의 밑은 10이 아니라, 2입니다.\n",
    "- 한번 실행시마다, 50%의 실행할 수도 있는 명령을 제거한다는 의미. 즉 50%의 실행시간을 단축시킬 수 있다는 것을 의미함"
   ]
  },
  {
   "cell_type": "markdown",
   "metadata": {},
   "source": [
    "\n",
    "\n",
    "\n",
    "\n",
    "\n",
    "\n",
    "# 힙 라이브러리 heapq"
   ]
  },
  {
   "cell_type": "code",
   "execution_count": null,
   "metadata": {},
   "outputs": [],
   "source": [
    "# 힙공식\n",
    "heap[k] <= heap[2*k+1] and heap[k] <= heap[2*k+2]"
   ]
  },
  {
   "cell_type": "code",
   "execution_count": 18,
   "metadata": {},
   "outputs": [],
   "source": [
    "import heapq as h\n",
    "\n"
   ]
  },
  {
   "cell_type": "code",
   "execution_count": 30,
   "metadata": {},
   "outputs": [],
   "source": [
    "heap = []"
   ]
  },
  {
   "cell_type": "markdown",
   "metadata": {},
   "source": [
    "## 힙 push 메서드 \n",
    "heapq.heapush(리스트, 인자)"
   ]
  },
  {
   "cell_type": "code",
   "execution_count": 31,
   "metadata": {},
   "outputs": [
    {
     "name": "stdout",
     "output_type": "stream",
     "text": [
      "[1, 3, 7, 4]\n"
     ]
    }
   ],
   "source": [
    "h.heappush(heap, 4)\n",
    "h.heappush(heap, 1)\n",
    "h.heappush(heap, 7)\n",
    "h.heappush(heap, 3)\n",
    "print(heap)"
   ]
  },
  {
   "cell_type": "markdown",
   "metadata": {},
   "source": [
    "## 힙 pop 메서드 \n",
    "heapq.heapush(리스트, 인자)"
   ]
  },
  {
   "cell_type": "code",
   "execution_count": 32,
   "metadata": {},
   "outputs": [
    {
     "name": "stdout",
     "output_type": "stream",
     "text": [
      "1\n",
      "[3, 4, 7]\n"
     ]
    }
   ],
   "source": [
    "print(heapq.heappop(heap))\n",
    "print(heap)"
   ]
  },
  {
   "cell_type": "markdown",
   "metadata": {},
   "source": [
    "## 최소값 삭제하지 않고 얻기. (단순히 읽기)"
   ]
  },
  {
   "cell_type": "code",
   "execution_count": 33,
   "metadata": {},
   "outputs": [
    {
     "name": "stdout",
     "output_type": "stream",
     "text": [
      "3\n"
     ]
    }
   ],
   "source": [
    "print(heap[0])"
   ]
  },
  {
   "cell_type": "markdown",
   "metadata": {},
   "source": [
    "여기서 주의사항은 인덱스 0에 가장 작은 원소가 있다고 해서, 인덱스 1에 두번째 작은 원소, 인덱스 2에 세번째 작은 원소가 있다는 보장은 없다는 것입니다.\n",
    "왜냐하면 힙은 heappop() 함수를 호출하여 원소를 삭제할 때마다 이진 트리의 재배치를 통해 매번 새로운 최소값을 인덱스 0에 위치시키기 때문입니다.\n",
    "\n",
    "따라서 **두번째로 작은 원소를 얻으려면 바로** heap[1]으로 접근하면 안되고, `반드시 heappop()을 통해 가장 작은 원소를 삭제 후`에 heap[0]를 통해 새로운 최소값에 접근해야 합니다."
   ]
  },
  {
   "cell_type": "markdown",
   "metadata": {},
   "source": [
    "## 기존 리스트를 힙으로 변환"
   ]
  },
  {
   "cell_type": "markdown",
   "metadata": {},
   "source": [
    "## 힙 heapify 메서드\n",
    "heapq.heapify(리스트)"
   ]
  },
  {
   "cell_type": "code",
   "execution_count": 38,
   "metadata": {
    "scrolled": true
   },
   "outputs": [
    {
     "name": "stdout",
     "output_type": "stream",
     "text": [
      "[1, 3, 5, 4, 8, 7]\n"
     ]
    }
   ],
   "source": [
    "heap = [4, 1, 7, 3, 8, 5]\n",
    "heapq.heapify(heap)\n",
    "print(heap)"
   ]
  },
  {
   "cell_type": "markdown",
   "metadata": {},
   "source": [
    "# [응용] 최대힙\n",
    "\n",
    "바로 힙에 튜플(tuple)를 원소로 추가하거나 삭제하면, 튜플 내에서 맨 앞에 있는 값을 기준으로 최소 힙이 구성되는 원리를 이용하는 것입니다.\n",
    "\n",
    "따라서, 최대 힙을 만들려면 각 값에 대한 우선 순위를 구한 후, (우선 순위, 값) 구조의 튜플(tuple)을 힙에 추가하거나 삭제하면 됩니다.\n",
    "그리고 힙에서 값을 읽어올 때는 각 튜플에서 인덱스 1에 있는 값을 취하면 됩니다. (우선 순위에는 관심이 없으므로 )\n",
    "\n",
    "\n"
   ]
  },
  {
   "cell_type": "code",
   "execution_count": 42,
   "metadata": {},
   "outputs": [
    {
     "name": "stdout",
     "output_type": "stream",
     "text": [
      "8\n",
      "7\n",
      "5\n",
      "4\n",
      "3\n",
      "1\n"
     ]
    }
   ],
   "source": [
    "import heapq\n",
    "\n",
    "nums = [4, 1, 7, 3, 8, 5]\n",
    "heap = []\n",
    "\n",
    "for num in nums:\n",
    "    heapq.heappush(heap, (-num, num))  # (우선 순위, 값)\n",
    "\n",
    "while heap:\n",
    "    print(heapq.heappop(heap)[1])  # index 1"
   ]
  },
  {
   "cell_type": "markdown",
   "metadata": {},
   "source": [
    "# [응용] K번째 최소값 / 최대값\n",
    "최소 힙이나 최대 힙을 사용하면 K번째 최소값이나 최대값을 효츌적으로 구할 수 있습니다."
   ]
  },
  {
   "cell_type": "code",
   "execution_count": 44,
   "metadata": {},
   "outputs": [
    {
     "name": "stdout",
     "output_type": "stream",
     "text": [
      "4\n"
     ]
    }
   ],
   "source": [
    "import heapq\n",
    "\n",
    "def kth_smallest(nums, k):\n",
    "    heap = []\n",
    "    for num in nums:\n",
    "        heapq.heappush(heap, num)\n",
    "\n",
    "    kth_min = None\n",
    "    for _ in range(k):\n",
    "        kth_min = heapq.heappop(heap)\n",
    "    return kth_min\n",
    "\n",
    "print(kth_smallest([4, 1, 7, 3, 8, 5], 3))"
   ]
  },
  {
   "cell_type": "markdown",
   "metadata": {},
   "source": [
    "# [응용] 힙정렬\n"
   ]
  },
  {
   "cell_type": "code",
   "execution_count": 45,
   "metadata": {},
   "outputs": [
    {
     "name": "stdout",
     "output_type": "stream",
     "text": [
      "[1, 3, 4, 5, 7, 8]\n"
     ]
    }
   ],
   "source": [
    "import heapq\n",
    "\n",
    "def heap_sort(nums):\n",
    "    heap = []\n",
    "    for num in nums:\n",
    "        heapq.heappush(heap, num)\n",
    "  \n",
    "    sorted_nums = []\n",
    "    while heap:\n",
    "        sorted_nums.append(heapq.heappop(heap))\n",
    "    return sorted_nums\n",
    "\n",
    "print(heap_sort([4, 1, 7, 3, 8, 5]))"
   ]
  },
  {
   "cell_type": "markdown",
   "metadata": {},
   "source": [
    "# 프로그래머스 더 맵게\n",
    "\n",
    "섞은 음식의 스코빌 지수 =\n",
    "가장 맵지 않은 음식의 스코빌 지수 + (두 번째로 맵지 않은 음식의 스코빌 지수 * 2)"
   ]
  },
  {
   "cell_type": "code",
   "execution_count": 174,
   "metadata": {},
   "outputs": [],
   "source": [
    "# 1차 시도, (실패)\n",
    "import heapq as h\n",
    "\n",
    "def mix(a, b):\n",
    "    return a + (b*2)\n",
    "\n",
    "def solution(scoville, K):\n",
    "    answer = 0\n",
    "    #힙으로 만듬\n",
    "    h.heapify(scoville)\n",
    "    \n",
    "    # k값을 못넘는지 확인\n",
    "    for i in scoville :\n",
    "        if len(scscovilleoville) >= 2:\n",
    "            if i < K:  # 못넘을 때\n",
    "                a = h.heappop(scoville)\n",
    "                b = h.heappop(scoville)\n",
    "                h.heappush(scoville, mix(a,b))\n",
    "                answer += 1\n",
    "\n",
    "            else: # 넘을 때,\n",
    "                break\n",
    "        else:\n",
    "            answer = -1\n",
    "            break\n",
    "    return answer"
   ]
  },
  {
   "cell_type": "code",
   "execution_count": 169,
   "metadata": {},
   "outputs": [],
   "source": [
    "# 2차시도, 인덱스를 len() 체크하지 않고, try-except로 체크함.\n",
    "import heapq as h\n",
    "def solution(scoville, K):\n",
    "    answer = 0\n",
    "    #힙으로 만듬\n",
    "    h.heapify(scoville)\n",
    "    \n",
    "    while scoville[0] < K:\n",
    "        try:\n",
    "            h.heappush(scoville, h.heappop(scoville) + (h.heappop(scoville) * 2))\n",
    "        except IndexError:\n",
    "            return -1\n",
    "        answer += 1\n",
    "\n",
    "    return answer"
   ]
  },
  {
   "cell_type": "code",
   "execution_count": null,
   "metadata": {},
   "outputs": [],
   "source": [
    "# 원래 내가 시도하려던 로직의 다른사람 풀이 \n",
    "\n",
    "import heapq as hq\n",
    "\n",
    "def solution(scoville, K):\n",
    "\n",
    "    hq.heapify(scoville)\n",
    "    answer = 0\n",
    "    while True:\n",
    "        first = hq.heappop(scoville)\n",
    "        if first >= K:\n",
    "            break\n",
    "        if len(scoville) == 0:\n",
    "            return -1\n",
    "        second = hq.heappop(scoville)\n",
    "        hq.heappush(scoville, first + second*2)\n",
    "        answer += 1  \n",
    "\n",
    "    return answer"
   ]
  },
  {
   "cell_type": "code",
   "execution_count": 171,
   "metadata": {},
   "outputs": [],
   "source": [
    "# 1차 시도를 로직 수정\n",
    "import heapq as h\n",
    "\n",
    "def mix(a, b):\n",
    "    return a + (b*2)\n",
    "\n",
    "def solution(scoville, K):\n",
    "    answer = 0\n",
    "    #힙으로 만듬\n",
    "    h.heapify(scoville)\n",
    "    \n",
    "    # k값을 못넘는지 확인\n",
    "    while True:\n",
    "        a = h.heappop(scoville)\n",
    "        if a >= K:\n",
    "            break\n",
    "        # scoville크기가 0이라면,   \n",
    "        if len(scoville) == 0:\n",
    "            return -1\n",
    "        b = h.heappop(scoville)\n",
    "        h.heappush(scoville, mix(a,b))\n",
    "        answer += 1\n",
    "        \n",
    "    return answer"
   ]
  },
  {
   "cell_type": "markdown",
   "metadata": {},
   "source": [
    "## 속도는 try - except IndexError가 훨씬 빠르다. "
   ]
  },
  {
   "cell_type": "code",
   "execution_count": null,
   "metadata": {},
   "outputs": [],
   "source": []
  },
  {
   "cell_type": "code",
   "execution_count": null,
   "metadata": {},
   "outputs": [],
   "source": []
  }
 ],
 "metadata": {
  "kernelspec": {
   "display_name": "Python 3",
   "language": "python",
   "name": "python3"
  },
  "language_info": {
   "codemirror_mode": {
    "name": "ipython",
    "version": 3
   },
   "file_extension": ".py",
   "mimetype": "text/x-python",
   "name": "python",
   "nbconvert_exporter": "python",
   "pygments_lexer": "ipython3",
   "version": "3.7.4"
  }
 },
 "nbformat": 4,
 "nbformat_minor": 2
}
