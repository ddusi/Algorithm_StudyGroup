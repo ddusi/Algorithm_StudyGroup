{
 "cells": [
  {
   "cell_type": "markdown",
   "metadata": {},
   "source": [
    "# 프로그래머스 더 맵게\n",
    "\n",
    "섞은 음식의 스코빌 지수 =\n",
    "가장 맵지 않은 음식의 스코빌 지수 + (두 번째로 맵지 않은 음식의 스코빌 지수 * 2)"
   ]
  },
  {
   "cell_type": "code",
   "execution_count": 1,
   "metadata": {},
   "outputs": [],
   "source": [
    "# 1차 시도, (실패)\n",
    "import heapq as h\n",
    "\n",
    "def mix(a, b):\n",
    "    return a + (b*2)\n",
    "\n",
    "def solution(scoville, K):\n",
    "    answer = 0\n",
    "    #힙으로 만듬\n",
    "    h.heapify(scoville)\n",
    "    \n",
    "    # k값을 못넘는지 확인\n",
    "    for i in scoville :\n",
    "        if len(scscovilleoville) >= 2:\n",
    "            if i < K:  # 못넘을 때\n",
    "                a = h.heappop(scoville)\n",
    "                b = h.heappop(scoville)\n",
    "                h.heappush(scoville, mix(a,b))\n",
    "                answer += 1\n",
    "\n",
    "            else: # 넘을 때,\n",
    "                break\n",
    "        else:\n",
    "            answer = -1\n",
    "            break\n",
    "    return answer"
   ]
  },
  {
   "cell_type": "code",
   "execution_count": 2,
   "metadata": {},
   "outputs": [],
   "source": [
    "# 2차시도, 인덱스를 len() 체크하지 않고, try-except로 체크함.\n",
    "import heapq as h\n",
    "def solution(scoville, K):\n",
    "    answer = 0\n",
    "    #힙으로 만듬\n",
    "    h.heapify(scoville)\n",
    "    \n",
    "    while scoville[0] < K:\n",
    "        try:\n",
    "            h.heappush(scoville, h.heappop(scoville) + (h.heappop(scoville) * 2))\n",
    "        except IndexError:\n",
    "            return -1\n",
    "        answer += 1\n",
    "\n",
    "    return answer"
   ]
  },
  {
   "cell_type": "code",
   "execution_count": 3,
   "metadata": {},
   "outputs": [],
   "source": [
    "# 원래 내가 시도하려던 로직의 다른사람 풀이 \n",
    "\n",
    "import heapq as hq\n",
    "\n",
    "def solution(scoville, K):\n",
    "\n",
    "    hq.heapify(scoville)\n",
    "    answer = 0\n",
    "    while True:\n",
    "        first = hq.heappop(scoville)\n",
    "        if first >= K:\n",
    "            break\n",
    "        if len(scoville) == 0:\n",
    "            return -1\n",
    "        second = hq.heappop(scoville)\n",
    "        hq.heappush(scoville, first + second*2)\n",
    "        answer += 1  \n",
    "\n",
    "    return answer"
   ]
  },
  {
   "cell_type": "code",
   "execution_count": 4,
   "metadata": {},
   "outputs": [],
   "source": [
    "# 3차시도 1차 시도를 로직 수정\n",
    "import heapq as h\n",
    "\n",
    "def mix(a, b):\n",
    "    return a + (b*2)\n",
    "\n",
    "def solution(scoville, K):\n",
    "    answer = 0\n",
    "    #힙으로 만듬\n",
    "    h.heapify(scoville)\n",
    "    \n",
    "    # k값을 못넘는지 확인\n",
    "    while True:\n",
    "        a = h.heappop(scoville)\n",
    "        if a >= K:\n",
    "            break\n",
    "        # scoville크기가 0이라면,   \n",
    "        if len(scoville) == 0:\n",
    "            return -1\n",
    "        b = h.heappop(scoville)\n",
    "        h.heappush(scoville, mix(a,b))\n",
    "        answer += 1\n",
    "        \n",
    "    return answer"
   ]
  },
  {
   "cell_type": "markdown",
   "metadata": {},
   "source": [
    "## 속도는 try - except IndexError가 훨씬 빠르다. "
   ]
  },
  {
   "cell_type": "code",
   "execution_count": null,
   "metadata": {},
   "outputs": [],
   "source": []
  },
  {
   "cell_type": "code",
   "execution_count": null,
   "metadata": {},
   "outputs": [],
   "source": []
  }
 ],
 "metadata": {
  "kernelspec": {
   "display_name": "Python 3",
   "language": "python",
   "name": "python3"
  },
  "language_info": {
   "codemirror_mode": {
    "name": "ipython",
    "version": 3
   },
   "file_extension": ".py",
   "mimetype": "text/x-python",
   "name": "python",
   "nbconvert_exporter": "python",
   "pygments_lexer": "ipython3",
   "version": "3.7.4"
  }
 },
 "nbformat": 4,
 "nbformat_minor": 2
}
