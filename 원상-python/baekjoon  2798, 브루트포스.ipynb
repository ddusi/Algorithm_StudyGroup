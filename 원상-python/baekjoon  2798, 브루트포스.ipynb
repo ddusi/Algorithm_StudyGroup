{
 "cells": [
  {
   "cell_type": "code",
   "execution_count": null,
   "metadata": {},
   "outputs": [],
   "source": [
    "# 2798번\n",
    "N,M = map(int,input().split())\n",
    "num = list(map(int,input().split()))\n",
    "select=[]\n",
    "\n",
    "# 삼중 for문 매커니즘\n",
    "for i in range(len(num)):\n",
    "    for j in range(i+1, len(num)):\n",
    "        for k in range(j+1, len(num)):\n",
    "            select.append(num[i]+num[j]+num[k])\n",
    "select = [i for i in select if i<=M]\n",
    "if len(select)>0:\n",
    "    print(max(select))"
   ]
  }
 ],
 "metadata": {
  "kernelspec": {
   "display_name": "Python 3",
   "language": "python",
   "name": "python3"
  },
  "language_info": {
   "codemirror_mode": {
    "name": "ipython",
    "version": 3
   },
   "file_extension": ".py",
   "mimetype": "text/x-python",
   "name": "python",
   "nbconvert_exporter": "python",
   "pygments_lexer": "ipython3",
   "version": "3.7.4"
  }
 },
 "nbformat": 4,
 "nbformat_minor": 2
}
