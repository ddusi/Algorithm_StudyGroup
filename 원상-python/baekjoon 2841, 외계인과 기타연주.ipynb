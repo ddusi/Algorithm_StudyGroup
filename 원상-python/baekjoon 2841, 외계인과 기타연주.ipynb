{
 "cells": [
  {
   "cell_type": "code",
   "execution_count": 15,
   "metadata": {},
   "outputs": [
    {
     "name": "stdout",
     "output_type": "stream",
     "text": [
      "7 15\n",
      "1 5\n",
      "2 3\n",
      "2 5\n",
      "2 7\n",
      "2 4\n",
      "1 5\n",
      "1 3\n"
     ]
    }
   ],
   "source": [
    "# 백준 2841번, \n",
    "\n",
    "# 입력\n",
    "n, p = map(int, input().split())\n",
    "n_list = []\n",
    "melody = [] \n",
    "flat = []\n",
    "\n",
    "for i in range(n):\n",
    "    k= list(map(int, input().split()))\n",
    "    n_list.append(k)"
   ]
  },
  {
   "cell_type": "code",
   "execution_count": 21,
   "metadata": {},
   "outputs": [
    {
     "data": {
      "text/plain": [
       "[[1, 3], [1, 5], [2, 3], [2, 5], [2, 7], [2, 4], [1, 3], [1, 5]]"
      ]
     },
     "execution_count": 21,
     "metadata": {},
     "output_type": "execute_result"
    }
   ],
   "source": [
    "n_list"
   ]
  },
  {
   "cell_type": "code",
   "execution_count": 20,
   "metadata": {},
   "outputs": [],
   "source": [
    "count = 0\n",
    "while n_list:\n",
    "    pre = [0, 0]\n",
    "    data = n_list.pop(0)\n",
    "    \n",
    "    for i in range(len(n_list)):\n",
    "        if data[0] >= pre[0] and data[1] >= pre[1]:\n",
    "            count += 1\n",
    "            pre = list(data)\n",
    "        else:\n",
    "            count += 1\n",
    "            \n",
    "        if \n",
    "    data[0]\n",
    "    data[1]"
   ]
  },
  {
   "cell_type": "code",
   "execution_count": null,
   "metadata": {},
   "outputs": [],
   "source": []
  },
  {
   "cell_type": "code",
   "execution_count": null,
   "metadata": {},
   "outputs": [],
   "source": []
  }
 ],
 "metadata": {
  "kernelspec": {
   "display_name": "Python 3",
   "language": "python",
   "name": "python3"
  },
  "language_info": {
   "codemirror_mode": {
    "name": "ipython",
    "version": 3
   },
   "file_extension": ".py",
   "mimetype": "text/x-python",
   "name": "python",
   "nbconvert_exporter": "python",
   "pygments_lexer": "ipython3",
   "version": "3.7.4"
  }
 },
 "nbformat": 4,
 "nbformat_minor": 2
}
