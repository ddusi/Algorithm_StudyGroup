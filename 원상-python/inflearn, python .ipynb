{
 "cells": [
  {
   "cell_type": "code",
   "execution_count": null,
   "metadata": {},
   "outputs": [],
   "source": [
    "import sys\n",
    "sys.stdin = open(\"input.txt\", \"rt\")"
   ]
  },
  {
   "cell_type": "markdown",
   "metadata": {},
   "source": [
    "# K번째 약수"
   ]
  },
  {
   "cell_type": "markdown",
   "metadata": {},
   "source": [
    "1. N과 K가 주어졌을 때, N의 약수들 중 K번째로 작은 수를 출력하는 프로그램을 작성하시오."
   ]
  },
  {
   "cell_type": "markdown",
   "metadata": {},
   "source": [
    "< 로직 설계 >\n",
    "1. N의 약수들을 구하는 로직 \n",
    "2. 그 로직을 정렬하고 k번째를 출력 "
   ]
  },
  {
   "cell_type": "code",
   "execution_count": 43,
   "metadata": {
    "scrolled": false
   },
   "outputs": [
    {
     "name": "stdout",
     "output_type": "stream",
     "text": [
      "6 3\n"
     ]
    },
    {
     "data": {
      "text/plain": [
       "3"
      ]
     },
     "execution_count": 43,
     "metadata": {},
     "output_type": "execute_result"
    }
   ],
   "source": [
    "def solution(N, K):\n",
    "    measure = []\n",
    "    \n",
    "    for i in range(1, N+1):\n",
    "        num = N % i\n",
    "        if num == 0:\n",
    "            measure.append(i)\n",
    "\n",
    "    measure.sort() \n",
    "\n",
    "    return measure[K-1]\n",
    "\n",
    "N, K = map(int, input().split())\n",
    "\n",
    "solution(N, K)"
   ]
  },
  {
   "cell_type": "markdown",
   "metadata": {},
   "source": [
    "# K번째 작은 수"
   ]
  },
  {
   "cell_type": "markdown",
   "metadata": {},
   "source": [
    "2. N개의 숫자로 이루어진 숫자열이 주어지면 해당 숫자열중에서 s번째부터 e번째 까지의 수 중 k번째로 작은 수를 출력하는 프로그램을 작성하세요.\n",
    "\n",
    "테스트 케이스로 출력하시오!\n"
   ]
  },
  {
   "cell_type": "code",
   "execution_count": 46,
   "metadata": {
    "collapsed": true
   },
   "outputs": [
    {
     "ename": "FileNotFoundError",
     "evalue": "[Errno 2] No such file or directory: 'input.txt'",
     "output_type": "error",
     "traceback": [
      "\u001b[1;31m---------------------------------------------------------------------------\u001b[0m",
      "\u001b[1;31mFileNotFoundError\u001b[0m                         Traceback (most recent call last)",
      "\u001b[1;32m<ipython-input-46-d63f9b9e3ab8>\u001b[0m in \u001b[0;36m<module>\u001b[1;34m\u001b[0m\n\u001b[0;32m      1\u001b[0m \u001b[1;32mimport\u001b[0m \u001b[0msys\u001b[0m\u001b[1;33m\u001b[0m\u001b[1;33m\u001b[0m\u001b[0m\n\u001b[1;32m----> 2\u001b[1;33m \u001b[0msys\u001b[0m\u001b[1;33m.\u001b[0m\u001b[0mstdin\u001b[0m \u001b[1;33m=\u001b[0m \u001b[0mopen\u001b[0m\u001b[1;33m(\u001b[0m\u001b[1;34m\"input.txt\"\u001b[0m\u001b[1;33m,\u001b[0m \u001b[1;34m\"rt\"\u001b[0m\u001b[1;33m)\u001b[0m\u001b[1;33m\u001b[0m\u001b[1;33m\u001b[0m\u001b[0m\n\u001b[0m",
      "\u001b[1;31mFileNotFoundError\u001b[0m: [Errno 2] No such file or directory: 'input.txt'"
     ]
    }
   ],
   "source": [
    "import sys\n",
    "sys.stdin = open(\"input.txt\", \"rt\")"
   ]
  },
  {
   "cell_type": "code",
   "execution_count": 49,
   "metadata": {},
   "outputs": [
    {
     "name": "stdout",
     "output_type": "stream",
     "text": [
      "2\n",
      "6 2 5 3\n",
      "5 2 7 3 8 9\n",
      "#1 7\n",
      "15 3 10 3\n",
      "4 15 8 16 6 6 17 3 10 11 18 7 14 7 15\n",
      "#2 6\n"
     ]
    }
   ],
   "source": [
    "T = int(input())\n",
    "for t in range(T):\n",
    "    n, s, e, k = map(int, input().split())\n",
    "    a = list(map(int, input().split()))\n",
    "    a = a[s-1:e]\n",
    "    a.sort()\n",
    "    print(\"#%d %d\" %(t+1, a[k-1]))"
   ]
  },
  {
   "cell_type": "markdown",
   "metadata": {},
   "source": [
    "# K 번째 큰 수"
   ]
  },
  {
   "cell_type": "markdown",
   "metadata": {},
   "source": [
    "3. 현수는 1부터 100사이의 자연수가 적힌 N장의 카드를 가지고 있습니다. 같은 숫자의 카드가 여러장 있을 수 있습니다. 현수는 이 중 3장을 뽑아 각 카드에 적힌 수를 합한 값을 기록하려 고 합니다. 3장을 뽑을 수 있는 모든 경우를 기록합니다. 기록한 값 중 K번째로 큰 수를 출력 하는 프로그램을 작성하세요. 만약 큰 수부터 만들어진 수가 25 25 23 23 22 20 19......이고 K값이 3이라면 K번째 큰 값 은 22입니다.\n"
   ]
  },
  {
   "cell_type": "markdown",
   "metadata": {},
   "source": [
    "< 로직설계 > \n",
    "1. 모든 경우의 수를 계산해보자. 삼중 for문\n",
    "2. 나온 수를 하나의 리스트로 append\n",
    "3. set으로 중복처리후 다시 list로 반환하여 sort()함\n",
    "4. 출력은 [k-1]"
   ]
  },
  {
   "cell_type": "code",
   "execution_count": 52,
   "metadata": {
    "scrolled": true
   },
   "outputs": [
    {
     "name": "stdout",
     "output_type": "stream",
     "text": [
      "13 15 34 23 45 65 33 11 26 42\n"
     ]
    }
   ],
   "source": [
    "N, K = map(int, input().split())\n",
    "nums = list(map(int, input().split()))"
   ]
  },
  {
   "cell_type": "code",
   "execution_count": 96,
   "metadata": {},
   "outputs": [
    {
     "name": "stdout",
     "output_type": "stream",
     "text": [
      "10 3\n",
      "13 15 34 23 45 65 33 11 26 42\n"
     ]
    },
    {
     "data": {
      "text/plain": [
       "143"
      ]
     },
     "execution_count": 96,
     "metadata": {},
     "output_type": "execute_result"
    }
   ],
   "source": [
    "def solution(N, K, nums):\n",
    "    result = []\n",
    "    for i in range(10):\n",
    "        for j in range(9):\n",
    "            for k in range(8):\n",
    "                if nums[i] == nums[j] or nums[i] == nums[k] or nums[j] == nums[k]:\n",
    "                    break\n",
    "                result.append(nums[i] + nums[j] + nums[k])\n",
    "\n",
    "    result = set(result)\n",
    "    result = list(result)\n",
    "    result.sort(reverse=True)\n",
    "    \n",
    "    return result[K-1]\n",
    "\n",
    "N, K = map(int, input().split())\n",
    "nums = list(map(int, input().split()))\n",
    "\n",
    "solution(N, K, nums)"
   ]
  },
  {
   "cell_type": "code",
   "execution_count": null,
   "metadata": {},
   "outputs": [],
   "source": []
  }
 ],
 "metadata": {
  "kernelspec": {
   "display_name": "Python 3",
   "language": "python",
   "name": "python3"
  },
  "language_info": {
   "codemirror_mode": {
    "name": "ipython",
    "version": 3
   },
   "file_extension": ".py",
   "mimetype": "text/x-python",
   "name": "python",
   "nbconvert_exporter": "python",
   "pygments_lexer": "ipython3",
   "version": "3.7.4"
  }
 },
 "nbformat": 4,
 "nbformat_minor": 2
}
