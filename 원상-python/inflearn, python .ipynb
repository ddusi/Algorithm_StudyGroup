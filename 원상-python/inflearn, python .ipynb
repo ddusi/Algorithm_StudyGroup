{
 "cells": [
  {
   "cell_type": "code",
   "execution_count": null,
   "metadata": {},
   "outputs": [],
   "source": [
    "import sys\n",
    "sys.stdin = open(\"input.txt\", \"rt\")"
   ]
  },
  {
   "cell_type": "markdown",
   "metadata": {},
   "source": [
    "# K번째 약수"
   ]
  },
  {
   "cell_type": "markdown",
   "metadata": {},
   "source": [
    "1. N과 K가 주어졌을 때, N의 약수들 중 K번째로 작은 수를 출력하는 프로그램을 작성하시오."
   ]
  },
  {
   "cell_type": "markdown",
   "metadata": {},
   "source": [
    "< 로직 설계 >\n",
    "1. N의 약수들을 구하는 로직 \n",
    "2. 그 로직을 정렬하고 k번째를 출력 "
   ]
  },
  {
   "cell_type": "code",
   "execution_count": 43,
   "metadata": {
    "scrolled": false
   },
   "outputs": [
    {
     "name": "stdout",
     "output_type": "stream",
     "text": [
      "6 3\n"
     ]
    },
    {
     "data": {
      "text/plain": [
       "3"
      ]
     },
     "execution_count": 43,
     "metadata": {},
     "output_type": "execute_result"
    }
   ],
   "source": [
    "def solution(N, K):\n",
    "    measure = []\n",
    "    \n",
    "    for i in range(1, N+1):\n",
    "        num = N % i\n",
    "        if num == 0:\n",
    "            measure.append(i)\n",
    "\n",
    "    measure.sort() \n",
    "\n",
    "    return measure[K-1]\n",
    "\n",
    "N, K = map(int, input().split())\n",
    "\n",
    "solution(N, K)"
   ]
  },
  {
   "cell_type": "markdown",
   "metadata": {},
   "source": [
    "# K번째 작은 수"
   ]
  },
  {
   "cell_type": "markdown",
   "metadata": {},
   "source": [
    "2. N개의 숫자로 이루어진 숫자열이 주어지면 해당 숫자열중에서 s번째부터 e번째 까지의 수 중 k번째로 작은 수를 출력하는 프로그램을 작성하세요.\n",
    "\n",
    "테스트 케이스로 출력하시오!\n"
   ]
  },
  {
   "cell_type": "code",
   "execution_count": 46,
   "metadata": {
    "collapsed": true
   },
   "outputs": [
    {
     "ename": "FileNotFoundError",
     "evalue": "[Errno 2] No such file or directory: 'input.txt'",
     "output_type": "error",
     "traceback": [
      "\u001b[1;31m---------------------------------------------------------------------------\u001b[0m",
      "\u001b[1;31mFileNotFoundError\u001b[0m                         Traceback (most recent call last)",
      "\u001b[1;32m<ipython-input-46-d63f9b9e3ab8>\u001b[0m in \u001b[0;36m<module>\u001b[1;34m\u001b[0m\n\u001b[0;32m      1\u001b[0m \u001b[1;32mimport\u001b[0m \u001b[0msys\u001b[0m\u001b[1;33m\u001b[0m\u001b[1;33m\u001b[0m\u001b[0m\n\u001b[1;32m----> 2\u001b[1;33m \u001b[0msys\u001b[0m\u001b[1;33m.\u001b[0m\u001b[0mstdin\u001b[0m \u001b[1;33m=\u001b[0m \u001b[0mopen\u001b[0m\u001b[1;33m(\u001b[0m\u001b[1;34m\"input.txt\"\u001b[0m\u001b[1;33m,\u001b[0m \u001b[1;34m\"rt\"\u001b[0m\u001b[1;33m)\u001b[0m\u001b[1;33m\u001b[0m\u001b[1;33m\u001b[0m\u001b[0m\n\u001b[0m",
      "\u001b[1;31mFileNotFoundError\u001b[0m: [Errno 2] No such file or directory: 'input.txt'"
     ]
    }
   ],
   "source": [
    "import sys\n",
    "sys.stdin = open(\"input.txt\", \"rt\")"
   ]
  },
  {
   "cell_type": "code",
   "execution_count": 49,
   "metadata": {},
   "outputs": [
    {
     "name": "stdout",
     "output_type": "stream",
     "text": [
      "2\n",
      "6 2 5 3\n",
      "5 2 7 3 8 9\n",
      "#1 7\n",
      "15 3 10 3\n",
      "4 15 8 16 6 6 17 3 10 11 18 7 14 7 15\n",
      "#2 6\n"
     ]
    }
   ],
   "source": [
    "T = int(input())\n",
    "for t in range(T):\n",
    "    n, s, e, k = map(int, input().split())\n",
    "    a = list(map(int, input().split()))\n",
    "    a = a[s-1:e]\n",
    "    a.sort()\n",
    "    print(\"#%d %d\" %(t+1, a[k-1]))"
   ]
  },
  {
   "cell_type": "markdown",
   "metadata": {},
   "source": [
    "# K 번째 큰 수"
   ]
  },
  {
   "cell_type": "markdown",
   "metadata": {},
   "source": [
    "3. 현수는 1부터 100사이의 자연수가 적힌 N장의 카드를 가지고 있습니다. 같은 숫자의 카드가 여러장 있을 수 있습니다. 현수는 이 중 3장을 뽑아 각 카드에 적힌 수를 합한 값을 기록하려 고 합니다. 3장을 뽑을 수 있는 모든 경우를 기록합니다. 기록한 값 중 K번째로 큰 수를 출력 하는 프로그램을 작성하세요. 만약 큰 수부터 만들어진 수가 25 25 23 23 22 20 19......이고 K값이 3이라면 K번째 큰 값 은 22입니다.\n"
   ]
  },
  {
   "cell_type": "markdown",
   "metadata": {},
   "source": [
    "< 로직설계 > \n",
    "1. 모든 경우의 수를 계산해보자. 삼중 for문\n",
    "2. 나온 수를 하나의 리스트로 append\n",
    "3. set으로 중복처리후 다시 list로 반환하여 sort()함\n",
    "4. 출력은 [k-1]"
   ]
  },
  {
   "cell_type": "code",
   "execution_count": 52,
   "metadata": {
    "scrolled": true
   },
   "outputs": [
    {
     "name": "stdout",
     "output_type": "stream",
     "text": [
      "13 15 34 23 45 65 33 11 26 42\n"
     ]
    }
   ],
   "source": [
    "N, K = map(int, input().split())\n",
    "nums = list(map(int, input().split()))"
   ]
  },
  {
   "cell_type": "code",
   "execution_count": 96,
   "metadata": {},
   "outputs": [
    {
     "name": "stdout",
     "output_type": "stream",
     "text": [
      "10 3\n",
      "13 15 34 23 45 65 33 11 26 42\n"
     ]
    },
    {
     "data": {
      "text/plain": [
       "143"
      ]
     },
     "execution_count": 96,
     "metadata": {},
     "output_type": "execute_result"
    }
   ],
   "source": [
    "def solution(N, K, nums):\n",
    "    result = []\n",
    "    for i in range(10):\n",
    "        for j in range(9):\n",
    "            for k in range(8):\n",
    "                if nums[i] == nums[j] or nums[i] == nums[k] or nums[j] == nums[k]:\n",
    "                    break\n",
    "                result.append(nums[i] + nums[j] + nums[k])\n",
    "\n",
    "    result = set(result)\n",
    "    result = list(result)\n",
    "    result.sort(reverse=True)\n",
    "    \n",
    "    return result[K-1]\n",
    "\n",
    "N, K = map(int, input().split())\n",
    "nums = list(map(int, input().split()))\n",
    "\n",
    "solution(N, K, nums)"
   ]
  },
  {
   "cell_type": "markdown",
   "metadata": {},
   "source": [
    "# 대표값"
   ]
  },
  {
   "cell_type": "code",
   "execution_count": 3,
   "metadata": {},
   "outputs": [
    {
     "name": "stdout",
     "output_type": "stream",
     "text": [
      "10\n",
      "65 73 66 87 92 67 55 79 75 80\n"
     ]
    }
   ],
   "source": [
    "num = int(input())\n",
    "student = list(map(int, input().split()))"
   ]
  },
  {
   "cell_type": "code",
   "execution_count": null,
   "metadata": {},
   "outputs": [],
   "source": [
    "로직설계\n",
    "1. 평균을 구해서 변수에 저장한다. \n",
    "2. 그 평균에 가까운 수를 찾는다. \n",
    "3. 같은 절대값을 같으면 수가 큰것부터 출력\n",
    "이걸 못하겠음.\n",
    "4. 점수가 아예 같으면 학번이 빠른수로 출력\n",
    "5. 점수 학번"
   ]
  },
  {
   "cell_type": "code",
   "execution_count": 84,
   "metadata": {},
   "outputs": [
    {
     "name": "stdout",
     "output_type": "stream",
     "text": [
      "74 9\n"
     ]
    }
   ],
   "source": [
    "# 평균을 구한다. \n",
    "total = 0\n",
    "for score in student:\n",
    "    total += score\n",
    "avg = round(total/num)\n",
    "\n",
    "# 각 평균의 차를 구해서 저장한다. \n",
    "_num = []\n",
    "for i in student:\n",
    "    _num.append(abs(i - avg))\n",
    "\n",
    "# 저장한 값을 토대로 점수가 큰 수로 정렬한다. \n",
    "answer = []\n",
    "x = min(_num)\n",
    "for i in range(len(_num)):\n",
    "    if _num[i] == x:\n",
    "        answer.append(student[i])\n",
    "        \n",
    "# 점수가 큰 값 토대로 정렬\n",
    "answer.sort(reverse=True)\n",
    "\n",
    "# 같은 점수는 학번순으로 정렬\n",
    "for i in range(len(answer)):\n",
    "    k = answer.pop(0)\n",
    "    if k in answer:\n",
    "        \n",
    "\n",
    "print(avg, student.index(answer[0]) + 1)"
   ]
  },
  {
   "cell_type": "code",
   "execution_count": 91,
   "metadata": {},
   "outputs": [
    {
     "name": "stdout",
     "output_type": "stream",
     "text": [
      "74 9\n"
     ]
    }
   ],
   "source": [
    "ave = round(sum(student)/num)\n",
    "min = 2147000000\n",
    "for idx, x in enumerate(student):\n",
    "    tmp = abs(x-ave)\n",
    "    if tmp<min:\n",
    "        min=tmp\n",
    "        score = x\n",
    "        res = idx + 1\n",
    "    elif tmp== min:\n",
    "        if x>score:\n",
    "            score = x\n",
    "            res = idx +1\n",
    "print(ave, res)"
   ]
  },
  {
   "cell_type": "code",
   "execution_count": 87,
   "metadata": {
    "scrolled": true
   },
   "outputs": [
    {
     "data": {
      "text/plain": [
       "74"
      ]
     },
     "execution_count": 87,
     "metadata": {},
     "output_type": "execute_result"
    }
   ],
   "source": [
    "enumerate() 함수는 리스트의 인덱스와 값을 동시에 불러와준다."
   ]
  },
  {
   "cell_type": "code",
   "execution_count": 104,
   "metadata": {},
   "outputs": [
    {
     "data": {
      "text/plain": [
       "5"
      ]
     },
     "execution_count": 104,
     "metadata": {},
     "output_type": "execute_result"
    }
   ],
   "source": [
    "import math \n",
    "a = 4.1\n",
    "math.ceil(a)"
   ]
  },
  {
   "cell_type": "code",
   "execution_count": null,
   "metadata": {},
   "outputs": [],
   "source": [
    "round는 round_half_even 방식을 택한다. \n",
    "일반적인 반올림은 round_half_up 방식임 \n",
    "\n",
    "round_half_even 은 짝수쪽으로 근사값을 만들어주는 것."
   ]
  },
  {
   "cell_type": "markdown",
   "metadata": {},
   "source": [
    "# 정다면체"
   ]
  },
  {
   "cell_type": "code",
   "execution_count": null,
   "metadata": {},
   "outputs": [],
   "source": [
    "두개의 정 N면체, M면체를 던져서 나올 수 있는 눈의 합중 가장 확률이 높은 숫자를 출력하는 프로그램\n"
   ]
  },
  {
   "cell_type": "code",
   "execution_count": null,
   "metadata": {},
   "outputs": [],
   "source": [
    "4면체는 4/1 \n",
    "6면체는 6/1 \n",
    "\n",
    "4사지 * 6가지 = 총 24가지"
   ]
  },
  {
   "cell_type": "code",
   "execution_count": 96,
   "metadata": {},
   "outputs": [
    {
     "data": {
      "text/plain": [
       "24.0"
      ]
     },
     "execution_count": 96,
     "metadata": {},
     "output_type": "execute_result"
    }
   ],
   "source": [
    "(4/1) * ( 6/1)"
   ]
  },
  {
   "cell_type": "code",
   "execution_count": null,
   "metadata": {},
   "outputs": [],
   "source": [
    "로직설계 \n",
    "1. 변수선언\n",
    "2. n + m 의 값의 공간을 할당함. \n",
    "3. 이중 for문으로 값을 모두 순회함\n",
    "4. 그때 if문으로 각각의 값을 저장해서 카운트함. "
   ]
  },
  {
   "cell_type": "code",
   "execution_count": 162,
   "metadata": {
    "scrolled": true
   },
   "outputs": [
    {
     "name": "stdout",
     "output_type": "stream",
     "text": [
      "12 20\n"
     ]
    },
    {
     "data": {
      "text/plain": [
       "'13 14 15 16 17 18 19 20 21'"
      ]
     },
     "execution_count": 162,
     "metadata": {},
     "output_type": "execute_result"
    }
   ],
   "source": [
    "# 변수 선언\n",
    "n, m = map(int, input().split())\n",
    "answer = []\n",
    "\n",
    "# 2\n",
    "cnt = [0] * (n+m)\n",
    "\n",
    "# 3\n",
    "for x in range(1, n+1):\n",
    "    for y in range(1, m+1):\n",
    "        k = (x + y)\n",
    "        cnt[k-1]= cnt[k-1]+1\n",
    "\n",
    "# 확률의 가장큰 값을 max()로 구함.\n",
    "\n",
    "for index, count in enumerate(cnt):\n",
    "    if count == max(cnt):\n",
    "        answer.append(index+1)\n",
    "        \n",
    "answer = map(str, answer)\n",
    "answer = \" \".join(answer)\n",
    "answer"
   ]
  },
  {
   "cell_type": "markdown",
   "metadata": {},
   "source": [
    "# 자릿수의 합"
   ]
  },
  {
   "cell_type": "code",
   "execution_count": 42,
   "metadata": {},
   "outputs": [
    {
     "name": "stdout",
     "output_type": "stream",
     "text": [
      "3\n",
      "125 15232 97\n"
     ]
    }
   ],
   "source": [
    "n = int(input())\n",
    "num = list(map(int, input().split()))"
   ]
  },
  {
   "cell_type": "code",
   "execution_count": 56,
   "metadata": {},
   "outputs": [
    {
     "data": {
      "text/plain": [
       "97"
      ]
     },
     "execution_count": 56,
     "metadata": {},
     "output_type": "execute_result"
    }
   ],
   "source": [
    "def digit_sum(x):\n",
    "    total = []\n",
    "    for i in range(len(num)):\n",
    "        k = sum(map(int, list(str(num[i]))))\n",
    "        total.append(k)\n",
    "\n",
    "    return num[total.index(max(total))]\n",
    "\n",
    "digit_sum(num)"
   ]
  },
  {
   "cell_type": "markdown",
   "metadata": {},
   "source": [
    "# 소수 (에라토스테네스 체)"
   ]
  },
  {
   "cell_type": "code",
   "execution_count": 79,
   "metadata": {
    "scrolled": true
   },
   "outputs": [
    {
     "name": "stdout",
     "output_type": "stream",
     "text": [
      "20\n",
      "약수의 총 갯수는 = 8\n"
     ]
    }
   ],
   "source": [
    "n = int(input())\n",
    "\n",
    "answer = []\n",
    "def isPrime(a):\n",
    "    if(a<2):\n",
    "        return False\n",
    "    for i in range(2,a):\n",
    "        if(a%i==0):\n",
    "            return False\n",
    "    return True\n",
    "\n",
    "for i in range(n+1):\n",
    "    if(isPrime(i)):\n",
    "        answer.append(i)\n",
    "print('약수의 총 갯수는 = ' + str(len(answer)))"
   ]
  },
  {
   "cell_type": "code",
   "execution_count": 67,
   "metadata": {
    "collapsed": true
   },
   "outputs": [
    {
     "name": "stdout",
     "output_type": "stream",
     "text": [
      "[2, 3, 5, 7, 11, 13, 17, 19, 23, 29, 31, 37, 41, 43, 47, 53, 59, 61, 67, 71, 73, 79, 83, 89, 97, 101, 103, 107, 109, 113, 127, 131, 137, 139, 149, 151, 157, 163, 167, 173, 179, 181, 191, 193, 197, 199, 211, 223, 227, 229, 233, 239, 241, 251, 257, 263, 269, 271, 277, 281, 283, 293, 307, 311, 313, 317, 331, 337, 347, 349, 353, 359, 367, 373, 379, 383, 389, 397, 401, 409, 419, 421, 431, 433, 439, 443, 449, 457, 461, 463, 467, 479, 487, 491, 499, 503, 509, 521, 523, 541, 547, 557, 563, 569, 571, 577, 587, 593, 599, 601, 607, 613, 617, 619, 631, 641, 643, 647, 653, 659, 661, 673, 677, 683, 691, 701, 709, 719, 727, 733, 739, 743, 751, 757, 761, 769, 773, 787, 797, 809, 811, 821, 823, 827, 829, 839, 853, 857, 859, 863, 877, 881, 883, 887, 907, 911, 919, 929, 937, 941, 947, 953, 967, 971, 977, 983, 991, 997]\n"
     ]
    }
   ],
   "source": [
    "# 에라토스테네스의 채\n",
    "n=1000\n",
    "a = [False,False] + [True]*(n-1)\n",
    "primes=[]\n",
    "\n",
    "for i in range(2,n+1):\n",
    "    if a[i]:\n",
    "        primes.append(i)\n",
    "        \n",
    "    # 2의 배수를 모든 수를 제거해버리는 것. \n",
    "    for j in range(2*i, n+1, i):\n",
    "        a[j] = False\n",
    "print(primes)"
   ]
  },
  {
   "cell_type": "markdown",
   "metadata": {},
   "source": [
    "# 뒤집은 소수\n",
    "\n",
    "소수 : 자신보다 작은 두개의 자연수를 곱하여 만들 수 없는 1보다 큰 자연수. "
   ]
  },
  {
   "cell_type": "code",
   "execution_count": null,
   "metadata": {},
   "outputs": [],
   "source": [
    "소수찾기\n",
    "에라토스테네스의 체\n",
    "1. 찾고자하는 범위의 자연수를 나열한다.\n",
    "2. 2부터 시작하여, 2의 배수를 지워간다. \n",
    "3. 다음 소수의 배수를 모두 지운다. "
   ]
  },
  {
   "cell_type": "code",
   "execution_count": 15,
   "metadata": {},
   "outputs": [
    {
     "name": "stdout",
     "output_type": "stream",
     "text": [
      "[2, 3, 5, 7]\n"
     ]
    }
   ],
   "source": [
    "n = 10\n",
    "a = [False,False] + [True]*(n-1)\n",
    "primes = []\n",
    "a\n",
    "\n",
    "for i in range(2, n+1):\n",
    "    if a[i]:\n",
    "        primes.append(i)\n",
    "        \n",
    "    for j in range(2*i, n+1, i):\n",
    "        a[j] = False\n",
    "\n",
    "print(primes)"
   ]
  },
  {
   "cell_type": "code",
   "execution_count": null,
   "metadata": {},
   "outputs": [],
   "source": [
    "로직 설계 \n",
    "1. N개의 자연수를 차례대로 입력받는다. \n",
    "2. 소수의 정보를 담는 공간을 만든다.\n",
    "or \n",
    "2. 2와 3으로 나눠지는지 확인한다.(에라토스의 채 활용..)\n",
    "\n",
    "\n",
    "3. 뒤집었을때, 0으로 시작하는 숫자는 0만 빼고 숫자만 뒤집는다\n",
    "\n",
    "4. 자연수를 뒤집었을 때, 소수라면 저장한다. \n",
    "5. 자연수를 뒤집었을 때, 소수인 자연수만 차례대로 출력해준다.\n"
   ]
  },
  {
   "cell_type": "code",
   "execution_count": 101,
   "metadata": {},
   "outputs": [
    {
     "name": "stdout",
     "output_type": "stream",
     "text": [
      "32 55 62 3700 250\n",
      "23 73 "
     ]
    }
   ],
   "source": [
    "num = list(map(int, input().split()))\n",
    "\n",
    "n = max(num)\n",
    "a = [False,False] + [True]*(n-1)\n",
    "primes = []\n",
    "_num = []\n",
    "for i in range(2, n+1):\n",
    "    if a[i]:\n",
    "        primes.append(i)\n",
    "        \n",
    "    for j in range(2*i, n+1, i):\n",
    "        a[j] = False\n",
    "\n",
    "for i in num:\n",
    "    _num.append(int(str(i)[::-1]))\n",
    "    \n",
    "for i in _num:\n",
    "    if i in primes:\n",
    "        print(i, end=' ')"
   ]
  },
  {
   "cell_type": "code",
   "execution_count": 36,
   "metadata": {
    "scrolled": false
   },
   "outputs": [
    {
     "name": "stdout",
     "output_type": "stream",
     "text": [
      "32 55 62 3700 250\n"
     ]
    }
   ],
   "source": [
    "num = list(map(int, input().split()))"
   ]
  },
  {
   "cell_type": "code",
   "execution_count": 96,
   "metadata": {},
   "outputs": [],
   "source": [
    "n = max(num)\n",
    "a = [False,False] + [True]*(n-1)\n",
    "primes = []\n",
    "_num = []\n",
    "for i in range(2, n+1):\n",
    "    if a[i]:\n",
    "        primes.append(i)\n",
    "        \n",
    "    for j in range(2*i, n+1, i):\n",
    "        a[j] = False"
   ]
  },
  {
   "cell_type": "code",
   "execution_count": 97,
   "metadata": {
    "scrolled": false
   },
   "outputs": [],
   "source": [
    "for i in num:\n",
    "    _num.append(int(str(i)[::-1]))"
   ]
  },
  {
   "cell_type": "code",
   "execution_count": 98,
   "metadata": {
    "scrolled": true
   },
   "outputs": [
    {
     "data": {
      "text/plain": [
       "[23, 55, 26, 73, 52]"
      ]
     },
     "execution_count": 98,
     "metadata": {},
     "output_type": "execute_result"
    }
   ],
   "source": [
    "_num"
   ]
  },
  {
   "cell_type": "code",
   "execution_count": 100,
   "metadata": {},
   "outputs": [
    {
     "name": "stdout",
     "output_type": "stream",
     "text": [
      "23 73 "
     ]
    }
   ],
   "source": [
    "for i in _num:\n",
    "    if i in primes:\n",
    "        print(i, end=' ')"
   ]
  },
  {
   "cell_type": "code",
   "execution_count": 117,
   "metadata": {},
   "outputs": [
    {
     "data": {
      "text/plain": [
       "342"
      ]
     },
     "execution_count": 117,
     "metadata": {},
     "output_type": "execute_result"
    }
   ],
   "source": [
    "# python에서 손쉽게 숫자 거꾸로 뒤집는법\n",
    "\n",
    "int(str(243)[::-1])"
   ]
  },
  {
   "cell_type": "markdown",
   "metadata": {},
   "source": [
    "# 주사위 게임"
   ]
  },
  {
   "cell_type": "code",
   "execution_count": 13,
   "metadata": {},
   "outputs": [
    {
     "name": "stdout",
     "output_type": "stream",
     "text": [
      "3\n",
      "3 3 6\n",
      "2 2 2\n",
      "6 2 5\n",
      "12000\n"
     ]
    }
   ],
   "source": [
    "def findMaxPerson(num):\n",
    "    if num[0] == num[1] == num[2]:\n",
    "        return 10000 + num[0]*1000\n",
    "    elif num[0] == num[1] or num[0] == num[2]:\n",
    "        return 1000 + num[0]*100\n",
    "    elif num[1] == num[2]:\n",
    "        return 1000 + num[1]*100\n",
    "    else:\n",
    "        return max(num)*100\n",
    "    \n",
    "    \n",
    "n = input()\n",
    "num = []\n",
    "answer = []\n",
    "\n",
    "for i in range(3):\n",
    "    num.append(list(map(int, input().split())))\n",
    "    \n",
    "for i in num:\n",
    "    answer.append(findMaxPerson(i))\n",
    "    \n",
    "answer = max(answer)\n",
    "print(answer)"
   ]
  },
  {
   "cell_type": "code",
   "execution_count": 1,
   "metadata": {},
   "outputs": [
    {
     "name": "stdout",
     "output_type": "stream",
     "text": [
      "3\n",
      "3 3 6\n",
      "2 2 2\n",
      "6 2 5\n"
     ]
    }
   ],
   "source": [
    "n = input()\n",
    "num = []\n",
    "for i in range(3):\n",
    "    num.append(list(map(int, input().split())))"
   ]
  },
  {
   "cell_type": "code",
   "execution_count": 2,
   "metadata": {},
   "outputs": [],
   "source": [
    "def findMaxPerson(num):\n",
    "    if num[0] == num[1] == num[2]:\n",
    "        return 10000 + num[0]*1000\n",
    "    elif num[0] == num[1] or num[0] == num[2]:\n",
    "        return 1000 + num[0]*100\n",
    "    elif num[1] == num[2]:\n",
    "        return 1000 + num[1]*100\n",
    "    else:\n",
    "        return max(num)*100"
   ]
  },
  {
   "cell_type": "code",
   "execution_count": 11,
   "metadata": {},
   "outputs": [],
   "source": [
    "answer = []\n",
    "for i in num:\n",
    "    answer.append(findMaxPerson(i))"
   ]
  },
  {
   "cell_type": "code",
   "execution_count": 12,
   "metadata": {},
   "outputs": [
    {
     "name": "stdout",
     "output_type": "stream",
     "text": [
      "12000\n"
     ]
    }
   ],
   "source": [
    "answer = max(answer)\n",
    "print(answer)"
   ]
  },
  {
   "cell_type": "code",
   "execution_count": 135,
   "metadata": {
    "collapsed": true
   },
   "outputs": [
    {
     "name": "stdout",
     "output_type": "stream",
     "text": [
      "11000\n"
     ]
    }
   ],
   "source": [
    "if num[0] == num[1] == num[2]:\n",
    "        print(10000 + num[0]*1000)"
   ]
  },
  {
   "cell_type": "code",
   "execution_count": null,
   "metadata": {},
   "outputs": [],
   "source": []
  },
  {
   "cell_type": "code",
   "execution_count": null,
   "metadata": {},
   "outputs": [],
   "source": []
  }
 ],
 "metadata": {
  "kernelspec": {
   "display_name": "Python 3",
   "language": "python",
   "name": "python3"
  },
  "language_info": {
   "codemirror_mode": {
    "name": "ipython",
    "version": 3
   },
   "file_extension": ".py",
   "mimetype": "text/x-python",
   "name": "python",
   "nbconvert_exporter": "python",
   "pygments_lexer": "ipython3",
   "version": "3.7.4"
  }
 },
 "nbformat": 4,
 "nbformat_minor": 2
}
