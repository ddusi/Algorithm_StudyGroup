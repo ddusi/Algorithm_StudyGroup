{
 "cells": [
  {
   "cell_type": "code",
   "execution_count": null,
   "metadata": {},
   "outputs": [],
   "source": [
    "# 9012번 혼자 푼 방법\n",
    "n = int(input())\n",
    "for i in range(n):\n",
    "    left = int(0)\n",
    "    right = int(0)\n",
    "    data = list(input())\n",
    "    \n",
    "    for i in range(len(data)):\n",
    "        k = data.pop()\n",
    "        if k == ')':\n",
    "            right += 1\n",
    "        else:\n",
    "            left += 1\n",
    "\n",
    "    if right == left:\n",
    "        print(\"YES\")\n",
    "    else:\n",
    "        print(\"NO\")   \n"
   ]
  },
  {
   "cell_type": "code",
   "execution_count": null,
   "metadata": {},
   "outputs": [],
   "source": [
    "# 9012 번 다른풀이\n",
    "n = int(input())\n",
    "for i in range(n):\n",
    "    count = 0\n",
    "    data = list(input())\n",
    "    \n",
    "    for i in range(len(data)):\n",
    "        k = data.pop()\n",
    "        if k == ')':\n",
    "            count += 1\n",
    "        elif k == '(':\n",
    "            count -= 1\n",
    "        else:\n",
    "            continue\n",
    "\n",
    "    if count == 0:\n",
    "        print(\"YES\")\n",
    "    else:\n",
    "        print(\"NO\")   \n"
   ]
  },
  {
   "cell_type": "code",
   "execution_count": 1,
   "metadata": {
    "scrolled": true
   },
   "outputs": [
    {
     "name": "stdout",
     "output_type": "stream",
     "text": [
      "6\n",
      "(())())\n",
      "(((()())()\n",
      "(()())((()))\n",
      "((()()(()))(((())))()\n",
      "()()()()(()()())()\n",
      "(()((())()(\n",
      "NO\n",
      "NO\n",
      "YES\n",
      "NO\n",
      "YES\n",
      "NO\n"
     ]
    }
   ],
   "source": [
    "# 9012번 순서 배열\n",
    "n = int(input())\n",
    "vps = []\n",
    "value=[]\n",
    "\n",
    "for i in range(n):\n",
    "    array = list(input())\n",
    "    if array.count('(') == array.count(')'):\n",
    "        for j in range(len(array)):\n",
    "            if array[j] == '(':\n",
    "                vps.append(array[j])\n",
    "            elif vps and array[j] == ')':\n",
    "                del vps[-1]\n",
    "            else:\n",
    "                value.append(\"NO\")\n",
    "                break\n",
    "        if not vps: \n",
    "            value.append(\"YES\")\n",
    "    else:\n",
    "        value.append(\"NO\")\n",
    "    \n",
    "for i in value:\n",
    "    print(i)"
   ]
  }
 ],
 "metadata": {
  "kernelspec": {
   "display_name": "Python 3",
   "language": "python",
   "name": "python3"
  },
  "language_info": {
   "codemirror_mode": {
    "name": "ipython",
    "version": 3
   },
   "file_extension": ".py",
   "mimetype": "text/x-python",
   "name": "python",
   "nbconvert_exporter": "python",
   "pygments_lexer": "ipython3",
   "version": "3.7.4"
  }
 },
 "nbformat": 4,
 "nbformat_minor": 2
}
