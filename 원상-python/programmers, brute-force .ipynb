{
 "cells": [
  {
   "cell_type": "markdown",
   "metadata": {},
   "source": [
    "# 모의고사"
   ]
  },
  {
   "cell_type": "code",
   "execution_count": null,
   "metadata": {},
   "outputs": [],
   "source": [
    "def solution(answers):\n",
    "    answer = []\n",
    "    return answer"
   ]
  },
  {
   "cell_type": "code",
   "execution_count": 2,
   "metadata": {},
   "outputs": [
    {
     "name": "stdout",
     "output_type": "stream",
     "text": [
      "1 2 3 4 5\n"
     ]
    }
   ],
   "source": []
  },
  {
   "cell_type": "code",
   "execution_count": 7,
   "metadata": {
    "collapsed": true
   },
   "outputs": [
    {
     "ename": "SyntaxError",
     "evalue": "invalid syntax (<ipython-input-7-e05dbec5525c>, line 2)",
     "output_type": "error",
     "traceback": [
      "\u001b[1;36m  File \u001b[1;32m\"<ipython-input-7-e05dbec5525c>\"\u001b[1;36m, line \u001b[1;32m2\u001b[0m\n\u001b[1;33m    1. 각각 1번,2번,3번 수포자 규칙을 변수로 저장한다.\u001b[0m\n\u001b[1;37m        ^\u001b[0m\n\u001b[1;31mSyntaxError\u001b[0m\u001b[1;31m:\u001b[0m invalid syntax\n"
     ]
    }
   ],
   "source": [
    "로직설계 \n",
    "1. 각각 1번,2번,3번 수포자 규칙을 변수로 저장한다. \n",
    "2. 각각 for문으로 돌린다. \n",
    "3. 맞힌 갯수를 비교하고, grade 변수에 담는다. \n",
    "4. 오름차순으로 많이 맞춘 사람을 출력한다."
   ]
  },
  {
   "cell_type": "code",
   "execution_count": 6,
   "metadata": {},
   "outputs": [
    {
     "name": "stdout",
     "output_type": "stream",
     "text": [
      "1 2 3 4 5\n"
     ]
    }
   ],
   "source": [
    "answers = list(map(int, input().split()))"
   ]
  },
  {
   "cell_type": "code",
   "execution_count": 109,
   "metadata": {},
   "outputs": [
    {
     "data": {
      "text/plain": [
       "[1, 3]"
      ]
     },
     "execution_count": 109,
     "metadata": {},
     "output_type": "execute_result"
    }
   ],
   "source": [
    "# 1차시도 \n",
    "def compare_list(x):\n",
    "    num=0\n",
    "    compare = list(zip(answers, x))\n",
    "    for x,y in compare:\n",
    "        if x == y:\n",
    "            num += 1\n",
    "    return num\n",
    "\n",
    "def solution(answers):\n",
    "    length = len(answers)//5\n",
    "    answer = []\n",
    "    one = [1,2,3,4,5] * length\n",
    "    two = [2,1,2,3,2,4,2,5] * length\n",
    "    three = [3,3,1,1,2,2,4,4,5,5] * length\n",
    "    \n",
    "    result = [compare_list(one), compare_list(two), compare_list(three)]\n",
    "    result = list(enumerate(result))\n",
    "    result = sorted(result, key=lambda result: result[1], reverse=True)\n",
    "    \n",
    "    for i in result:\n",
    "        if result[0][1] == i[1]:\n",
    "             answer.append(i[0]+1)\n",
    "                \n",
    "    return answer\n",
    "\n",
    "solution(answers)"
   ]
  },
  {
   "cell_type": "code",
   "execution_count": 106,
   "metadata": {
    "scrolled": true
   },
   "outputs": [
    {
     "data": {
      "text/plain": [
       "[1, 3]"
      ]
     },
     "execution_count": 106,
     "metadata": {},
     "output_type": "execute_result"
    }
   ],
   "source": [
    "# 다른사람 풀이\n",
    "def solution(answers):\n",
    "    p = [[1, 2, 3, 4, 5],\n",
    "         [2, 1, 2, 3, 2, 4, 2, 5],\n",
    "         [3, 3, 1, 1, 2, 2, 4, 4, 5, 5]]\n",
    "    s = [0] * len(p)\n",
    "\n",
    "    for q, a in enumerate(answers):\n",
    "        for i, v in enumerate(p):\n",
    "            if a == v[q % len(v)]:\n",
    "                s[i] += 1\n",
    "    return [i + 1 for i, v in enumerate(s) if v == max(s)]"
   ]
  },
  {
   "cell_type": "code",
   "execution_count": 14,
   "metadata": {},
   "outputs": [
    {
     "data": {
      "text/plain": [
       "[5, 0, 0]"
      ]
     },
     "execution_count": 14,
     "metadata": {},
     "output_type": "execute_result"
    }
   ],
   "source": [
    "# 나와 비슷한 풀이\n",
    "from itertools import cycle\n",
    "\n",
    "def solution(answers):\n",
    "    winner = []\n",
    "    pattern_supo_1 = [1 ,2, 3, 4, 5]\n",
    "    pattern_supo_2 = [2, 1, 2, 3, 2, 4, 2, 5]\n",
    "    pattern_supo_3 = [3, 3, 1, 1, 2, 2, 4, 4, 5, 5]\n",
    "    score_supo = [0, 0, 0]\n",
    "\n",
    "    for supo_1, supo_2, supo_3, answer in zip(cycle(pattern_supo_1), cycle(pattern_supo_2), cycle(pattern_supo_3), answers):\n",
    "        if supo_1 == answer: score_supo[0] += 1\n",
    "        if supo_2 == answer: score_supo[1] += 1\n",
    "        if supo_3 == answer: score_supo[2] += 1\n",
    "\n",
    "    for i, score in enumerate(score_supo):\n",
    "        if score == max(score_supo):\n",
    "        winner.append(i+1)\n",
    "\n",
    "    return winner"
   ]
  },
  {
   "cell_type": "code",
   "execution_count": null,
   "metadata": {},
   "outputs": [],
   "source": [
    "def solution(answers):\n",
    "    pattern1 = [1,2,3,4,5]\n",
    "    pattern2 = [2,1,2,3,2,4,2,5]\n",
    "    pattern3 = [3,3,1,1,2,2,4,4,5,5]\n",
    "    score = [0, 0, 0]\n",
    "    result = []\n",
    "\n",
    "    for idx, answer in enumerate(answers):\n",
    "        if answer == pattern1[idx%len(pattern1)]:\n",
    "            score[0] += 1\n",
    "        if answer == pattern2[idx%len(pattern2)]:\n",
    "            score[1] += 1\n",
    "        if answer == pattern3[idx%len(pattern3)]:\n",
    "            score[2] += 1\n",
    "\n",
    "    for idx, s in enumerate(score):\n",
    "        if s == max(score):\n",
    "            result.append(idx+1)\n",
    "\n",
    "    return result"
   ]
  },
  {
   "cell_type": "markdown",
   "metadata": {},
   "source": [
    "# 소수찾기"
   ]
  },
  {
   "cell_type": "code",
   "execution_count": null,
   "metadata": {},
   "outputs": [],
   "source": [
    "로직설계 \n",
    "1. numbers를 정렬한다. (내림차순)\n",
    "2. 정렬한 수가 가장 큰 값이고, 그 값을 기준으로 전체 소수를 구한다. \n",
    "3. numbers로 구 할 수 있는 모든 조합을 리스트로 저장한다. \n",
    "4. 2번과 3번을 비교해서 있는경우 카운트 한다.\n",
    "5. 그 카운트를 출력한다. "
   ]
  },
  {
   "cell_type": "code",
   "execution_count": 115,
   "metadata": {},
   "outputs": [],
   "source": [
    "# input \n",
    "numbers = \"17\"\n",
    "prime = []"
   ]
  },
  {
   "cell_type": "code",
   "execution_count": 116,
   "metadata": {},
   "outputs": [],
   "source": [
    "# 정렬 후, 가장 큰 수를 만듦\n",
    "_numbers = list(str(numbers))\n",
    "_numbers.sort(reverse=True)\n",
    "lagest = int(\"\".join(_numbers))"
   ]
  },
  {
   "cell_type": "code",
   "execution_count": 117,
   "metadata": {},
   "outputs": [],
   "source": [
    "# 소수를 구하는 로직\n",
    "def isPrime(a):\n",
    "    if(a<2):\n",
    "        return False\n",
    "    for i in range(2,a):\n",
    "        if(a%i==0):\n",
    "            return False\n",
    "    return True\n",
    "\n",
    "for i in range(lagest+1):\n",
    "    if(isPrime(i)):\n",
    "        prime.append(i)"
   ]
  },
  {
   "cell_type": "code",
   "execution_count": 118,
   "metadata": {},
   "outputs": [],
   "source": [
    "# numbers로 구할 수 있는 모든 조합을 리스트로 저장\n",
    "from itertools import permutations\n",
    "k = list(numbers)\n",
    "combin = list(permutations(k, len(numbers)))\n",
    "\n",
    "_combin = []\n",
    "for i in combin:\n",
    "    _combin.append(int(\"\".join(i)))\n",
    "\n",
    "_combin = list(set(_combin))"
   ]
  },
  {
   "cell_type": "code",
   "execution_count": 119,
   "metadata": {
    "scrolled": true
   },
   "outputs": [],
   "source": [
    "# 2번과 3번을 비교해주는 로직.\n",
    "answer = 0\n",
    "for i in _combin:\n",
    "    if i in prime:\n",
    "        answer += 1"
   ]
  },
  {
   "cell_type": "code",
   "execution_count": 122,
   "metadata": {},
   "outputs": [
    {
     "data": {
      "text/plain": [
       "['7', '1']"
      ]
     },
     "execution_count": 122,
     "metadata": {},
     "output_type": "execute_result"
    }
   ],
   "source": [
    "_numbers"
   ]
  },
  {
   "cell_type": "code",
   "execution_count": 120,
   "metadata": {},
   "outputs": [
    {
     "data": {
      "text/plain": [
       "2"
      ]
     },
     "execution_count": 120,
     "metadata": {},
     "output_type": "execute_result"
    }
   ],
   "source": [
    "answer"
   ]
  },
  {
   "cell_type": "code",
   "execution_count": 121,
   "metadata": {},
   "outputs": [
    {
     "data": {
      "text/plain": [
       "[17, 71]"
      ]
     },
     "execution_count": 121,
     "metadata": {},
     "output_type": "execute_result"
    }
   ],
   "source": [
    "_combin"
   ]
  },
  {
   "cell_type": "code",
   "execution_count": 129,
   "metadata": {},
   "outputs": [],
   "source": [
    "# 첫시도 시간초과 뜸\n",
    "from itertools import permutations\n",
    "\n",
    "def solution(numbers):\n",
    "    prime = []\n",
    "    _combin = []\n",
    "    answer = 0\n",
    "    \n",
    "    # 정렬 후, 가장 큰 수를 만듦\n",
    "    _numbers = list(str(numbers))\n",
    "    _numbers.sort(reverse=True)\n",
    "    lagest = int(\"\".join(_numbers))\n",
    "    \n",
    "    # 소수를 구하는 로직\n",
    "    def isPrime(a):\n",
    "        if(a<2):\n",
    "            return False\n",
    "        for i in range(2,a):\n",
    "            if(a%i==0):\n",
    "                return False\n",
    "        return True\n",
    "\n",
    "    for i in range(lagest+1):\n",
    "        if(isPrime(i)):\n",
    "            prime.append(i)\n",
    "    \n",
    "    # numbers로 구할 수 있는 모든 조합을 리스트로 저장\n",
    "    k = list(numbers)\n",
    "    combin = list(permutations(k, len(numbers)))\n",
    "    for i in combin:\n",
    "        _combin.append(int(\"\".join(i)))\n",
    "\n",
    "    _combin = list(set(_combin))\n",
    "    \n",
    "    # 2번과 3번을 비교해주는 로직.\n",
    "    for i in _combin:\n",
    "        if i in prime:\n",
    "            answer += 1\n",
    "    \n",
    "    for i in _numbers:\n",
    "        if int(i) in prime:\n",
    "            answer += 1\n",
    "            \n",
    "    return answer"
   ]
  },
  {
   "cell_type": "code",
   "execution_count": 130,
   "metadata": {},
   "outputs": [
    {
     "data": {
      "text/plain": [
       "3"
      ]
     },
     "execution_count": 130,
     "metadata": {},
     "output_type": "execute_result"
    }
   ],
   "source": [
    "solution(numbers)"
   ]
  },
  {
   "cell_type": "code",
   "execution_count": 128,
   "metadata": {},
   "outputs": [
    {
     "data": {
      "text/plain": [
       "[17, 71]"
      ]
     },
     "execution_count": 128,
     "metadata": {},
     "output_type": "execute_result"
    }
   ],
   "source": [
    "https://yurimkoo.github.io/algorithm/2019/09/26/find_prime_number.html"
   ]
  }
 ],
 "metadata": {
  "kernelspec": {
   "display_name": "Python 3",
   "language": "python",
   "name": "python3"
  },
  "language_info": {
   "codemirror_mode": {
    "name": "ipython",
    "version": 3
   },
   "file_extension": ".py",
   "mimetype": "text/x-python",
   "name": "python",
   "nbconvert_exporter": "python",
   "pygments_lexer": "ipython3",
   "version": "3.7.4"
  }
 },
 "nbformat": 4,
 "nbformat_minor": 2
}
