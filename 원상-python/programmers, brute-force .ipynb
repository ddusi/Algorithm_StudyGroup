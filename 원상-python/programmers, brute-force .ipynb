{
 "cells": [
  {
   "cell_type": "markdown",
   "metadata": {},
   "source": [
    "# 모의고사"
   ]
  },
  {
   "cell_type": "code",
   "execution_count": null,
   "metadata": {},
   "outputs": [],
   "source": [
    "def solution(answers):\n",
    "    answer = []\n",
    "    return answer"
   ]
  },
  {
   "cell_type": "code",
   "execution_count": 2,
   "metadata": {},
   "outputs": [
    {
     "name": "stdout",
     "output_type": "stream",
     "text": [
      "1 2 3 4 5\n"
     ]
    }
   ],
   "source": []
  },
  {
   "cell_type": "code",
   "execution_count": 7,
   "metadata": {
    "collapsed": true
   },
   "outputs": [
    {
     "ename": "SyntaxError",
     "evalue": "invalid syntax (<ipython-input-7-e05dbec5525c>, line 2)",
     "output_type": "error",
     "traceback": [
      "\u001b[1;36m  File \u001b[1;32m\"<ipython-input-7-e05dbec5525c>\"\u001b[1;36m, line \u001b[1;32m2\u001b[0m\n\u001b[1;33m    1. 각각 1번,2번,3번 수포자 규칙을 변수로 저장한다.\u001b[0m\n\u001b[1;37m        ^\u001b[0m\n\u001b[1;31mSyntaxError\u001b[0m\u001b[1;31m:\u001b[0m invalid syntax\n"
     ]
    }
   ],
   "source": [
    "로직설계 \n",
    "1. 각각 1번,2번,3번 수포자 규칙을 변수로 저장한다. \n",
    "2. 각각 for문으로 돌린다. \n",
    "3. 맞힌 갯수를 비교하고, grade 변수에 담는다. \n",
    "4. 오름차순으로 많이 맞춘 사람을 출력한다."
   ]
  },
  {
   "cell_type": "code",
   "execution_count": null,
   "metadata": {},
   "outputs": [],
   "source": [
    "answers = list(map(int, input().split()))"
   ]
  },
  {
   "cell_type": "code",
   "execution_count": 109,
   "metadata": {},
   "outputs": [
    {
     "data": {
      "text/plain": [
       "[1, 3]"
      ]
     },
     "execution_count": 109,
     "metadata": {},
     "output_type": "execute_result"
    }
   ],
   "source": [
    "def compare_list(x):\n",
    "    num=0\n",
    "    compare = list(zip(answers, x))\n",
    "    for x,y in compare:\n",
    "        if x == y:\n",
    "            num += 1\n",
    "    return num\n",
    "\n",
    "def solution(answers):\n",
    "    length = len(answers)//5\n",
    "    answer = []\n",
    "    one = [1,2,3,4,5] * length\n",
    "    two = [2,1,2,3,2,4,2,5] * length\n",
    "    three = [3,3,1,1,2,2,4,4,5,5] * length\n",
    "    \n",
    "    result = [compare_list(one), compare_list(two), compare_list(three)]\n",
    "    result = list(enumerate(result))\n",
    "    result = sorted(result, key=lambda result: result[1], reverse=True)\n",
    "    \n",
    "    for i in result:\n",
    "        if result[0][1] == i[1]:\n",
    "             answer.append(i[0]+1)\n",
    "                \n",
    "    return answer\n",
    "\n",
    "solution(answers)"
   ]
  },
  {
   "cell_type": "code",
   "execution_count": 99,
   "metadata": {},
   "outputs": [],
   "source": [
    "length = len(answers)//5\n",
    "\n",
    "answer = []\n",
    "one = [1,2,3,4,5] * length\n",
    "two = [2,1,2,3,2,4,2,5] * length\n",
    "three = [3,3,1,1,2,2,4,4,5,5] * length"
   ]
  },
  {
   "cell_type": "code",
   "execution_count": 101,
   "metadata": {},
   "outputs": [],
   "source": [
    "def compare_list(x):\n",
    "    num=0\n",
    "    compare = list(zip(answers, x))\n",
    "    for x,y in compare:\n",
    "        if x == y:\n",
    "            num += 1\n",
    "    return num"
   ]
  },
  {
   "cell_type": "code",
   "execution_count": 102,
   "metadata": {
    "scrolled": false
   },
   "outputs": [],
   "source": [
    "result = [compare_list(one), compare_list(two), compare_list(three)]\n",
    "\n",
    "result = list(enumerate(result))\n",
    "\n",
    "result = sorted(result, key=lambda result: result[1], reverse=True)\n",
    "\n",
    "for i in result:\n",
    "    if result[0][1] == i[1]:\n",
    "         answer.append(i[0]+1)"
   ]
  },
  {
   "cell_type": "code",
   "execution_count": 106,
   "metadata": {
    "scrolled": true
   },
   "outputs": [
    {
     "data": {
      "text/plain": [
       "[1, 3]"
      ]
     },
     "execution_count": 106,
     "metadata": {},
     "output_type": "execute_result"
    }
   ],
   "source": [
    "answer"
   ]
  },
  {
   "cell_type": "code",
   "execution_count": null,
   "metadata": {},
   "outputs": [],
   "source": []
  }
 ],
 "metadata": {
  "kernelspec": {
   "display_name": "Python 3",
   "language": "python",
   "name": "python3"
  },
  "language_info": {
   "codemirror_mode": {
    "name": "ipython",
    "version": 3
   },
   "file_extension": ".py",
   "mimetype": "text/x-python",
   "name": "python",
   "nbconvert_exporter": "python",
   "pygments_lexer": "ipython3",
   "version": "3.7.4"
  }
 },
 "nbformat": 4,
 "nbformat_minor": 2
}
