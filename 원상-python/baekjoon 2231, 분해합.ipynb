{
 "cells": [
  {
   "cell_type": "markdown",
   "metadata": {},
   "source": [
    "## python3"
   ]
  },
  {
   "cell_type": "code",
   "execution_count": 73,
   "metadata": {},
   "outputs": [
    {
     "name": "stdout",
     "output_type": "stream",
     "text": [
      "216\n",
      "198\n"
     ]
    }
   ],
   "source": [
    "n = int(input())\n",
    "nlist = list(str(n))\n",
    "start = int(n) - (len(nlist) * 9)\n",
    "\n",
    "for i in range(start, n+1):\n",
    "    x = str(i)\n",
    "    xlist = list(x)\n",
    "    for a in xlist:\n",
    "        x = int(x) + int(a)\n",
    "    if(x == n):\n",
    "        print(i)\n",
    "        break"
   ]
  },
  {
   "cell_type": "code",
   "execution_count": 72,
   "metadata": {},
   "outputs": [
    {
     "name": "stdout",
     "output_type": "stream",
     "text": [
      "216\n",
      "198\n"
     ]
    }
   ],
   "source": [
    "#python 3\n",
    "def dec(num):\n",
    "    sum = num\n",
    "    while True:\n",
    "        if num <= 0:\n",
    "            break\n",
    "        sum += num % 10\n",
    "        num = num // 10\n",
    "    return sum\n",
    "\n",
    "n = int(input())\n",
    "c = 0\n",
    "for i in range(1, n + 1):\n",
    "    b = dec(i)\n",
    "    if b == n:\n",
    "        c = i\n",
    "        break\n",
    "        \n",
    "if c == 0:\n",
    "    print(0)\n",
    "else:\n",
    "    print(c)"
   ]
  },
  {
   "cell_type": "code",
   "execution_count": null,
   "metadata": {},
   "outputs": [],
   "source": [
    "# python 2\n",
    "N = int(input())\n",
    "print_num = 0\n",
    "for i in range(1, N+1):\n",
    "    div_num = list(map(int, str(i)))\n",
    "    sum_num = i + sum(div_num)\n",
    "    if(sum_num == N):\n",
    "        print_num = i\n",
    "        break\n",
    "print(print_num)"
   ]
  },
  {
   "cell_type": "code",
   "execution_count": 27,
   "metadata": {},
   "outputs": [
    {
     "data": {
      "text/plain": [
       "['2', '1', '6']"
      ]
     },
     "execution_count": 27,
     "metadata": {},
     "output_type": "execute_result"
    }
   ],
   "source": [
    "n = 216\n",
    "nlist = list(str(n))\n",
    "nlist"
   ]
  }
 ],
 "metadata": {
  "kernelspec": {
   "display_name": "Python 3",
   "language": "python",
   "name": "python3"
  }
 },
 "nbformat": 4,
 "nbformat_minor": 2
}
