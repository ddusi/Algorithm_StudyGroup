{
 "cells": [
  {
   "cell_type": "code",
   "execution_count": 4,
   "metadata": {
    "scrolled": true
   },
   "outputs": [
    {
     "name": "stdout",
     "output_type": "stream",
     "text": [
      "3\n",
      "1 2 3 "
     ]
    }
   ],
   "source": [
    "def DFS(x):\n",
    "    if x>0:\n",
    "        DFS(x-1)\n",
    "        print(x, end=' ')\n",
    "        \n",
    "\n",
    "if __name__ == \"__main__\":\n",
    "    n = int(input())\n",
    "    DFS(n)"
   ]
  },
  {
   "cell_type": "markdown",
   "metadata": {},
   "source": [
    "# 재귀함수를 이용한 이진수 출력"
   ]
  },
  {
   "cell_type": "code",
   "execution_count": 21,
   "metadata": {},
   "outputs": [
    {
     "name": "stdout",
     "output_type": "stream",
     "text": [
      "11\n",
      "1011"
     ]
    }
   ],
   "source": [
    "def DFS(x):\n",
    "    if x == 0:\n",
    "        return\n",
    "    else:\n",
    "        DFS(x//2)\n",
    "        print(x%2, end='')\n",
    "        \n",
    "\n",
    "if __name__ == \"__main__\":\n",
    "    n = int(input())\n",
    "    DFS(n)"
   ]
  },
  {
   "cell_type": "code",
   "execution_count": null,
   "metadata": {},
   "outputs": [],
   "source": []
  },
  {
   "cell_type": "markdown",
   "metadata": {},
   "source": [
    "# 이진트리 순회 ( 깊이우선탐색 DFS )"
   ]
  },
  {
   "cell_type": "code",
   "execution_count": null,
   "metadata": {},
   "outputs": [],
   "source": []
  },
  {
   "cell_type": "code",
   "execution_count": null,
   "metadata": {},
   "outputs": [],
   "source": []
  }
 ],
 "metadata": {
  "kernelspec": {
   "display_name": "Python 3",
   "language": "python",
   "name": "python3"
  },
  "language_info": {
   "codemirror_mode": {
    "name": "ipython",
    "version": 3
   },
   "file_extension": ".py",
   "mimetype": "text/x-python",
   "name": "python",
   "nbconvert_exporter": "python",
   "pygments_lexer": "ipython3",
   "version": "3.7.4"
  }
 },
 "nbformat": 4,
 "nbformat_minor": 2
}
