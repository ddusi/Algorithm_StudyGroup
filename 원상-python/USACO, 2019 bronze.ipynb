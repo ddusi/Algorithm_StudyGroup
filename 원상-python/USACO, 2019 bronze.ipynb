{
 "cells": [
  {
   "cell_type": "markdown",
   "metadata": {},
   "source": [
    "# Where Am I?"
   ]
  },
  {
   "cell_type": "code",
   "execution_count": 42,
   "metadata": {
    "scrolled": true
   },
   "outputs": [
    {
     "name": "stdout",
     "output_type": "stream",
     "text": [
      "ABCDABC\n"
     ]
    }
   ],
   "source": [
    "x = list(input())"
   ]
  },
  {
   "cell_type": "code",
   "execution_count": 146,
   "metadata": {},
   "outputs": [],
   "source": [
    "x = ['A','B','C','D','A','B','C']"
   ]
  },
  {
   "cell_type": "code",
   "execution_count": 147,
   "metadata": {},
   "outputs": [],
   "source": [
    "numlist = [x for x in range(65,100)]\n",
    "new_x = list(map(ord, x))\n",
    "count = 0\n",
    "countList = []"
   ]
  },
  {
   "cell_type": "markdown",
   "metadata": {},
   "source": [
    "### 내가 짠 로직은 틀린 로직"
   ]
  },
  {
   "cell_type": "code",
   "execution_count": 150,
   "metadata": {},
   "outputs": [
    {
     "name": "stdout",
     "output_type": "stream",
     "text": [
      "4\n"
     ]
    }
   ],
   "source": [
    "while new_x:\n",
    "    if new_x[0] == 65:\n",
    "        for i in range(0, len(new_x)):\n",
    "            k = new_x.pop(0)\n",
    "            if k == numlist[i]:\n",
    "                count += 1\n",
    "            else:\n",
    "                new_x.insert(0,k)\n",
    "            \n",
    "        else:\n",
    "            countList.append(count)\n",
    "            count = 0\n",
    "print(max(countList))"
   ]
  },
  {
   "cell_type": "code",
   "execution_count": 203,
   "metadata": {},
   "outputs": [],
   "source": [
    "N = 7\n",
    "colors = ['A','B','C','D','A','B','C']\n",
    "answer = 1\n",
    "locationSet = []"
   ]
  },
  {
   "cell_type": "markdown",
   "metadata": {},
   "source": [
    "### 경원님 풀이"
   ]
  },
  {
   "cell_type": "code",
   "execution_count": 206,
   "metadata": {},
   "outputs": [
    {
     "name": "stdout",
     "output_type": "stream",
     "text": [
      "7\n",
      "ABCDABC\n",
      "4\n"
     ]
    }
   ],
   "source": [
    "N = int(input())\n",
    "colors = list(input())\n",
    "answer = 1\n",
    "locationSet = []\n",
    "\n",
    "while answer <= N:\n",
    "    isPossibal = True\n",
    "    for i in range(0,len(colors)-answer+1):\n",
    "        location = colors[i:i+answer]\n",
    "        if location in locationSet:\n",
    "            isPossibal = False\n",
    "            break\n",
    "        else:\n",
    "            locationSet.append(location)\n",
    "\n",
    "    if isPossibal:\n",
    "        break\n",
    "    else:\n",
    "        answer += 1\n",
    "        \n",
    "if answer > N:\n",
    "    answer = N\n",
    "\n",
    "print(answer)"
   ]
  },
  {
   "cell_type": "code",
   "execution_count": 200,
   "metadata": {
    "scrolled": true
   },
   "outputs": [
    {
     "data": {
      "text/plain": [
       "[['A'],\n",
       " ['B'],\n",
       " ['C'],\n",
       " ['D'],\n",
       " ['A', 'B'],\n",
       " ['B', 'C'],\n",
       " ['C', 'D'],\n",
       " ['D', 'A'],\n",
       " ['A', 'B', 'C'],\n",
       " ['B', 'C', 'D'],\n",
       " ['C', 'D', 'A'],\n",
       " ['D', 'A', 'B'],\n",
       " ['A', 'B', 'C', 'D'],\n",
       " ['B', 'C', 'D', 'A'],\n",
       " ['C', 'D', 'A', 'B'],\n",
       " ['D', 'A', 'B', 'C']]"
      ]
     },
     "execution_count": 200,
     "metadata": {},
     "output_type": "execute_result"
    }
   ],
   "source": [
    "locationSet"
   ]
  },
  {
   "cell_type": "markdown",
   "metadata": {},
   "source": [
    "# Cow Gymnastics"
   ]
  },
  {
   "cell_type": "code",
   "execution_count": 331,
   "metadata": {},
   "outputs": [
    {
     "name": "stdout",
     "output_type": "stream",
     "text": [
      "3 4\n",
      "4 1 2 3\n",
      "4 1 3 2\n",
      "4 2 1 3\n",
      "4\n"
     ]
    }
   ],
   "source": [
    "import numpy as np\n",
    "\n",
    "K, N = map(int, input().split())\n",
    "nums = []\n",
    "for i in range(K):\n",
    "    nums.append(list(input().split()))\n",
    "z = np.zeros((20,20))\n",
    "z = z.astype(int)\n",
    "answer = 0\n",
    "\n",
    "for j in range(K):\n",
    "    for x in range(K):\n",
    "        for y in range(x+1,N):\n",
    "            num_x = int(nums[j][x])\n",
    "            num_y = int(nums[j][y])\n",
    "            z[num_x][num_y] += 1\n",
    "            if z[num_x][num_y] == K:\n",
    "                answer += 1\n",
    "\n",
    "print(answer)"
   ]
  },
  {
   "cell_type": "code",
   "execution_count": 339,
   "metadata": {},
   "outputs": [
    {
     "data": {
      "text/plain": [
       "[[0, 0, 0, 0, 0, 0, 0, 0, 0, 0, 0, 0, 0, 0, 0, 0, 0, 0, 0, 0],\n",
       " [0, 0, 0, 0, 0, 0, 0, 0, 0, 0, 0, 0, 0, 0, 0, 0, 0, 0, 0, 0],\n",
       " [0, 0, 0, 0, 0, 0, 0, 0, 0, 0, 0, 0, 0, 0, 0, 0, 0, 0, 0, 0],\n",
       " [0, 0, 0, 0, 0, 0, 0, 0, 0, 0, 0, 0, 0, 0, 0, 0, 0, 0, 0, 0],\n",
       " [0, 0, 0, 0, 0, 0, 0, 0, 0, 0, 0, 0, 0, 0, 0, 0, 0, 0, 0, 0],\n",
       " [0, 0, 0, 0, 0, 0, 0, 0, 0, 0, 0, 0, 0, 0, 0, 0, 0, 0, 0, 0],\n",
       " [0, 0, 0, 0, 0, 0, 0, 0, 0, 0, 0, 0, 0, 0, 0, 0, 0, 0, 0, 0],\n",
       " [0, 0, 0, 0, 0, 0, 0, 0, 0, 0, 0, 0, 0, 0, 0, 0, 0, 0, 0, 0],\n",
       " [0, 0, 0, 0, 0, 0, 0, 0, 0, 0, 0, 0, 0, 0, 0, 0, 0, 0, 0, 0],\n",
       " [0, 0, 0, 0, 0, 0, 0, 0, 0, 0, 0, 0, 0, 0, 0, 0, 0, 0, 0, 0],\n",
       " [0, 0, 0, 0, 0, 0, 0, 0, 0, 0, 0, 0, 0, 0, 0, 0, 0, 0, 0, 0],\n",
       " [0, 0, 0, 0, 0, 0, 0, 0, 0, 0, 0, 0, 0, 0, 0, 0, 0, 0, 0, 0],\n",
       " [0, 0, 0, 0, 0, 0, 0, 0, 0, 0, 0, 0, 0, 0, 0, 0, 0, 0, 0, 0],\n",
       " [0, 0, 0, 0, 0, 0, 0, 0, 0, 0, 0, 0, 0, 0, 0, 0, 0, 0, 0, 0],\n",
       " [0, 0, 0, 0, 0, 0, 0, 0, 0, 0, 0, 0, 0, 0, 0, 0, 0, 0, 0, 0],\n",
       " [0, 0, 0, 0, 0, 0, 0, 0, 0, 0, 0, 0, 0, 0, 0, 0, 0, 0, 0, 0],\n",
       " [0, 0, 0, 0, 0, 0, 0, 0, 0, 0, 0, 0, 0, 0, 0, 0, 0, 0, 0, 0],\n",
       " [0, 0, 0, 0, 0, 0, 0, 0, 0, 0, 0, 0, 0, 0, 0, 0, 0, 0, 0, 0],\n",
       " [0, 0, 0, 0, 0, 0, 0, 0, 0, 0, 0, 0, 0, 0, 0, 0, 0, 0, 0, 0],\n",
       " [0, 0, 0, 0, 0, 0, 0, 0, 0, 0, 0, 0, 0, 0, 0, 0, 0, 0, 0, 0]]"
      ]
     },
     "execution_count": 339,
     "metadata": {},
     "output_type": "execute_result"
    }
   ],
   "source": [
    "[[0 for col in range(20)] for row in range(20)]"
   ]
  },
  {
   "cell_type": "code",
   "execution_count": 341,
   "metadata": {},
   "outputs": [
    {
     "name": "stdout",
     "output_type": "stream",
     "text": [
      "3 4\n",
      "4 1 2 3\n",
      "4 1 3 2\n",
      "4 2 1 3\n",
      "4\n"
     ]
    }
   ],
   "source": [
    "K, N = map(int, input().split())\n",
    "nums = []\n",
    "for i in range(K):\n",
    "    nums.append(list(input().split()))\n",
    "z = [[0 for col in range(21)] for row in range(21)]\n",
    "answer = 0\n",
    "\n",
    "for j in range(K):\n",
    "    for x in range(N-1):\n",
    "        for y in range(x+1,N):\n",
    "            num_x = int(nums[j][x])\n",
    "            num_y = int(nums[j][y])\n",
    "            z[num_x][num_y] += 1\n",
    "            if z[num_x][num_y] == K:\n",
    "                answer += 1\n",
    "\n",
    "print(answer)"
   ]
  },
  {
   "cell_type": "code",
   "execution_count": null,
   "metadata": {},
   "outputs": [],
   "source": [
    "K, N = map(int, input().split())\n",
    "session = []\n",
    "cnt = 0\n",
    "consistent  = 0\n",
    "for rankings in range(K):\n",
    "    session.append(list(map(int, input().split())))\n",
    "for a in range(1, N+1):\n",
    "    for b in range(1, N+1):\n",
    "        if cnt == K:\n",
    "            consistent += 1\n",
    "        cnt = 0\n",
    "        for s in range(K):\n",
    "            if a != b:\n",
    "                if session[s].index(a) < session[s].index(b):\n",
    "                    cnt += 1\n",
    "print(consistent)"
   ]
  },
  {
   "cell_type": "code",
   "execution_count": null,
   "metadata": {},
   "outputs": [],
   "source": [
    "n,k = map(int,input().split())\n",
    "l =[]\n",
    "for i in range(n):\n",
    "    l += [list(map(int,input().split()))]\n",
    "count =0\n",
    "for i in range(k):\n",
    "    l2 = [0]*k\n",
    "    for j in range(n):\n",
    "        enter  = False\n",
    "        for p in range(k):\n",
    "            if l[j][p] == i+1:\n",
    "                enter=True\n",
    "            elif enter == True:\n",
    "                l2[l[j][p]-1]+=1\n",
    "    for j in range(k):\n",
    "        if l2[j] == n:\n",
    "            count+=1\n",
    "\n",
    "print(count)"
   ]
  }
 ],
 "metadata": {
  "kernelspec": {
   "display_name": "Python 3",
   "language": "python",
   "name": "python3"
  },
  "language_info": {
   "codemirror_mode": {
    "name": "ipython",
    "version": 3
   },
   "file_extension": ".py",
   "mimetype": "text/x-python",
   "name": "python",
   "nbconvert_exporter": "python",
   "pygments_lexer": "ipython3",
   "version": "3.7.4"
  }
 },
 "nbformat": 4,
 "nbformat_minor": 2
}
