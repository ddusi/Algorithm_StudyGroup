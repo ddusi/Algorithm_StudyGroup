{
 "cells": [
  {
   "cell_type": "markdown",
   "metadata": {},
   "source": [
    "# where AM i?"
   ]
  },
  {
   "cell_type": "code",
   "execution_count": 42,
   "metadata": {
    "scrolled": true
   },
   "outputs": [
    {
     "name": "stdout",
     "output_type": "stream",
     "text": [
      "ABCDABC\n"
     ]
    }
   ],
   "source": [
    "x = list(input())"
   ]
  },
  {
   "cell_type": "code",
   "execution_count": 146,
   "metadata": {},
   "outputs": [],
   "source": [
    "x = ['A','B','C','D','A','B','C']"
   ]
  },
  {
   "cell_type": "code",
   "execution_count": 147,
   "metadata": {},
   "outputs": [],
   "source": [
    "numlist = [x for x in range(65,100)]\n",
    "new_x = list(map(ord, x))\n",
    "count = 0\n",
    "countList = []"
   ]
  },
  {
   "cell_type": "code",
   "execution_count": 150,
   "metadata": {},
   "outputs": [
    {
     "name": "stdout",
     "output_type": "stream",
     "text": [
      "4\n"
     ]
    }
   ],
   "source": [
    "while new_x:\n",
    "    if new_x[0] == 65:\n",
    "        for i in range(0, len(new_x)):\n",
    "            k = new_x.pop(0)\n",
    "            if k == numlist[i]:\n",
    "                count += 1\n",
    "            else:\n",
    "                new_x.insert(0,k)\n",
    "            \n",
    "        else:\n",
    "            countList.append(count)\n",
    "            count = 0\n",
    "print(max(countList))"
   ]
  },
  {
   "cell_type": "code",
   "execution_count": 203,
   "metadata": {},
   "outputs": [],
   "source": [
    "N = 7\n",
    "colors = ['A','B','C','D','A','B','C']\n",
    "answer = 1\n",
    "locationSet = []"
   ]
  },
  {
   "cell_type": "code",
   "execution_count": 206,
   "metadata": {},
   "outputs": [
    {
     "name": "stdout",
     "output_type": "stream",
     "text": [
      "7\n",
      "ABCDABC\n",
      "4\n"
     ]
    }
   ],
   "source": [
    "N = int(input())\n",
    "colors = list(input())\n",
    "answer = 1\n",
    "locationSet = []\n",
    "\n",
    "while answer <= N:\n",
    "    isPossibal = True\n",
    "    for i in range(0,len(colors)-answer+1):\n",
    "        location = colors[i:i+answer]\n",
    "        if location in locationSet:\n",
    "            isPossibal = False\n",
    "            break\n",
    "        else:\n",
    "            locationSet.append(location)\n",
    "\n",
    "    if isPossibal:\n",
    "        break\n",
    "    else:\n",
    "        answer += 1\n",
    "        \n",
    "if answer > N:\n",
    "    answer = N\n",
    "\n",
    "print(answer)"
   ]
  },
  {
   "cell_type": "code",
   "execution_count": 200,
   "metadata": {},
   "outputs": [
    {
     "data": {
      "text/plain": [
       "[['A'],\n",
       " ['B'],\n",
       " ['C'],\n",
       " ['D'],\n",
       " ['A', 'B'],\n",
       " ['B', 'C'],\n",
       " ['C', 'D'],\n",
       " ['D', 'A'],\n",
       " ['A', 'B', 'C'],\n",
       " ['B', 'C', 'D'],\n",
       " ['C', 'D', 'A'],\n",
       " ['D', 'A', 'B'],\n",
       " ['A', 'B', 'C', 'D'],\n",
       " ['B', 'C', 'D', 'A'],\n",
       " ['C', 'D', 'A', 'B'],\n",
       " ['D', 'A', 'B', 'C']]"
      ]
     },
     "execution_count": 200,
     "metadata": {},
     "output_type": "execute_result"
    }
   ],
   "source": [
    "locationSet"
   ]
  },
  {
   "cell_type": "code",
   "execution_count": 201,
   "metadata": {},
   "outputs": [
    {
     "data": {
      "text/plain": [
       "4"
      ]
     },
     "execution_count": 201,
     "metadata": {},
     "output_type": "execute_result"
    }
   ],
   "source": [
    "answer"
   ]
  },
  {
   "cell_type": "code",
   "execution_count": 173,
   "metadata": {},
   "outputs": [
    {
     "data": {
      "text/plain": [
       "True"
      ]
     },
     "execution_count": 173,
     "metadata": {},
     "output_type": "execute_result"
    }
   ],
   "source": [
    "isPossibal"
   ]
  },
  {
   "cell_type": "code",
   "execution_count": null,
   "metadata": {},
   "outputs": [],
   "source": []
  },
  {
   "cell_type": "code",
   "execution_count": null,
   "metadata": {},
   "outputs": [],
   "source": []
  },
  {
   "cell_type": "code",
   "execution_count": null,
   "metadata": {},
   "outputs": [],
   "source": []
  }
 ],
 "metadata": {
  "kernelspec": {
   "display_name": "Python 3",
   "language": "python",
   "name": "python3"
  },
  "language_info": {
   "codemirror_mode": {
    "name": "ipython",
    "version": 3
   },
   "file_extension": ".py",
   "mimetype": "text/x-python",
   "name": "python",
   "nbconvert_exporter": "python",
   "pygments_lexer": "ipython3",
   "version": "3.7.4"
  }
 },
 "nbformat": 4,
 "nbformat_minor": 2
}
