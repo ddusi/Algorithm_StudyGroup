{
 "cells": [
  {
   "cell_type": "markdown",
   "metadata": {},
   "source": [
    "데이터 구조 \n",
    "대량의 데이터를 효율적으로 관리할 수 있는 구조를 데이터구조, 자료구조라고 한다. \n",
    "이 데이터를 효율적으로 관리하는 것은 바로 알고리즘! "
   ]
  },
  {
   "cell_type": "markdown",
   "metadata": {},
   "source": [
    "[문제]\n",
    "정수의 절댓값을 구하는 알고리즘을 짜시오. "
   ]
  },
  {
   "cell_type": "code",
   "execution_count": 1,
   "metadata": {},
   "outputs": [
    {
     "data": {
      "text/plain": [
       "[10, 9, 8, 7, 6, 5, 4, 3, 2, 1, 0, 1, 2, 3, 4, 5, 6, 7, 8, 9, 10]"
      ]
     },
     "execution_count": 1,
     "metadata": {},
     "output_type": "execute_result"
    }
   ],
   "source": [
    "def absfunction (self):\n",
    "    if self > 0:\n",
    "        return self\n",
    "    else :\n",
    "        return -self\n",
    "    \n",
    "result = []\n",
    "for i in range(-10,11):\n",
    "    result.append(absfunction(i))\n",
    "result"
   ]
  },
  {
   "cell_type": "code",
   "execution_count": 2,
   "metadata": {},
   "outputs": [
    {
     "data": {
      "text/plain": [
       "[10, 9, 8, 7, 6, 5, 4, 3, 2, 1, 0, 1, 2, 3, 4, 5, 6, 7, 8, 9, 10]"
      ]
     },
     "execution_count": 2,
     "metadata": {},
     "output_type": "execute_result"
    }
   ],
   "source": [
    "result=[]\n",
    "for i in range(-10,11):\n",
    "    result.append(abs(i))\n",
    "result"
   ]
  },
  {
   "cell_type": "markdown",
   "metadata": {},
   "source": [
    "Big O 표기법 \n",
    "    알고리즘의 최악의 실행 시간을 표기함\n",
    "오메가 표기법 \n",
    "    알고리즘의 최상의 실행 시간을 표기함\n",
    "세타 표기법 \n",
    "    알고리즘의 평균 실행 시간을 표기함\n",
    "    \n",
    "빅 오 표기법 사용방법\n",
    "O(1) : 상수시간. < O(log n) < O(n) < O(nlog n) < O(n^2) < O(n!)\n",
    "    "
   ]
  },
  {
   "cell_type": "code",
   "execution_count": 24,
   "metadata": {},
   "outputs": [],
   "source": [
    "result = 0\n",
    "def sum_function (n):\n",
    "    total = 0\n",
    "    for num in range(1, n+1):\n",
    "        total += num\n",
    "    return total"
   ]
  },
  {
   "cell_type": "markdown",
   "metadata": {},
   "source": [
    "O(n)의 시간이 걸림"
   ]
  },
  {
   "cell_type": "code",
   "execution_count": 30,
   "metadata": {},
   "outputs": [],
   "source": [
    "def sum_function (n):\n",
    "    return int(n * (n + 1) / 2)"
   ]
  },
  {
   "cell_type": "markdown",
   "metadata": {},
   "source": [
    "O(1)의 시간이 걸림."
   ]
  },
  {
   "cell_type": "markdown",
   "metadata": {},
   "source": [
    "이처럼 같은 결과값을 가져오지만 어떤 알고리즘을 쓰냐에 따라 효율성이 달라진다."
   ]
  },
  {
   "cell_type": "markdown",
   "metadata": {},
   "source": [
    "# 배열 (Array)"
   ]
  },
  {
   "cell_type": "code",
   "execution_count": 34,
   "metadata": {},
   "outputs": [
    {
     "name": "stdout",
     "output_type": "stream",
     "text": [
      "[1, 2, 3, 4]\n"
     ]
    }
   ],
   "source": [
    "# 1차원 배열 리스트로 구현. \n",
    "data = [1, 2, 3, 4]\n",
    "print(data)"
   ]
  },
  {
   "cell_type": "code",
   "execution_count": 36,
   "metadata": {},
   "outputs": [
    {
     "data": {
      "text/plain": [
       "[[1, 2, 3], [4, 5, 6], [7, 8, 9]]"
      ]
     },
     "execution_count": 36,
     "metadata": {},
     "output_type": "execute_result"
    }
   ],
   "source": [
    "# 2차원 배열 리스트로 구현.\n",
    "data = [[1,2,3],[4,5,6],[7,8,9]]\n",
    "data"
   ]
  },
  {
   "cell_type": "code",
   "execution_count": 41,
   "metadata": {},
   "outputs": [
    {
     "data": {
      "text/plain": [
       "array([[1, 2, 3],\n",
       "       [4, 5, 6],\n",
       "       [7, 8, 9]])"
      ]
     },
     "execution_count": 41,
     "metadata": {},
     "output_type": "execute_result"
    }
   ],
   "source": [
    "# numpy를 이용한 array\n",
    "import numpy as np\n",
    "dd = np.array(data)\n",
    "dd"
   ]
  },
  {
   "cell_type": "code",
   "execution_count": 44,
   "metadata": {
    "scrolled": true
   },
   "outputs": [
    {
     "name": "stdout",
     "output_type": "stream",
     "text": [
      "9 8 7\n"
     ]
    }
   ],
   "source": [
    "# [문제] 2차원 배열에서 9,8,7 순서대로 출력해보기\n",
    "print(dd[2][2], dd[2][1], dd[2][0])"
   ]
  },
  {
   "cell_type": "code",
   "execution_count": 55,
   "metadata": {},
   "outputs": [
    {
     "data": {
      "text/plain": [
       "21"
      ]
     },
     "execution_count": 55,
     "metadata": {},
     "output_type": "execute_result"
    }
   ],
   "source": [
    "# [문제] 다음 dataset에서 전체 이름 안에 M이 몇번 나왔는지 빈도수 출력.\n",
    "\n",
    "dataset = ['Braund, Mr. Owen Harris',\n",
    "'Cumings, Mrs. John Bradley (Florence Briggs Thayer)',\n",
    "'Heikkinen, Miss. Laina',\n",
    "'Futrelle, Mrs. Jacques Heath (Lily May Peel)',\n",
    "'Allen, Mr. William Henry',\n",
    "'Moran, Mr. James',\n",
    "'McCarthy, Mr. Timothy J',\n",
    "'Palsson, Master. Gosta Leonard',\n",
    "'Johnson, Mrs. Oscar W (Elisabeth Vilhelmina Berg)',\n",
    "'Nasser, Mrs. Nicholas (Adele Achem)',\n",
    "'Sandstrom, Miss. Marguerite Rut',\n",
    "'Bonnell, Miss. Elizabeth',\n",
    "'Saundercock, Mr. William Henry',\n",
    "'Andersson, Mr. Anders Johan',\n",
    "'Vestrom, Miss. Hulda Amanda Adolfina',\n",
    "'Hewlett, Mrs. (Mary D Kingcome) ',\n",
    "'Rice, Master. Eugene',\n",
    "'Williams, Mr. Charles Eugene',\n",
    "'Vander Planke, Mrs. Julius (Emelia Maria Vandemoortele)',\n",
    "'Masselmani, Mrs. Fatima',\n",
    "'Fynney, Mr. Joseph J',\n",
    "'Beesley, Mr. Lawrence',\n",
    "'McGowan, Miss. Anna \"Annie\"',\n",
    "'Sloper, Mr. William Thompson',\n",
    "'Palsson, Miss. Torborg Danira',\n",
    "'Asplund, Mrs. Carl Oscar (Selma Augusta Emilia Johansson)',\n",
    "'Emir, Mr. Farred Chehab',\n",
    "'Fortune, Mr. Charles Alexander',\n",
    "'Dwyer, Miss. Ellen \"Nellie\"',\n",
    "'Todoroff, Mr. Lalio']\n",
    "\n",
    "m_count = 0\n",
    "for data in dataset:\n",
    "    for index in range(len(data)):\n",
    "        if data[index] == 'm':\n",
    "            m_count += 1\n",
    "m_count"
   ]
  },
  {
   "cell_type": "markdown",
   "metadata": {},
   "source": [
    "# 큐"
   ]
  },
  {
   "cell_type": "code",
   "execution_count": null,
   "metadata": {},
   "outputs": [],
   "source": [
    "가장 먼저 넣은 데이터를 가장 먼저 꺼낼 수 있는 구조."
   ]
  },
  {
   "cell_type": "code",
   "execution_count": null,
   "metadata": {},
   "outputs": [],
   "source": [
    "파이썬의 queue 라이브러리 이용하기!\n",
    "Queue(): 가장 일반적인 큐 자료 구조\n",
    "LifoQueue(): 나중에 입력된 데이터가 먼저 출력되는 구조 ( 스택 구조 )\n",
    "PriorityQueue() : 데이터마다 우선순위를 넣어서, 우선순위가 높은 순으로 데이터 출력"
   ]
  },
  {
   "cell_type": "code",
   "execution_count": 2,
   "metadata": {},
   "outputs": [],
   "source": [
    "import queue as q\n",
    "data_queue = q.Queue()\n",
    "data_queue.put(\"funcoding\")"
   ]
  },
  {
   "cell_type": "code",
   "execution_count": 9,
   "metadata": {},
   "outputs": [],
   "source": [
    "data_queue.put(909)"
   ]
  },
  {
   "cell_type": "code",
   "execution_count": 10,
   "metadata": {},
   "outputs": [
    {
     "data": {
      "text/plain": [
       "2"
      ]
     },
     "execution_count": 10,
     "metadata": {},
     "output_type": "execute_result"
    }
   ],
   "source": [
    "data_queue.qsize()"
   ]
  },
  {
   "cell_type": "code",
   "execution_count": 11,
   "metadata": {
    "scrolled": true
   },
   "outputs": [
    {
     "data": {
      "text/plain": [
       "'funcoding'"
      ]
     },
     "execution_count": 11,
     "metadata": {},
     "output_type": "execute_result"
    }
   ],
   "source": [
    "data_queue.get()"
   ]
  },
  {
   "cell_type": "code",
   "execution_count": 12,
   "metadata": {},
   "outputs": [
    {
     "data": {
      "text/plain": [
       "1"
      ]
     },
     "execution_count": 12,
     "metadata": {},
     "output_type": "execute_result"
    }
   ],
   "source": [
    "data_queue.qsize()"
   ]
  },
  {
   "cell_type": "code",
   "execution_count": 13,
   "metadata": {},
   "outputs": [
    {
     "data": {
      "text/plain": [
       "909"
      ]
     },
     "execution_count": 13,
     "metadata": {},
     "output_type": "execute_result"
    }
   ],
   "source": [
    "data_queue.get()"
   ]
  },
  {
   "cell_type": "code",
   "execution_count": 14,
   "metadata": {},
   "outputs": [
    {
     "data": {
      "text/plain": [
       "0"
      ]
     },
     "execution_count": 14,
     "metadata": {},
     "output_type": "execute_result"
    }
   ],
   "source": [
    "data_queue.qsize()"
   ]
  },
  {
   "cell_type": "code",
   "execution_count": 16,
   "metadata": {},
   "outputs": [],
   "source": [
    "# LifoQueue()로 큐 만들기 ( Last-in, First-Out ) 스택구조\n",
    "data_queue = q.LifoQueue()\n",
    "data_queue.put(\"funconding\")\n",
    "data_queue.put(988)"
   ]
  },
  {
   "cell_type": "code",
   "execution_count": 17,
   "metadata": {},
   "outputs": [
    {
     "data": {
      "text/plain": [
       "2"
      ]
     },
     "execution_count": 17,
     "metadata": {},
     "output_type": "execute_result"
    }
   ],
   "source": [
    "data_queue.qsize()"
   ]
  },
  {
   "cell_type": "code",
   "execution_count": 18,
   "metadata": {},
   "outputs": [
    {
     "data": {
      "text/plain": [
       "988"
      ]
     },
     "execution_count": 18,
     "metadata": {},
     "output_type": "execute_result"
    }
   ],
   "source": [
    "data_queue.get()"
   ]
  },
  {
   "cell_type": "code",
   "execution_count": 19,
   "metadata": {},
   "outputs": [
    {
     "data": {
      "text/plain": [
       "1"
      ]
     },
     "execution_count": 19,
     "metadata": {},
     "output_type": "execute_result"
    }
   ],
   "source": [
    "data_queue.qsize()"
   ]
  },
  {
   "cell_type": "code",
   "execution_count": 21,
   "metadata": {
    "scrolled": true
   },
   "outputs": [
    {
     "data": {
      "text/plain": [
       "'funconding'"
      ]
     },
     "execution_count": 21,
     "metadata": {},
     "output_type": "execute_result"
    }
   ],
   "source": [
    "data_queue.get()"
   ]
  },
  {
   "cell_type": "code",
   "execution_count": 7,
   "metadata": {},
   "outputs": [],
   "source": [
    "data = q.PriorityQueue()"
   ]
  },
  {
   "cell_type": "code",
   "execution_count": 8,
   "metadata": {},
   "outputs": [],
   "source": [
    "data.put((10, \"korea\"))\n",
    "data.put((5,1))\n",
    "data.put((15, \"china\"))"
   ]
  },
  {
   "cell_type": "code",
   "execution_count": 25,
   "metadata": {},
   "outputs": [
    {
     "data": {
      "text/plain": [
       "4"
      ]
     },
     "execution_count": 25,
     "metadata": {},
     "output_type": "execute_result"
    }
   ],
   "source": [
    "data.qsize()"
   ]
  },
  {
   "cell_type": "code",
   "execution_count": 11,
   "metadata": {},
   "outputs": [
    {
     "name": "stdout",
     "output_type": "stream",
     "text": [
      "(5, 1)\n",
      "(10, 'korea')\n",
      "(15, 'china')\n"
     ]
    }
   ],
   "source": [
    "for i in range(0, data.qsize()):\n",
    "    print(data.get())"
   ]
  },
  {
   "cell_type": "code",
   "execution_count": null,
   "metadata": {},
   "outputs": [],
   "source": []
  },
  {
   "cell_type": "code",
   "execution_count": null,
   "metadata": {},
   "outputs": [],
   "source": []
  },
  {
   "cell_type": "code",
   "execution_count": null,
   "metadata": {},
   "outputs": [],
   "source": [
    "백준 알고리즘 "
   ]
  },
  {
   "cell_type": "code",
   "execution_count": 20,
   "metadata": {},
   "outputs": [
    {
     "name": "stdout",
     "output_type": "stream",
     "text": [
      "1 5\n",
      "6\n"
     ]
    }
   ],
   "source": [
    "# 1000번\n",
    "a,b = input().split()\n",
    "a = int(a)\n",
    "b = int(b)\n",
    "print(a+b)"
   ]
  },
  {
   "cell_type": "code",
   "execution_count": null,
   "metadata": {},
   "outputs": [],
   "source": [
    "# 2558번 \n",
    "a = int(input())\n",
    "b = int(input())\n",
    "print(a+b)"
   ]
  },
  {
   "cell_type": "code",
   "execution_count": 22,
   "metadata": {},
   "outputs": [
    {
     "name": "stdout",
     "output_type": "stream",
     "text": [
      "5\n",
      "1 1\n",
      "2\n",
      "2 3\n",
      "5\n",
      "3 4\n",
      "7\n",
      "9 8\n",
      "17\n",
      "5 2\n",
      "7\n",
      "1 3\n",
      "4\n"
     ]
    }
   ],
   "source": [
    "# 10950번\n",
    "c = int(input())\n",
    "for i in range(0,c):\n",
    "    a,b=input().split()\n",
    "    a=int(a)\n",
    "    b=int(b)\n",
    "    print(a+b)"
   ]
  },
  {
   "cell_type": "code",
   "execution_count": 25,
   "metadata": {},
   "outputs": [
    {
     "name": "stdout",
     "output_type": "stream",
     "text": [
      "5 4\n",
      "9\n",
      "3 2\n",
      "5\n",
      "4 8\n",
      "12\n",
      "7 \n"
     ]
    }
   ],
   "source": [
    "# 10951번\n",
    "while True:\n",
    "    try:\n",
    "        a, b = map(int, input().split())\n",
    "        print(a+b)\n",
    "    except:\n",
    "        break"
   ]
  },
  {
   "cell_type": "code",
   "execution_count": 2,
   "metadata": {},
   "outputs": [
    {
     "name": "stdout",
     "output_type": "stream",
     "text": [
      "1 5\n",
      "6\n",
      "4 5\n",
      "9\n",
      "0 0\n"
     ]
    }
   ],
   "source": [
    "# 10952번\n",
    "while True:\n",
    "    a,b = input().split()\n",
    "    if a == '0' and b == '0':\n",
    "        break\n",
    "    else:\n",
    "        a=int(a)\n",
    "        b=int(b)\n",
    "        print(a+b)\n",
    "        "
   ]
  },
  {
   "cell_type": "code",
   "execution_count": 2,
   "metadata": {},
   "outputs": [
    {
     "name": "stdout",
     "output_type": "stream",
     "text": [
      "5\n",
      "1,1\n",
      "2\n",
      "2,2\n",
      "4\n",
      "3,3\n",
      "6\n",
      "4,4\n",
      "8\n",
      "5,5\n",
      "10\n"
     ]
    }
   ],
   "source": [
    "# 10953번\n",
    "num = int(input())\n",
    "for i in range(0, num):\n",
    "    a,b = input().split(',')\n",
    "    a=int(a)\n",
    "    b=int(b)\n",
    "    print(a+b)"
   ]
  },
  {
   "cell_type": "code",
   "execution_count": 8,
   "metadata": {},
   "outputs": [
    {
     "name": "stdout",
     "output_type": "stream",
     "text": [
      "5\n",
      "1 1\n",
      "Case #1: 2\n",
      "2 3\n",
      "Case #2: 5\n",
      "3 4\n",
      "Case #3: 7\n",
      "9 8\n",
      "Case #4: 17\n",
      "5 2\n",
      "Case #5: 7\n"
     ]
    }
   ],
   "source": [
    "# 11021번\n",
    "num = int(input())\n",
    "for i in range(0, num):\n",
    "    a,b = input().split()\n",
    "    a=int(a)\n",
    "    b=int(b)\n",
    "    print('Case #'+str(i+1)+': '+str(a+b))"
   ]
  },
  {
   "cell_type": "code",
   "execution_count": 9,
   "metadata": {},
   "outputs": [
    {
     "name": "stdout",
     "output_type": "stream",
     "text": [
      "5\n",
      "1 1\n",
      "Case #1: 1 + 1 = 2\n",
      "2 3\n",
      "Case #2: 2 + 3 = 5\n",
      "\n"
     ]
    },
    {
     "ename": "ValueError",
     "evalue": "not enough values to unpack (expected 2, got 0)",
     "output_type": "error",
     "traceback": [
      "\u001b[1;31m---------------------------------------------------------------------------\u001b[0m",
      "\u001b[1;31mValueError\u001b[0m                                Traceback (most recent call last)",
      "\u001b[1;32m<ipython-input-9-fc41cb744831>\u001b[0m in \u001b[0;36m<module>\u001b[1;34m\u001b[0m\n\u001b[0;32m      2\u001b[0m \u001b[0mnum\u001b[0m \u001b[1;33m=\u001b[0m \u001b[0mint\u001b[0m\u001b[1;33m(\u001b[0m\u001b[0minput\u001b[0m\u001b[1;33m(\u001b[0m\u001b[1;33m)\u001b[0m\u001b[1;33m)\u001b[0m\u001b[1;33m\u001b[0m\u001b[1;33m\u001b[0m\u001b[0m\n\u001b[0;32m      3\u001b[0m \u001b[1;32mfor\u001b[0m \u001b[0mi\u001b[0m \u001b[1;32min\u001b[0m \u001b[0mrange\u001b[0m\u001b[1;33m(\u001b[0m\u001b[1;36m0\u001b[0m\u001b[1;33m,\u001b[0m \u001b[0mnum\u001b[0m\u001b[1;33m)\u001b[0m\u001b[1;33m:\u001b[0m\u001b[1;33m\u001b[0m\u001b[1;33m\u001b[0m\u001b[0m\n\u001b[1;32m----> 4\u001b[1;33m     \u001b[0ma\u001b[0m\u001b[1;33m,\u001b[0m\u001b[0mb\u001b[0m \u001b[1;33m=\u001b[0m \u001b[0minput\u001b[0m\u001b[1;33m(\u001b[0m\u001b[1;33m)\u001b[0m\u001b[1;33m.\u001b[0m\u001b[0msplit\u001b[0m\u001b[1;33m(\u001b[0m\u001b[1;33m)\u001b[0m\u001b[1;33m\u001b[0m\u001b[1;33m\u001b[0m\u001b[0m\n\u001b[0m\u001b[0;32m      5\u001b[0m     \u001b[0ma\u001b[0m\u001b[1;33m=\u001b[0m\u001b[0mint\u001b[0m\u001b[1;33m(\u001b[0m\u001b[0ma\u001b[0m\u001b[1;33m)\u001b[0m\u001b[1;33m\u001b[0m\u001b[1;33m\u001b[0m\u001b[0m\n\u001b[0;32m      6\u001b[0m     \u001b[0mb\u001b[0m\u001b[1;33m=\u001b[0m\u001b[0mint\u001b[0m\u001b[1;33m(\u001b[0m\u001b[0mb\u001b[0m\u001b[1;33m)\u001b[0m\u001b[1;33m\u001b[0m\u001b[1;33m\u001b[0m\u001b[0m\n",
      "\u001b[1;31mValueError\u001b[0m: not enough values to unpack (expected 2, got 0)"
     ]
    }
   ],
   "source": [
    "# 11022번\n",
    "num = int(input())\n",
    "for i in range(0, num):\n",
    "    a,b = input().split()\n",
    "    a=int(a)\n",
    "    b=int(b)\n",
    "    print('Case #'+str(i+1)+': '+str(a) + ' + ' + str(b) + ' = ' + str(a+b))"
   ]
  },
  {
   "cell_type": "code",
   "execution_count": 11,
   "metadata": {},
   "outputs": [
    {
     "name": "stdout",
     "output_type": "stream",
     "text": [
      "1 2\n",
      "3\n",
      "-60 40\n",
      "-20\n",
      "-999999999 1000000000\n",
      "1\n",
      "1099511627776 1073741824\n",
      "1100585369600\n",
      "z\n"
     ]
    }
   ],
   "source": [
    "# 15740번\n",
    "while True:\n",
    "    try:\n",
    "        a, b = map(int, input().split())\n",
    "        print(a+b)\n",
    "    except:\n",
    "        break"
   ]
  },
  {
   "cell_type": "code",
   "execution_count": null,
   "metadata": {},
   "outputs": [],
   "source": [
    "브루드포스"
   ]
  },
  {
   "cell_type": "code",
   "execution_count": 36,
   "metadata": {},
   "outputs": [
    {
     "name": "stdout",
     "output_type": "stream",
     "text": [
      "5 21\n",
      "5 6 7 8 9\n",
      "21\n"
     ]
    }
   ],
   "source": [
    "# 2798번\n",
    "N,M = map(int,input().split())\n",
    "num = list(map(int,input().split()))\n",
    "select=[]\n",
    "\n",
    "# 삼중 for문 매커니즘\n",
    "for i in range(len(num)):\n",
    "    for j in range(i+1, len(num)):\n",
    "        for k in range(j+1, len(num)):\n",
    "            select.append(num[i]+num[j]+num[k])\n",
    "select = [i for i in select if i<=M]\n",
    "if len(select)>0:\n",
    "    print(max(select))"
   ]
  },
  {
   "cell_type": "code",
   "execution_count": 55,
   "metadata": {},
   "outputs": [
    {
     "name": "stdout",
     "output_type": "stream",
     "text": [
      "a+a,a+b,a+c,a+d,b+a,b+b,b+c,b+d,c+a,c+b,c+c,c+d,d+a,d+b,d+c,d+d,"
     ]
    }
   ],
   "source": [
    "# 삼중 for문 매커니즘\n",
    "a = ['a','b','c','d']\n",
    "for i in a:\n",
    "    for j in a:\n",
    "        print(i + \"+\" + j + ',', end='')\n"
   ]
  },
  {
   "cell_type": "code",
   "execution_count": 3,
   "metadata": {},
   "outputs": [
    {
     "name": "stdout",
     "output_type": "stream",
     "text": [
      "4\n",
      "3\n",
      "0\n",
      "4\n",
      "0\n",
      "0\n"
     ]
    }
   ],
   "source": [
    "# 10773번\n",
    "import queue as q \n",
    "\n",
    "num=int(input())\n",
    "data = q.LifoQueue() #스택 자료형 설정.\n",
    "sum_num = int(0) # int자료형에 초기값 0으로 지정.\n",
    "\n",
    "for i in range(num):\n",
    "    k = input()\n",
    "    if k == '0': \n",
    "        data.get() # 스택 출력\n",
    "    else:\n",
    "        data.put(k) # 스택 입력\n",
    "        \n",
    "while True:\n",
    "    if data.qsize() == 0:\n",
    "        break\n",
    "    else:\n",
    "        j = int(data.get())\n",
    "        sum_num = sum_num + j\n",
    "        \n",
    "print(sum_num)\n",
    "        "
   ]
  },
  {
   "cell_type": "code",
   "execution_count": 6,
   "metadata": {},
   "outputs": [
    {
     "name": "stdout",
     "output_type": "stream",
     "text": [
      "4\n",
      "3\n",
      "0\n",
      "4\n",
      "0\n",
      "0\n"
     ]
    }
   ],
   "source": [
    "# 10773번 두번째 풀이 ( 리스트-pop 활용 )\n",
    "num = int(input())\n",
    "A = []\n",
    "for i in range(num):\n",
    "    data = int(input())\n",
    "    if data == 0:\n",
    "        A.pop()\n",
    "    else:\n",
    "        A.append(data)\n",
    "print(sum(A))"
   ]
  },
  {
   "cell_type": "code",
   "execution_count": null,
   "metadata": {
    "scrolled": false
   },
   "outputs": [],
   "source": [
    "sum_num"
   ]
  },
  {
   "cell_type": "code",
   "execution_count": 2,
   "metadata": {},
   "outputs": [
    {
     "name": "stdout",
     "output_type": "stream",
     "text": [
      "['1', '6']\n"
     ]
    }
   ],
   "source": [
    "# 큐를 보는 방법\n",
    "d = data.queue\n",
    "print(d)\n"
   ]
  },
  {
   "cell_type": "code",
   "execution_count": 23,
   "metadata": {},
   "outputs": [
    {
     "name": "stdout",
     "output_type": "stream",
     "text": [
      "6\n",
      "(())())\n",
      "NO\n",
      "(((()())()\n",
      "NO\n",
      "(()())((()))\n",
      "YES\n",
      "((()()(()))(((())))()\n",
      "NO\n",
      "()()()()(()()())()\n",
      "YES\n",
      "(()((())()(\n",
      "NO\n"
     ]
    }
   ],
   "source": [
    "# 9012번 혼자 푼 방법\n",
    "n = int(input())\n",
    "for i in range(n):\n",
    "    left = int(0)\n",
    "    right = int(0)\n",
    "    data = list(input())\n",
    "    \n",
    "    for i in range(len(data)):\n",
    "        k = data.pop()\n",
    "        if k == ')':\n",
    "            right += 1\n",
    "        else:\n",
    "            left += 1\n",
    "            \n",
    "\n",
    "    if right == left:\n",
    "        print(\"YES\")\n",
    "    else:\n",
    "        print(\"NO\")   \n"
   ]
  },
  {
   "cell_type": "code",
   "execution_count": 31,
   "metadata": {},
   "outputs": [
    {
     "name": "stdout",
     "output_type": "stream",
     "text": [
      "3\n",
      "((\n",
      "NO\n",
      "))\n",
      "NO\n",
      "())(()\n",
      "YES\n"
     ]
    }
   ],
   "source": [
    "# 9012 번 다른풀이\n",
    "n = int(input())\n",
    "for i in range(n):\n",
    "    count = 0\n",
    "    data = list(input())\n",
    "    \n",
    "    for i in range(len(data)):\n",
    "        k = data.pop()\n",
    "        if k == ')':\n",
    "            count += 1\n",
    "        elif k == '(':\n",
    "            count -= 1\n",
    "        else:\n",
    "            continue\n",
    "\n",
    "    if count == 0:\n",
    "        print(\"YES\")\n",
    "    else:\n",
    "        print(\"NO\")   \n"
   ]
  },
  {
   "cell_type": "code",
   "execution_count": 13,
   "metadata": {},
   "outputs": [
    {
     "name": "stdout",
     "output_type": "stream",
     "text": [
      "6\n",
      "(())())\n",
      "(((()())()\n",
      "(()())((()))\n",
      "((()()(()))(((())))()\n",
      "()()()()(()()())()\n",
      "(()((())()(\n",
      "NO\n",
      "NO\n",
      "YES\n",
      "NO\n",
      "YES\n",
      "NO\n"
     ]
    }
   ],
   "source": [
    "# 9012번 순서 배열\n",
    "n = int(input())\n",
    "vps = []\n",
    "value=[]\n",
    "\n",
    "for i in range(n):\n",
    "    array = list(input())\n",
    "    if array.count('(') == array.count(')'):\n",
    "        for j in range(len(array)):\n",
    "            if array[j] == '(':\n",
    "                vps.append(array[j])\n",
    "            elif vps and array[j] == ')':\n",
    "                del vps[-1]\n",
    "            else:\n",
    "                value.append(\"NO\")\n",
    "                break\n",
    "        if not vps: \n",
    "            value.append(\"YES\")\n",
    "    else:\n",
    "        value.append(\"NO\")\n",
    "    \n",
    "for i in value:\n",
    "    print(i)"
   ]
  },
  {
   "cell_type": "markdown",
   "metadata": {},
   "source": [
    "[백준 1874번 스택수열](https://www.acmicpc.net/problem/1874)"
   ]
  },
  {
   "cell_type": "code",
   "execution_count": 15,
   "metadata": {},
   "outputs": [],
   "source": [
    "# 1874번 스택수열 ( 접근 포기.. )\n",
    "n = 8\n",
    "answer_list = [4,3,6,8,7,5,2,1]\n",
    "numbers = sorted(answer_list, reverse=True)\n",
    "stack = []\n",
    "answer = []\n",
    "\n",
    "for i in range(n):\n",
    "    if stack[-1] == answer_list[i]\n",
    "       answer.append(stack.pop())\n",
    "    else:\n",
    "    k = numbers.pop()\n",
    "    stack.append(k)\n",
    "    \n"
   ]
  },
  {
   "cell_type": "markdown",
   "metadata": {},
   "source": [
    "[1874번 정답](https://claude-u.tistory.com/156)"
   ]
  },
  {
   "cell_type": "code",
   "execution_count": 16,
   "metadata": {},
   "outputs": [
    {
     "data": {
      "text/plain": [
       "[8, 7, 6, 5, 4, 3, 2, 1]"
      ]
     },
     "execution_count": 16,
     "metadata": {},
     "output_type": "execute_result"
    }
   ],
   "source": [
    "# 1874번 스택수열 풀이\n",
    "class Stack():\n",
    "    "
   ]
  },
  {
   "cell_type": "code",
   "execution_count": 4,
   "metadata": {},
   "outputs": [],
   "source": [
    "participant = ['mislav', 'stanko', 'mislav', 'ana']\n",
    "completion = ['stanko', 'ana', 'mislav']"
   ]
  },
  {
   "cell_type": "markdown",
   "metadata": {},
   "source": [
    "# 프로그래머스 해시 1번, 완주하지 못한 선수"
   ]
  },
  {
   "cell_type": "code",
   "execution_count": 39,
   "metadata": {},
   "outputs": [
    {
     "data": {
      "text/plain": [
       "'ana'"
      ]
     },
     "execution_count": 39,
     "metadata": {},
     "output_type": "execute_result"
    }
   ],
   "source": [
    "# 프로그래머스 해시, 완주하지 못한 선수\n",
    "# 1차 시도 오답.\n",
    "def solution(participant, completion):\n",
    "    for i in range(len(participant)):\n",
    "        k = participant[i] in completion\n",
    "        if k == 0:\n",
    "            return participant[i]    \n",
    "            break\n",
    "\n",
    "    answer = participant[i] \n",
    "    return answer\n",
    "\n",
    "\n",
    "solution(participant, completion)"
   ]
  },
  {
   "cell_type": "code",
   "execution_count": 5,
   "metadata": {},
   "outputs": [
    {
     "data": {
      "text/plain": [
       "'mislav'"
      ]
     },
     "execution_count": 5,
     "metadata": {},
     "output_type": "execute_result"
    }
   ],
   "source": [
    "# 프로그래머스 해시, 완주하지 못한 선수 \n",
    "# 해쉬값을 덧셈 뺄셈으로 이용한 답\n",
    "def solution(participant, completion):\n",
    "    answer = ''\n",
    "    temp = 0\n",
    "    dic = {}\n",
    "    for part in participant:\n",
    "        dic[hash(part)] = part\n",
    "        temp += int(hash(part))\n",
    "    for com in completion:\n",
    "        temp -= hash(com)\n",
    "    answer = dic[temp]\n",
    "\n",
    "    return answer\n",
    "solution(participant, completion) "
   ]
  },
  {
   "cell_type": "code",
   "execution_count": 71,
   "metadata": {
    "scrolled": true
   },
   "outputs": [
    {
     "name": "stdout",
     "output_type": "stream",
     "text": [
      "mislav\n",
      "-4444099891450032482\n",
      "stanko\n",
      "-1354827310542618385\n",
      "mislav\n",
      "-5798927201992650867\n",
      "ana\n",
      "-10378024922172692319\n",
      "-13467297503080106416\n",
      "-8888199782900064964\n",
      "-4444099891450032482\n"
     ]
    }
   ],
   "source": [
    "    temp = 0\n",
    "    dic = {}\n",
    "    for part in participant:\n",
    "        print(part)\n",
    "        dic[hash(part)] = part\n",
    "        temp += int(hash(part))\n",
    "        print(temp)\n",
    "    for com in completion:\n",
    "        temp -= hash(com)\n",
    "        print(temp)"
   ]
  },
  {
   "cell_type": "code",
   "execution_count": 96,
   "metadata": {},
   "outputs": [],
   "source": [
    "# collections 라이브러리 이용.\n",
    "import collections\n",
    "\n",
    "\n",
    "def solution(participant, completion):\n",
    "    answer = collections.Counter(participant) - collections.Counter(completion)\n",
    "    return list(answer.keys())[0]\n",
    "\n"
   ]
  },
  {
   "cell_type": "code",
   "execution_count": 84,
   "metadata": {},
   "outputs": [
    {
     "name": "stdout",
     "output_type": "stream",
     "text": [
      "Counter({'mislav': 2, 'stanko': 1, 'ana': 1})\n",
      "Counter({'stanko': 1, 'ana': 1, 'mislav': 1})\n",
      "Counter({'mislav': 1})\n"
     ]
    }
   ],
   "source": [
    "p = ['mislav', 'stanko', 'mislav', 'ana']\n",
    "c = ['stanko', 'ana', 'mislav']\n",
    "\n",
    "print(collections.Counter(p))\n",
    "# Counter({'mislav': 2, 'stanko': 1, 'ana': 1})\n",
    "\n",
    "print(collections.Counter(c))\n",
    "# Counter({'stanko': 1, 'ana': 1, 'mislav': 1})\n",
    "\n",
    "print(collections.Counter(p) - collections.Counter(c))  # 'mislav'"
   ]
  },
  {
   "cell_type": "code",
   "execution_count": 101,
   "metadata": {},
   "outputs": [],
   "source": [
    "def solution(participant, completion):\n",
    "    participant.sort()\n",
    "    completion.sort()\n",
    "    for i in range(len(completion)):\n",
    "        if participant[i] != complection[i]:\n",
    "            return participant[i]\n",
    "    return participant[len(participant)-1]"
   ]
  },
  {
   "cell_type": "code",
   "execution_count": 86,
   "metadata": {
    "scrolled": true
   },
   "outputs": [],
   "source": [
    "# Counter()는 dict와 같이 hash형 자료들의 값의 개수를 셀 때 사용해는데,\n",
    "# 딕셔너리 처럼 {'자료이름':'개수'}형식으로 만들어진다! 심지어 Counter 객체들끼리 뺄셈도 가능하다. "
   ]
  },
  {
   "cell_type": "code",
   "execution_count": 85,
   "metadata": {
    "scrolled": true
   },
   "outputs": [
    {
     "name": "stdout",
     "output_type": "stream",
     "text": [
      "Representation: ('Bob', 30, 'male')\n",
      "\n",
      "Field by index: Jane\n",
      "\n",
      "Fields by index:\n",
      "Bob is a 30 year old male\n",
      "Jane is a 29 year old female\n"
     ]
    }
   ],
   "source": [
    "bob = ('Bob', 30, 'male')\n",
    "print ('Representation:', bob)\n",
    "\n",
    "jane = ('Jane', 29, 'female')\n",
    "print ('\\nField by index:', jane[0])\n",
    "\n",
    "print ('\\nFields by index:')\n",
    "for p in [ bob, jane ]:\n",
    "    print ('%s is a %d year old %s' % p)"
   ]
  },
  {
   "cell_type": "code",
   "execution_count": 87,
   "metadata": {
    "scrolled": false
   },
   "outputs": [
    {
     "name": "stdout",
     "output_type": "stream",
     "text": [
      "Type of Person: <class 'type'>\n",
      "\n",
      "Representation: Person(name='Bob', age=30, gender='male')\n",
      "\n",
      "Field by name: Jane\n",
      "\n",
      "Fields by index:\n",
      "Bob is a 30 year old male\n",
      "Jane is a 29 year old female\n"
     ]
    }
   ],
   "source": [
    "import collections\n",
    "\n",
    "Person = collections.namedtuple('Person', 'name age gender')\n",
    "\n",
    "print ('Type of Person:', type(Person))\n",
    "\n",
    "bob = Person(name='Bob', age=30, gender='male')\n",
    "print ('\\nRepresentation:', bob)\n",
    "\n",
    "jane = Person(name='Jane', age=29, gender='female')\n",
    "print ('\\nField by name:', jane.name)\n",
    "\n",
    "print ('\\nFields by index:')\n",
    "for p in [ bob, jane ]:\n",
    "    print ('%s is a %d year old %s' % p)\n",
    "    "
   ]
  },
  {
   "cell_type": "code",
   "execution_count": 90,
   "metadata": {},
   "outputs": [
    {
     "data": {
      "text/plain": [
       "Person(name='Bob', age=30, gender='male')"
      ]
     },
     "execution_count": 90,
     "metadata": {},
     "output_type": "execute_result"
    }
   ],
   "source": [
    "bob"
   ]
  },
  {
   "cell_type": "code",
   "execution_count": 93,
   "metadata": {},
   "outputs": [
    {
     "name": "stdout",
     "output_type": "stream",
     "text": [
      "Regular dictionary:\n",
      "a A\n",
      "b B\n",
      "c C\n",
      "\n",
      "OrderedDict:\n",
      "a A\n",
      "b B\n",
      "c C\n"
     ]
    }
   ],
   "source": [
    "import collections\n",
    "\n",
    "# 기본 dict구조\n",
    "print('Regular dictionary:')\n",
    "d = {}\n",
    "d['a'] = 'A'\n",
    "d['b'] = 'B'\n",
    "d['c'] = 'C'\n",
    "\n",
    "for k, v in d.items():\n",
    "    print(k, v)\n",
    "\n",
    "    \n",
    "# 링크드리스트로 구현된 순서가 있는 dict구조\n",
    "print('\\nOrderedDict:')\n",
    "d = collections.OrderedDict()\n",
    "d['a'] = 'A'\n",
    "d['b'] = 'B'\n",
    "d['c'] = 'C'\n",
    "\n",
    "for k, v in d.items():\n",
    "    print(k, v)"
   ]
  },
  {
   "cell_type": "code",
   "execution_count": 95,
   "metadata": {},
   "outputs": [
    {
     "data": {
      "text/plain": [
       "OrderedDict([('a', 'E'), ('b', 'B'), ('c', 'C')])"
      ]
     },
     "execution_count": 95,
     "metadata": {},
     "output_type": "execute_result"
    }
   ],
   "source": [
    "# 중복 dict 입력\n",
    "d = collections.OrderedDict()\n",
    "d['a'] = 'A'\n",
    "d['b'] = 'B'\n",
    "d['c'] = 'C'\n",
    "d['a'] = 'D'\n",
    "d['a'] = 'E'\n",
    "\n",
    "d"
   ]
  },
  {
   "cell_type": "markdown",
   "metadata": {},
   "source": [
    "# 프로그래머스 해시 - 전화번호 목록"
   ]
  },
  {
   "cell_type": "code",
   "execution_count": 7,
   "metadata": {
    "scrolled": true
   },
   "outputs": [],
   "source": [
    "# 1차 시도 \n",
    "phone_book = [\"119\", \"97674223\", \"1195524421\"]\n"
   ]
  },
  {
   "cell_type": "code",
   "execution_count": 253,
   "metadata": {},
   "outputs": [
    {
     "data": {
      "text/plain": [
       "True"
      ]
     },
     "execution_count": 253,
     "metadata": {},
     "output_type": "execute_result"
    }
   ],
   "source": [
    "# in 문법을 이용하여 사용가능.\n",
    "phone_book[0] in phone_book[2] "
   ]
  },
  {
   "cell_type": "code",
   "execution_count": null,
   "metadata": {},
   "outputs": [],
   "source": [
    "각 인덱스의 리스트 크기중 3개 이하인 것들로 탐색!"
   ]
  },
  {
   "cell_type": "code",
   "execution_count": null,
   "metadata": {},
   "outputs": [],
   "source": [
    "phone_book[1] in "
   ]
  },
  {
   "cell_type": "code",
   "execution_count": 245,
   "metadata": {
    "scrolled": true
   },
   "outputs": [
    {
     "data": {
      "text/plain": [
       "True"
      ]
     },
     "execution_count": 245,
     "metadata": {},
     "output_type": "execute_result"
    }
   ],
   "source": [
    "# 정확성 떨어짐... \n",
    "def solution(phone_book):\n",
    "    valse = []\n",
    "    for i in phone_book:\n",
    "        if len(list(i)) < 4:\n",
    "            for j in range(len(phone_book)):\n",
    "                if i != phone_book[-(j+1)]:\n",
    "                    f = i in phone_book[-(j+1)]\n",
    "                    if f == True:\n",
    "                        valse.append(f)\n",
    "                    else:\n",
    "                        valse.append(f)\n",
    "                    \n",
    "                    \n",
    "    if True in valse:\n",
    "        answer = False\n",
    "    else: \n",
    "        answer = True\n",
    "        \n",
    "    return answer\n",
    "solution(phone_book)\n"
   ]
  },
  {
   "cell_type": "code",
   "execution_count": 8,
   "metadata": {},
   "outputs": [
    {
     "data": {
      "text/plain": [
       "False"
      ]
     },
     "execution_count": 8,
     "metadata": {},
     "output_type": "execute_result"
    }
   ],
   "source": [
    "# 2차 시도 정렬을하서 앞뒤 비교!\n",
    "def solution(phone_book):\n",
    "    \n",
    "    #정렬만 하여도 앞뒤로 비교하여 찾을 수 있다. \n",
    "    phone_book.sort() \n",
    "    \n",
    "    for i in range(len(phone_book)-1):\n",
    "        if phone_book[i] in phone_book[i+1]:\n",
    "            return False # 접두어가 있다.\n",
    "    \n",
    "    return True # 접두어가 없다.\n",
    "solution(phone_book)"
   ]
  },
  {
   "cell_type": "code",
   "execution_count": 261,
   "metadata": {},
   "outputs": [
    {
     "name": "stdout",
     "output_type": "stream",
     "text": [
      "12 23\n",
      "23 22\n"
     ]
    }
   ],
   "source": [
    "# 3차 zip(), startswitch() 이용하기\n",
    "\n",
    "def solution(phone_book):\n",
    "    phone_book.sort()\n",
    "    for p1, p2 in zip(phone_book, phone_book[1:]):\n",
    "        if p2.startswith(p1):\n",
    "            return False\n",
    "    return True"
   ]
  },
  {
   "cell_type": "code",
   "execution_count": null,
   "metadata": {},
   "outputs": [],
   "source": [
    "zip() 함수는 여러 리스트를 한줄로 slice를 하는 함수."
   ]
  },
  {
   "cell_type": "code",
   "execution_count": 268,
   "metadata": {},
   "outputs": [
    {
     "name": "stdout",
     "output_type": "stream",
     "text": [
      "1 k 9\n",
      "2 d 8\n",
      "3 a 7\n"
     ]
    }
   ],
   "source": [
    "# 1. 리스트 여러개 슬라이싱 가능\n",
    "# 2. 리스트 길이가 맞지 않으면 끝까지 출력이 안됌.\n",
    "a = [1, 2, 3, 4]\n",
    "b = ['k', 'd', 'a', 'e']\n",
    "c = [9, 8, 7]\n",
    "for i, j, k in zip(a, b, c):\n",
    "    print(i, j, k)"
   ]
  },
  {
   "cell_type": "code",
   "execution_count": null,
   "metadata": {},
   "outputs": [],
   "source": [
    "[str].startswith() 라는 함수도 있다..>!?"
   ]
  },
  {
   "cell_type": "code",
   "execution_count": null,
   "metadata": {},
   "outputs": [],
   "source": [
    "# 신기한 풀이\n",
    "from itertools import combinations as c\n",
    "def solution(phoneBook):\n",
    "    answer = True\n",
    "    sortedPB = sorted(phoneBook, key= len)\n",
    "    for (a,b) in c( sortedPB,2):\n",
    "        if a == b[:len(a)]:\n",
    "            answer = False\n",
    "    return answer"
   ]
  },
  {
   "cell_type": "markdown",
   "metadata": {},
   "source": [
    "# 프로그래머스 해시 - 위장"
   ]
  },
  {
   "cell_type": "code",
   "execution_count": 367,
   "metadata": {},
   "outputs": [],
   "source": [
    "clothes = [['yellow_hat', 'headgear'],\n",
    "           ['blue_sunglasses', 'eyewear'],\n",
    "           ['green_turban', 'headgear']]"
   ]
  },
  {
   "cell_type": "code",
   "execution_count": 274,
   "metadata": {
    "scrolled": false
   },
   "outputs": [
    {
     "data": {
      "text/plain": [
       "{'yellow_hat': 'headgear',\n",
       " 'blue_sunglasses': 'eyewear',\n",
       " 'green_turban': 'headgear'}"
      ]
     },
     "execution_count": 274,
     "metadata": {},
     "output_type": "execute_result"
    }
   ],
   "source": [
    "clothes = dict(clothes)\n",
    "\n",
    "if values"
   ]
  },
  {
   "cell_type": "code",
   "execution_count": 340,
   "metadata": {
    "scrolled": false
   },
   "outputs": [],
   "source": [
    "kind_list=set([])\n",
    "for kind in range(len(clothes)):\n",
    "    kind_list.add(clothes[kind][-1])\n",
    "kind_list = list(kind_list)"
   ]
  },
  {
   "cell_type": "code",
   "execution_count": 365,
   "metadata": {},
   "outputs": [
    {
     "data": {
      "text/plain": [
       "['headgear', 'eyewear']"
      ]
     },
     "execution_count": 365,
     "metadata": {},
     "output_type": "execute_result"
    }
   ],
   "source": [
    "kind_list"
   ]
  },
  {
   "cell_type": "code",
   "execution_count": 389,
   "metadata": {},
   "outputs": [],
   "source": [
    "clothes_dict = {}\n",
    "for i in range(len(kind_list)): \n",
    "    for j in range(len(clothes)):\n",
    "        if kind_list[i] in clothes[j]:\n",
    "            clothes_dict[kind_list[i]] = (clothes[0])\n",
    "    "
   ]
  },
  {
   "cell_type": "code",
   "execution_count": 388,
   "metadata": {},
   "outputs": [
    {
     "data": {
      "text/plain": [
       "{'headgear': [['yellow_hat', 'headgear']],\n",
       " 'eyewear': [['yellow_hat', 'headgear']]}"
      ]
     },
     "execution_count": 388,
     "metadata": {},
     "output_type": "execute_result"
    }
   ],
   "source": [
    "clothes_dict"
   ]
  },
  {
   "cell_type": "code",
   "execution_count": 374,
   "metadata": {},
   "outputs": [
    {
     "data": {
      "text/plain": [
       "['yellow_hat', 'headgear']"
      ]
     },
     "execution_count": 374,
     "metadata": {},
     "output_type": "execute_result"
    }
   ],
   "source": [
    "clothes[0]"
   ]
  },
  {
   "cell_type": "code",
   "execution_count": 336,
   "metadata": {
    "scrolled": true
   },
   "outputs": [
    {
     "data": {
      "text/plain": [
       "[['yellow_hat', 'headgear'],\n",
       " ['blue_sunglasses', 'eyewear'],\n",
       " ['green_turban', 'headgear']]"
      ]
     },
     "execution_count": 336,
     "metadata": {},
     "output_type": "execute_result"
    }
   ],
   "source": [
    "for tag in range(len(clothes)):\n",
    "    if clothes[i] in kind_list:\n",
    "        {kind_list[0] : []"
   ]
  },
  {
   "cell_type": "code",
   "execution_count": 356,
   "metadata": {},
   "outputs": [
    {
     "data": {
      "text/plain": [
       "{'headgear': ['yellow_hat', 'green_turban'], 'eyewear': ['blue_sunglasses']}"
      ]
     },
     "execution_count": 356,
     "metadata": {},
     "output_type": "execute_result"
    }
   ],
   "source": [
    "clothes = {'headgear' : ['yellow_hat','green_turban'], 'eyewear' : ['blue_sunglasses']}\n",
    "clothes"
   ]
  },
  {
   "cell_type": "code",
   "execution_count": 357,
   "metadata": {},
   "outputs": [
    {
     "ename": "KeyError",
     "evalue": "0",
     "output_type": "error",
     "traceback": [
      "\u001b[1;31m---------------------------------------------------------------------------\u001b[0m",
      "\u001b[1;31mKeyError\u001b[0m                                  Traceback (most recent call last)",
      "\u001b[1;32m<ipython-input-357-9278c4bff043>\u001b[0m in \u001b[0;36m<module>\u001b[1;34m\u001b[0m\n\u001b[1;32m----> 1\u001b[1;33m \u001b[0mclothes\u001b[0m\u001b[1;33m[\u001b[0m\u001b[1;36m0\u001b[0m\u001b[1;33m]\u001b[0m\u001b[1;33m\u001b[0m\u001b[1;33m\u001b[0m\u001b[0m\n\u001b[0m",
      "\u001b[1;31mKeyError\u001b[0m: 0"
     ]
    }
   ],
   "source": [
    "clothes[0]"
   ]
  },
  {
   "cell_type": "code",
   "execution_count": 359,
   "metadata": {},
   "outputs": [
    {
     "data": {
      "text/plain": [
       "['yellow_hat', 'green_turban']"
      ]
     },
     "execution_count": 359,
     "metadata": {},
     "output_type": "execute_result"
    }
   ],
   "source": [
    "clothes.get('headgear')"
   ]
  },
  {
   "cell_type": "code",
   "execution_count": 364,
   "metadata": {},
   "outputs": [
    {
     "data": {
      "text/plain": [
       "2"
      ]
     },
     "execution_count": 364,
     "metadata": {},
     "output_type": "execute_result"
    }
   ],
   "source": [
    "# 해시테이블 구조처럼 이용하여 불러와서 이중 for문\n",
    "valus = []\n",
    "for i in clothes.get('headgear'):\n",
    "    for j in clothes.get('eyewear'):\n",
    "        valus.append([i,j])\n",
    "len(valus)"
   ]
  },
  {
   "cell_type": "code",
   "execution_count": 358,
   "metadata": {
    "scrolled": true
   },
   "outputs": [
    {
     "name": "stdout",
     "output_type": "stream",
     "text": [
      "yellow_hat\n",
      "blue_sunglasses\n",
      "green_turban\n"
     ]
    },
    {
     "ename": "IndexError",
     "evalue": "list index out of range",
     "output_type": "error",
     "traceback": [
      "\u001b[1;31m---------------------------------------------------------------------------\u001b[0m",
      "\u001b[1;31mIndexError\u001b[0m                                Traceback (most recent call last)",
      "\u001b[1;32m<ipython-input-358-20d99fef9c04>\u001b[0m in \u001b[0;36m<module>\u001b[1;34m\u001b[0m\n\u001b[0;32m      1\u001b[0m \u001b[1;32mfor\u001b[0m \u001b[0mi\u001b[0m \u001b[1;32min\u001b[0m \u001b[0mrange\u001b[0m\u001b[1;33m(\u001b[0m\u001b[0mlen\u001b[0m\u001b[1;33m(\u001b[0m\u001b[0mclothes\u001b[0m\u001b[1;33m)\u001b[0m\u001b[1;33m)\u001b[0m\u001b[1;33m:\u001b[0m\u001b[1;33m\u001b[0m\u001b[1;33m\u001b[0m\u001b[0m\n\u001b[0;32m      2\u001b[0m         \u001b[0mprint\u001b[0m\u001b[1;33m(\u001b[0m\u001b[1;33m(\u001b[0m\u001b[0mclothes\u001b[0m\u001b[1;33m.\u001b[0m\u001b[0mget\u001b[0m\u001b[1;33m(\u001b[0m\u001b[1;34m'headgear'\u001b[0m\u001b[1;33m)\u001b[0m\u001b[1;33m)\u001b[0m\u001b[1;33m[\u001b[0m\u001b[0mi\u001b[0m\u001b[1;33m]\u001b[0m\u001b[1;33m)\u001b[0m\u001b[1;33m\u001b[0m\u001b[1;33m\u001b[0m\u001b[0m\n\u001b[1;32m----> 3\u001b[1;33m         \u001b[0mprint\u001b[0m\u001b[1;33m(\u001b[0m\u001b[1;33m(\u001b[0m\u001b[0mclothes\u001b[0m\u001b[1;33m.\u001b[0m\u001b[0mget\u001b[0m\u001b[1;33m(\u001b[0m\u001b[1;34m'eyewear'\u001b[0m\u001b[1;33m)\u001b[0m\u001b[1;33m)\u001b[0m\u001b[1;33m[\u001b[0m\u001b[0mi\u001b[0m\u001b[1;33m]\u001b[0m\u001b[1;33m)\u001b[0m\u001b[1;33m\u001b[0m\u001b[1;33m\u001b[0m\u001b[0m\n\u001b[0m",
      "\u001b[1;31mIndexError\u001b[0m: list index out of range"
     ]
    }
   ],
   "source": [
    "for i in range(len(clothes)):\n",
    "        print((clothes.get('headgear'))[i])\n",
    "        print((clothes.get('eyewear'))[i])"
   ]
  },
  {
   "cell_type": "code",
   "execution_count": null,
   "metadata": {},
   "outputs": [],
   "source": []
  },
  {
   "cell_type": "code",
   "execution_count": 299,
   "metadata": {},
   "outputs": [
    {
     "data": {
      "text/plain": [
       "['yellow_hat',\n",
       " ['yellow_hat', 'blue_sunglasses'],\n",
       " ['yellow_hat', 'green_turban'],\n",
       " ['blue_sunglasses', 'yellow_hat'],\n",
       " 'blue_sunglasses',\n",
       " ['blue_sunglasses', 'green_turban'],\n",
       " ['green_turban', 'yellow_hat'],\n",
       " ['green_turban', 'blue_sunglasses'],\n",
       " 'green_turban']"
      ]
     },
     "execution_count": 299,
     "metadata": {},
     "output_type": "execute_result"
    }
   ],
   "source": [
    "divied = []\n",
    "for i in clothes:\n",
    "    for j in clothes:\n",
    "        if i == j:\n",
    "            divied.append(i)\n",
    "        else:\n",
    "            divied.append([i, j])\n",
    "divied"
   ]
  },
  {
   "cell_type": "code",
   "execution_count": 296,
   "metadata": {
    "scrolled": false
   },
   "outputs": [
    {
     "data": {
      "text/plain": [
       "[['_', 'a', 'e', 'h', 'l', 'l', 'o', 't', 'w', 'y'],\n",
       " ['blue_sunglasses', 'yellow_hat'],\n",
       " ['green_turban', 'yellow_hat'],\n",
       " ['blue_sunglasses', 'yellow_hat'],\n",
       " ['_', 'a', 'b', 'e', 'e', 'g', 'l', 'l', 'n', 's', 's', 's', 's', 'u', 'u'],\n",
       " ['blue_sunglasses', 'green_turban'],\n",
       " ['green_turban', 'yellow_hat'],\n",
       " ['blue_sunglasses', 'green_turban'],\n",
       " ['_', 'a', 'b', 'e', 'e', 'g', 'n', 'n', 'r', 'r', 't', 'u']]"
      ]
     },
     "execution_count": 296,
     "metadata": {},
     "output_type": "execute_result"
    }
   ],
   "source": [
    "for i in range(len(divied)):\n",
    "    divied[i] = (sorted(divied[i]))\n",
    "divied"
   ]
  },
  {
   "cell_type": "code",
   "execution_count": 300,
   "metadata": {},
   "outputs": [
    {
     "ename": "TypeError",
     "evalue": "unhashable type: 'list'",
     "output_type": "error",
     "traceback": [
      "\u001b[1;31m---------------------------------------------------------------------------\u001b[0m",
      "\u001b[1;31mTypeError\u001b[0m                                 Traceback (most recent call last)",
      "\u001b[1;32m<ipython-input-300-95b13aa2902e>\u001b[0m in \u001b[0;36m<module>\u001b[1;34m\u001b[0m\n\u001b[1;32m----> 1\u001b[1;33m \u001b[0mset\u001b[0m\u001b[1;33m(\u001b[0m\u001b[0mdivied\u001b[0m\u001b[1;33m)\u001b[0m\u001b[1;33m\u001b[0m\u001b[1;33m\u001b[0m\u001b[0m\n\u001b[0m",
      "\u001b[1;31mTypeError\u001b[0m: unhashable type: 'list'"
     ]
    }
   ],
   "source": [
    "set(divied)"
   ]
  },
  {
   "cell_type": "code",
   "execution_count": null,
   "metadata": {},
   "outputs": [],
   "source": [
    "def solution(clothes):\n",
    "    answer = 0\n",
    "    \n",
    "    \n",
    "    return answer"
   ]
  },
  {
   "cell_type": "code",
   "execution_count": null,
   "metadata": {},
   "outputs": [],
   "source": []
  },
  {
   "cell_type": "code",
   "execution_count": 61,
   "metadata": {},
   "outputs": [],
   "source": [
    "numbers = [3, 7, 2, 8, 6, 4, 5, 1]\n",
    "k = 3"
   ]
  },
  {
   "cell_type": "code",
   "execution_count": 59,
   "metadata": {},
   "outputs": [],
   "source": [
    "# 처음에는 앞뒤랑 다 비교를해서 바꾸지 않아도 되는 목록을 추림. \n",
    "# 처음부터 하나씩 하면 될듯\n",
    "values = []\n",
    "for i in range(len(numbers)-1):\n",
    "    if abs(numbers[i] - numbers[i+1]) >= k:\n",
    "        values.append([i,numbers[i],numbers[i+1]])\n",
    "        \n",
    "# 위치 변경 swip() 구현\n",
    "numbers[values[0][0]], numbers[values[1][0]] = numbers[values[1][0]], numbers[values[0][0]]\n",
    "values = []\n"
   ]
  },
  {
   "cell_type": "code",
   "execution_count": 64,
   "metadata": {},
   "outputs": [],
   "source": [
    "for i in range(len(numbers)-1):\n",
    "    if abs(numbers[i] - numbers[i+1]) >= k:\n",
    "        values.append([i,numbers[i],numbers[i+1]])"
   ]
  },
  {
   "cell_type": "code",
   "execution_count": null,
   "metadata": {},
   "outputs": [],
   "source": []
  },
  {
   "cell_type": "code",
   "execution_count": 74,
   "metadata": {},
   "outputs": [
    {
     "name": "stdout",
     "output_type": "stream",
     "text": [
      "3 7\n",
      "7 2\n",
      "2 8\n",
      "5 1\n"
     ]
    }
   ],
   "source": [
    "# 2차시도. 주어진 수로 각 정렬을 한 후, 비교해서 스왚으로 위치를 변경해주자.\n",
    "numbers = [3, 7, 2, 8, 6, 4, 5, 1]\n",
    "k = 3\n",
    "compare = [numbers[0]]\n",
    "\n",
    "for i in range(len(numbers)-1):\n",
    "    if abs(numbers[i] - numbers[i+1]) >= k:\n",
    "        (numbers[i], numbers[i+1])\n"
   ]
  },
  {
   "cell_type": "code",
   "execution_count": null,
   "metadata": {},
   "outputs": [],
   "source": []
  },
  {
   "cell_type": "code",
   "execution_count": null,
   "metadata": {},
   "outputs": [],
   "source": [
    "SW 역량테스트 2806. N-Queen"
   ]
  },
  {
   "cell_type": "code",
   "execution_count": null,
   "metadata": {},
   "outputs": [],
   "source": [
    "# input에는 NxN 행렬과, 퀸의 수 N은 동일 N을 받아야한다. \n",
    "# 그 다음 범위를 처음시작과 끝을 받는다. \n",
    "\n",
    "n = int(input())\n",
    "x = int(input())\n",
    "y = int(input())\n",
    "\n",
    "# 퀸은 서로다른 대각선과, 서로다른 행과 열을 차지하고 있어야한다. \n",
    "# 퀸이 첫번째 배열에 할당되었을 때, 행을 불리언값으로 둬서 못두게 하더라도, \n",
    "# 대각선에 있는값은 [i][i] 정방으로 제외하면 된다."
   ]
  },
  {
   "cell_type": "code",
   "execution_count": 77,
   "metadata": {},
   "outputs": [
    {
     "data": {
      "text/plain": [
       "str"
      ]
     },
     "execution_count": 77,
     "metadata": {},
     "output_type": "execute_result"
    }
   ],
   "source": []
  },
  {
   "cell_type": "markdown",
   "metadata": {},
   "source": [
    "# 백준 14889번, 스타트와 링크, Silver 3"
   ]
  },
  {
   "cell_type": "code",
   "execution_count": null,
   "metadata": {},
   "outputs": [],
   "source": [
    "input N을 받고 N은 짝수이다. N/2명으로 이루어진 스타트팀과 링크팀으로 나눈다.\n",
    "그다음 행렬 N x N을 받아야 한다. "
   ]
  },
  {
   "cell_type": "code",
   "execution_count": null,
   "metadata": {},
   "outputs": [],
   "source": [
    "from itertools import combinations #조합 함수\n",
    "n = int(input())\n",
    "n_list = []"
   ]
  },
  {
   "cell_type": "code",
   "execution_count": 78,
   "metadata": {},
   "outputs": [
    {
     "name": "stdout",
     "output_type": "stream",
     "text": [
      "4\n"
     ]
    }
   ],
   "source": []
  },
  {
   "cell_type": "code",
   "execution_count": 79,
   "metadata": {},
   "outputs": [
    {
     "name": "stdout",
     "output_type": "stream",
     "text": [
      "0 1 2 3\n",
      "4 0 5 6\n",
      "7 1 0 2\n",
      "3 4 5 0\n"
     ]
    }
   ],
   "source": [
    "# 2차원 배열로 만들어줌\n",
    "for i in range(n):\n",
    "    i = list(map (int, input().split()))\n",
    "    n_list.append(i)"
   ]
  },
  {
   "cell_type": "code",
   "execution_count": 80,
   "metadata": {},
   "outputs": [
    {
     "data": {
      "text/plain": [
       "[[0, 1, 2, 3], [4, 0, 5, 6], [7, 1, 0, 2], [3, 4, 5, 0]]"
      ]
     },
     "execution_count": 80,
     "metadata": {},
     "output_type": "execute_result"
    }
   ],
   "source": [
    "n_list"
   ]
  },
  {
   "cell_type": "code",
   "execution_count": 81,
   "metadata": {},
   "outputs": [],
   "source": [
    "# 조합을 이용하여 각 후보자 생성\n",
    "members = [i for i in range(n)]\n",
    "possible_team = []\n",
    "#조합으로 가능한 팀 생성해주기 ( 순열 이용 = 중복 제거 )\n",
    "for team in list(combinations(members, n//2)):\n",
    "    possible_team.append(team)"
   ]
  },
  {
   "cell_type": "code",
   "execution_count": 83,
   "metadata": {},
   "outputs": [
    {
     "data": {
      "text/plain": [
       "[(0, 1), (0, 2), (0, 3), (1, 2), (1, 3), (2, 3)]"
      ]
     },
     "execution_count": 83,
     "metadata": {},
     "output_type": "execute_result"
    }
   ],
   "source": [
    "possible_team"
   ]
  },
  {
   "cell_type": "code",
   "execution_count": 91,
   "metadata": {},
   "outputs": [],
   "source": [
    "for i in range(len(possible_team)//2):\n",
    "    # A팀\n",
    "    team = possible_team[i]\n",
    "    start_A = 0\n",
    "    for j in range(n//2):\n",
    "        member = team[j]\n",
    "        for k in team:\n",
    "            start_A += n_list[member][k]"
   ]
  },
  {
   "cell_type": "code",
   "execution_count": 93,
   "metadata": {},
   "outputs": [
    {
     "data": {
      "text/plain": [
       "(0, 3)"
      ]
     },
     "execution_count": 93,
     "metadata": {},
     "output_type": "execute_result"
    }
   ],
   "source": [
    "for i in possible_team:"
   ]
  },
  {
   "cell_type": "code",
   "execution_count": null,
   "metadata": {},
   "outputs": [],
   "source": []
  },
  {
   "cell_type": "markdown",
   "metadata": {},
   "source": [
    "# 백준 14891번, 톱니바퀴, Silver 1"
   ]
  },
  {
   "cell_type": "code",
   "execution_count": null,
   "metadata": {},
   "outputs": [],
   "source": [
    "import sys\n",
    "import collections\n",
    "\n",
    "wheels = []\n",
    "turns = []\n",
    "\n",
    "def turnLeft(i, d):\n",
    "    if i < 0:\n",
    "        return\n",
    "    if wheels[i][2] != wheels[i+1][6]:\n",
    "        turnLeft(i-1, -d)\n",
    "        wheels[i].rotate(d)\n",
    "        \n",
    "def turnRight(i, d):\n",
    "    if i > 3:\n",
    "        return\n",
    "    if wheels[i][6] != wheels[i-1][2]:\n",
    "        turnRight(i+1, -d)\n",
    "        wheels[i].rotate(d)\n",
    "        \n",
    "def solve():\n",
    "    for turn in turns:\n",
    "        [idx, direction] = turn\n",
    "        \n",
    "        turnLeft(idx-1, -direction)\n",
    "        turnRight(idx+1, -direction)\n",
    "        \n",
    "        wheels[idx].rotate(direction)\n",
    "        \n",
    "if __name__ == '__main__':\n",
    "    for i in range(4):\n",
    "        wheels.append(collections.deque(list(sys.stdin.readline())[:8]))\n",
    "        \n",
    "    K = int(sys.stdin.readline())\n",
    "    \n",
    "    for i in range(K):\n",
    "        v1, v2 = map(int, sys.stdin.readline().split())\n",
    "        turns.append([v1-1, v2])\n",
    "        \n",
    "    solve()\n",
    "    sumVal = 0\n",
    "    for i, wheel in eunmerate(wheels):\n",
    "        sumVal += int(wheel[0]) * (1 << i)\n",
    "    print(sumVal)"
   ]
  },
  {
   "cell_type": "code",
   "execution_count": 121,
   "metadata": {
    "scrolled": false
   },
   "outputs": [
    {
     "name": "stdout",
     "output_type": "stream",
     "text": [
      "10101111\n",
      "01111101\n",
      "11001110\n",
      "00000010\n",
      "2\n",
      "3 -1\n",
      "1 1\n"
     ]
    }
   ],
   "source": [
    "import collections\n",
    "\n",
    "# 일단 자료형은 deque를 이용하여 4개의 톱니바퀴 초기형태 받음\n",
    "wheels=[]\n",
    "turns=[]\n",
    "for i in range(4):\n",
    "    wheels.append(collections.deque(list(input().split())))\n",
    "# 톱니들의 도는 횟수를 K변수로 받음. \n",
    "K = int(input())\n",
    "for i in range(K):\n",
    "    v1, v2 = map(int, input().split())\n",
    "    turns.append([v1-1, v2]) #톱니의 번호는 1,2,3,4이고 실제 인덱스는 0부터시작이니까\n",
    "    "
   ]
  },
  {
   "cell_type": "code",
   "execution_count": 124,
   "metadata": {},
   "outputs": [
    {
     "data": {
      "text/plain": [
       "[[2, -1], [0, 1]]"
      ]
     },
     "execution_count": 124,
     "metadata": {},
     "output_type": "execute_result"
    }
   ],
   "source": [
    "turns"
   ]
  },
  {
   "cell_type": "code",
   "execution_count": 122,
   "metadata": {},
   "outputs": [
    {
     "data": {
      "text/plain": [
       "[[2, -1], [0, 1]]"
      ]
     },
     "execution_count": 122,
     "metadata": {},
     "output_type": "execute_result"
    }
   ],
   "source": [
    "def solve():\n",
    "    for turn in turns:\n",
    "        [idx, direction] = turn\n",
    "        \n",
    "        turnLeft(idx-1, -direction)\n",
    "        turnRight(idx+1, -direction)\n",
    "        \n",
    "        wheels[idx].rotate(direction)"
   ]
  },
  {
   "cell_type": "code",
   "execution_count": 133,
   "metadata": {
    "scrolled": true
   },
   "outputs": [],
   "source": [
    "p = [idx, direction] = [2, -1]\n",
    "a=idx, direction"
   ]
  },
  {
   "cell_type": "code",
   "execution_count": 136,
   "metadata": {},
   "outputs": [
    {
     "data": {
      "text/plain": [
       "2"
      ]
     },
     "execution_count": 136,
     "metadata": {},
     "output_type": "execute_result"
    }
   ],
   "source": []
  },
  {
   "cell_type": "code",
   "execution_count": null,
   "metadata": {},
   "outputs": [],
   "source": [
    "# 재귀 용법 ( rexursive call, 재귀 호출)\n",
    "    고급 정렬 알고리즘에서 재귀용법을 사용하므로, 알아야한다. \n",
    "    \n",
    "1. 재귀용법\n",
    "- 함수 안에서 동일한 함수를 호출하는 형태! \n",
    "2. 예제."
   ]
  },
  {
   "cell_type": "code",
   "execution_count": 95,
   "metadata": {},
   "outputs": [],
   "source": [
    "def factorial(num):\n",
    "    if num > 1: \n",
    "        return num * factorial(num - 1)\n",
    "    else:\n",
    "        return num"
   ]
  },
  {
   "cell_type": "code",
   "execution_count": 96,
   "metadata": {},
   "outputs": [
    {
     "name": "stdout",
     "output_type": "stream",
     "text": [
      "0\n",
      "1\n",
      "2\n",
      "6\n",
      "24\n",
      "120\n",
      "720\n",
      "5040\n",
      "40320\n",
      "362880\n"
     ]
    }
   ],
   "source": [
    "for num in range(10):\n",
    "    print(factorial(num))"
   ]
  },
  {
   "cell_type": "code",
   "execution_count": 97,
   "metadata": {},
   "outputs": [],
   "source": [
    "# 일반적인 형태\n",
    "def function(입력):\n",
    "    if 입력 > 일정값: # 입력이 일정 값 이상이면\n",
    "        return function(입력 - 1) #입력보다 작은 값\n",
    "    else:\n",
    "        return 일정값 # 재귀 호출 종료\n"
   ]
  },
  {
   "cell_type": "code",
   "execution_count": 100,
   "metadata": {},
   "outputs": [
    {
     "ename": "SyntaxError",
     "evalue": "invalid syntax (<ipython-input-100-72974a24fa2f>, line 5)",
     "output_type": "error",
     "traceback": [
      "\u001b[1;36m  File \u001b[1;32m\"<ipython-input-100-72974a24fa2f>\"\u001b[1;36m, line \u001b[1;32m5\u001b[0m\n\u001b[1;33m    function(입력보다 작은 값)\u001b[0m\n\u001b[1;37m                   ^\u001b[0m\n\u001b[1;31mSyntaxError\u001b[0m\u001b[1;31m:\u001b[0m invalid syntax\n"
     ]
    }
   ],
   "source": [
    "# 일반적인 형태2\n",
    "def function(입력):\n",
    "    if 입력 <= 일정값: #입력이 일정 값보다 작으면\n",
    "        return 결과값 # 재귀 호출 종료\n",
    "    function(입력보다 작은 값)\n",
    "    return 결과값"
   ]
  },
  {
   "cell_type": "code",
   "execution_count": 102,
   "metadata": {},
   "outputs": [],
   "source": [
    "# 일반적인 형태 2 로 작성한 팩토리얼\n",
    "def factorial(num):\n",
    "    if num <= 1:\n",
    "        return num\n",
    "    \n",
    "    return_value = num * factorial(num - 1)\n",
    "    return return_value"
   ]
  },
  {
   "cell_type": "raw",
   "metadata": {},
   "source": [
    "재귀 호출은 스택의 전형적인 예이다. \n",
    "    함수는 내부적으로 스택처럼 관리된다.\n",
    "   "
   ]
  },
  {
   "cell_type": "code",
   "execution_count": null,
   "metadata": {},
   "outputs": [],
   "source": [
    "파이썬에서 입력 값을 받을 때 보통 input()을 이용한다.\n",
    "하지만 알고리즘에서 input()을 이용할 때 종종 시간 초과가 발생하기 때문에\n",
    "sys 모듈의 sys.stdin을 사용한다."
   ]
  },
  {
   "cell_type": "code",
   "execution_count": 111,
   "metadata": {},
   "outputs": [],
   "source": [
    "import sys\n",
    "1\n",
    "for x in sys.stdin.readline():\n",
    "    print(x)"
   ]
  },
  {
   "cell_type": "code",
   "execution_count": null,
   "metadata": {},
   "outputs": [],
   "source": []
  },
  {
   "cell_type": "markdown",
   "metadata": {},
   "source": [
    "# 로봇청소기 14503번, Gold 5\n"
   ]
  },
  {
   "cell_type": "code",
   "execution_count": 3,
   "metadata": {},
   "outputs": [
    {
     "name": "stdout",
     "output_type": "stream",
     "text": [
      "3 3\n",
      "1 1 0\n",
      "1 1 1\n",
      "1 0 1\n",
      "1 1 1\n"
     ]
    }
   ],
   "source": []
  },
  {
   "cell_type": "code",
   "execution_count": 13,
   "metadata": {},
   "outputs": [
    {
     "name": "stdout",
     "output_type": "stream",
     "text": [
      "3 3\n",
      "1 1 0\n",
      "1 1 1\n",
      "1 0 1\n",
      "1 1 1\n",
      "1\n"
     ]
    }
   ],
   "source": [
    "# 방향은 북동남서\n",
    "dx = [-1, 0, 1, 0]\n",
    "dy = [0, 1, 0, -1]\n",
    "\n",
    "# 방향 바꿔주기 (왼쪽부터 탐색)\n",
    "def change(d):\n",
    "    if(d == 0):\n",
    "        return 3\n",
    "    elif(d == 1):\n",
    "        return 0\n",
    "    elif(d == 2):\n",
    "        return 1\n",
    "    elif(d == 3):\n",
    "        return 2\n",
    "    \n",
    "def find(r, c, d):\n",
    "    cnt = 1\n",
    "    x = r\n",
    "    y = c\n",
    "    status[x][y] = 2\n",
    "    \n",
    "    while(True):\n",
    "        dc = d\n",
    "        for i in range(4):\n",
    "            empty = 0\n",
    "            dc = change(dc)\n",
    "            nx = x + dx[dc]\n",
    "            ny = y + dy[dc]\n",
    "            # 유효 범위 안에 있고, 빈칸이라면, \n",
    "            if(0<=nx<n and 0<=ny<m and status[nx][ny] == 0):\n",
    "                cnt += 1\n",
    "                x = nx\n",
    "                y = ny\n",
    "                status[nx][ny] = 2\n",
    "                d = dc\n",
    "                empty = 1\n",
    "                break\n",
    "            # 4방향 모두 탐색 후 모든 칸이 청소가 되었다면\n",
    "            if(empty == 0):\n",
    "                # 후진\n",
    "                if(d == 0):\n",
    "                    x += 1\n",
    "                elif(d == 1):\n",
    "                    y -= 1\n",
    "                elif(d == 2):\n",
    "                    x -= 1\n",
    "                elif(d == 3):\n",
    "                    y += 1\n",
    "                # 후진하려는 칸이 벽이라면 stop\n",
    "                if(status[x][y] == 1):\n",
    "                    break\n",
    "                    \n",
    "        return cnt\n",
    "\n",
    "n, m = map(int, input().split())\n",
    "r, c, d = map(int, input().split())\n",
    "# d가 0 북, 1 동, 2 남, 3 서\n",
    "status = []\n",
    "for i in range(M):\n",
    "    i = list(map (int, input().split()))\n",
    "    status.append(i)\n",
    "res = find(r,c,d)\n",
    "print(res)\n",
    "    "
   ]
  },
  {
   "cell_type": "code",
   "execution_count": 11,
   "metadata": {},
   "outputs": [
    {
     "data": {
      "text/plain": [
       "[[0, 1, 1], [1, 0, 1], [1, 1, 1]]"
      ]
     },
     "execution_count": 11,
     "metadata": {},
     "output_type": "execute_result"
    }
   ],
   "source": [
    "status"
   ]
  },
  {
   "cell_type": "code",
   "execution_count": 6,
   "metadata": {},
   "outputs": [
    {
     "name": "stdout",
     "output_type": "stream",
     "text": [
      "3 3\n",
      "1 1 0\n"
     ]
    }
   ],
   "source": [
    "print(N, M)\n",
    "print(x, y, d)"
   ]
  },
  {
   "cell_type": "code",
   "execution_count": 15,
   "metadata": {},
   "outputs": [
    {
     "ename": "ValueError",
     "evalue": "not enough values to unpack (expected 2, got 0)",
     "output_type": "error",
     "traceback": [
      "\u001b[1;31m---------------------------------------------------------------------------\u001b[0m",
      "\u001b[1;31mValueError\u001b[0m                                Traceback (most recent call last)",
      "\u001b[1;32m<ipython-input-15-40d87e126fe2>\u001b[0m in \u001b[0;36m<module>\u001b[1;34m\u001b[0m\n\u001b[0;32m      1\u001b[0m \u001b[1;32mimport\u001b[0m \u001b[0msys\u001b[0m\u001b[1;33m\u001b[0m\u001b[1;33m\u001b[0m\u001b[0m\n\u001b[1;32m----> 2\u001b[1;33m \u001b[0mn\u001b[0m\u001b[1;33m,\u001b[0m \u001b[0mm\u001b[0m \u001b[1;33m=\u001b[0m \u001b[0mmap\u001b[0m\u001b[1;33m(\u001b[0m\u001b[0mint\u001b[0m\u001b[1;33m,\u001b[0m \u001b[0msys\u001b[0m\u001b[1;33m.\u001b[0m\u001b[0mstdin\u001b[0m\u001b[1;33m.\u001b[0m\u001b[0mreadline\u001b[0m\u001b[1;33m(\u001b[0m\u001b[1;33m)\u001b[0m\u001b[1;33m.\u001b[0m\u001b[0msplit\u001b[0m\u001b[1;33m(\u001b[0m\u001b[1;33m)\u001b[0m\u001b[1;33m)\u001b[0m\u001b[1;33m\u001b[0m\u001b[1;33m\u001b[0m\u001b[0m\n\u001b[0m",
      "\u001b[1;31mValueError\u001b[0m: not enough values to unpack (expected 2, got 0)"
     ]
    }
   ],
   "source": [
    "import sys\n",
    "n, m = map(int, sys.stdin.readline().split())"
   ]
  },
  {
   "cell_type": "code",
   "execution_count": 39,
   "metadata": {},
   "outputs": [
    {
     "name": "stdout",
     "output_type": "stream",
     "text": [
      "5\n",
      "6\n"
     ]
    }
   ],
   "source": [
    "# 코드업 1078번\n",
    "n = int(input())\n",
    "k = 0\n",
    "for i in range(n+1):\n",
    "    if (i%2) == 0:\n",
    "        k += i\n",
    "        \n",
    "print(k)"
   ]
  },
  {
   "cell_type": "code",
   "execution_count": 44,
   "metadata": {},
   "outputs": [
    {
     "name": "stdout",
     "output_type": "stream",
     "text": [
      "x b k d l q g a c\n"
     ]
    }
   ],
   "source": [
    "# 코드업 1079번\n",
    "n = list(input().split())\n",
    "for i in n:\n",
    "    print(i)\n",
    "    if i == 'q':\n",
    "        break"
   ]
  },
  {
   "cell_type": "code",
   "execution_count": 64,
   "metadata": {},
   "outputs": [
    {
     "name": "stdout",
     "output_type": "stream",
     "text": [
      "55\n",
      "10\n"
     ]
    }
   ],
   "source": [
    "# 코드업 1080번\n",
    "n = int(input())\n",
    "k = 0\n",
    "\n",
    "for i in range(1,n+1):\n",
    "    k += i\n",
    "    if k >= n:\n",
    "        break\n",
    "print(i)"
   ]
  },
  {
   "cell_type": "code",
   "execution_count": 69,
   "metadata": {},
   "outputs": [
    {
     "name": "stdout",
     "output_type": "stream",
     "text": [
      "2 3\n"
     ]
    }
   ],
   "source": [
    "# 코드업 1081번\n",
    "n = list(map(int, input().split()))\n",
    "for i in range(1,n[0]+1):\n",
    "    for j in range(1,n[1]+1):\n",
    "        print(i, j)"
   ]
  },
  {
   "cell_type": "code",
   "execution_count": 119,
   "metadata": {
    "scrolled": false
   },
   "outputs": [
    {
     "name": "stdout",
     "output_type": "stream",
     "text": [
      "B\n",
      "B*1=B\n",
      "B*2=16\n",
      "B*3=21\n",
      "B*4=2C\n",
      "B*5=37\n",
      "B*6=42\n",
      "B*7=4D\n",
      "B*8=58\n",
      "B*9=63\n",
      "B*A=6E\n",
      "B*B=79\n",
      "B*C=84\n",
      "B*D=8F\n",
      "B*E=9A\n",
      "B*F=A5\n"
     ]
    }
   ],
   "source": [
    "# 코드업 467번\n",
    "n = input()\n",
    "n_hex = int(n, 16)\n",
    "for i in range(1,16):\n",
    "    print(str(n) +'*'+ (str(format(i, 'x'))).upper() +'=' + (str(format(n_hex*i, 'x'))).upper())"
   ]
  },
  {
   "cell_type": "markdown",
   "metadata": {},
   "source": [
    "# 배운점\n",
    "- strring.upper() 대문자로 바꿔주는 명령어!\n",
    "- format(16진수, 'x') 16진수 소문자로 나옴. \n",
    "- int(n, 16) 16진수로 바꿔줌."
   ]
  },
  {
   "cell_type": "code",
   "execution_count": 106,
   "metadata": {},
   "outputs": [
    {
     "name": "stdout",
     "output_type": "stream",
     "text": [
      "f\n"
     ]
    }
   ],
   "source": [
    "value = 15\n",
    "b = format(value, 'x')\n",
    "print(b)"
   ]
  },
  {
   "cell_type": "code",
   "execution_count": null,
   "metadata": {},
   "outputs": [],
   "source": [
    "# 코드업 1097번 \n",
    "import numpy as np \n",
    "n = []\n",
    "n_array = []\n",
    "\n",
    "\n",
    "# 바둑알 배열 19*19 상태 받음. \n",
    "for i in range(19):\n",
    "    n = list(map(int, input().split()))\n",
    "    n_array.append(n)\n",
    "myarray = np.array(n_array)\n",
    "\n",
    "# 횟수랑, 좌표값 받음. \n",
    "n_repeat = int(input())\n",
    "location = []\n",
    "for i in range(n_repeat):\n",
    "    n = list(map(int, input().split()))\n",
    "    location.append(n)"
   ]
  },
  {
   "cell_type": "code",
   "execution_count": 453,
   "metadata": {},
   "outputs": [
    {
     "name": "stdout",
     "output_type": "stream",
     "text": [
      "0 0 0 0 0 0 0 0 0 1 0 1 0 0 0 0 0 0 0 \n",
      "0 0 0 0 0 0 0 0 0 1 0 1 0 0 0 0 0 0 0 \n",
      "0 0 0 0 0 0 0 0 0 1 0 1 0 0 0 0 0 0 0 \n",
      "0 0 0 0 0 0 0 0 0 1 0 1 0 0 0 0 0 0 0 \n",
      "0 0 0 0 0 0 0 0 0 1 0 1 0 0 0 0 0 0 0 \n",
      "0 0 0 0 0 0 0 0 0 1 0 1 0 0 0 0 0 0 0 \n",
      "0 0 0 0 0 0 0 0 0 1 0 1 0 0 0 0 0 0 0 \n",
      "0 0 0 0 0 0 0 0 0 1 0 1 0 0 0 0 0 0 0 \n",
      "0 0 0 0 0 0 0 0 0 1 0 1 0 0 0 0 0 0 0 \n",
      "1 1 1 1 1 1 1 1 1 1 1 1 1 1 1 1 1 1 1 \n",
      "0 0 0 0 0 0 0 0 0 1 0 1 0 0 0 0 0 0 0 \n",
      "1 1 1 1 1 1 1 1 1 1 1 1 1 1 1 1 1 1 1 \n",
      "0 0 0 0 0 0 0 0 0 1 0 1 0 0 0 0 0 0 0 \n",
      "0 0 0 0 0 0 0 0 0 1 0 1 0 0 0 0 0 0 0 \n",
      "0 0 0 0 0 0 0 0 0 1 0 1 0 0 0 0 0 0 0 \n",
      "0 0 0 0 0 0 0 0 0 1 0 1 0 0 0 0 0 0 0 \n",
      "0 0 0 0 0 0 0 0 0 1 0 1 0 0 0 0 0 0 0 \n",
      "0 0 0 0 0 0 0 0 0 1 0 1 0 0 0 0 0 0 0 \n",
      "0 0 0 0 0 0 0 0 0 1 0 1 0 0 0 0 0 0 0 \n"
     ]
    }
   ],
   "source": [
    "for j in range(len(location)):\n",
    "    for i in range(19):\n",
    "    # 첫번째 바꿈\n",
    "        if myarray[location[j][0]-1][i] == 0:\n",
    "            myarray[location[j][0]-1][i] = 1\n",
    "        elif myarray[location[j][0]-1][i] == 1:\n",
    "            myarray[location[j][0]-1][i] = 0\n",
    "    #--------------------------------------------------------        \n",
    "        if myarray[i][location[j][1]-1] == 0:\n",
    "            myarray[i][location[j][1]-1] = 1\n",
    "        elif myarray[i][location[j][1]-1] == 1:\n",
    "            myarray[i][location[j][1]-1] = 0\n",
    "\n",
    "for i in range(19):\n",
    "    for j in range(19):\n",
    "        print(str(myarray[i][j])+' ', end='')\n",
    "        if j == 18:\n",
    "            print('')            "
   ]
  },
  {
   "cell_type": "code",
   "execution_count": 455,
   "metadata": {
    "scrolled": true
   },
   "outputs": [
    {
     "name": "stdout",
     "output_type": "stream",
     "text": [
      "4\n",
      "0\n",
      "1\n",
      "2\n",
      "3\n",
      "4\n"
     ]
    }
   ],
   "source": [
    "n = int(input())\n",
    "for i in range(n+1):\n",
    "    print(i)\n",
    "    "
   ]
  },
  {
   "cell_type": "code",
   "execution_count": 458,
   "metadata": {},
   "outputs": [
    {
     "data": {
      "text/plain": [
       "97"
      ]
     },
     "execution_count": 458,
     "metadata": {},
     "output_type": "execute_result"
    }
   ],
   "source": [
    "chr(45)\n",
    "ord('a')"
   ]
  },
  {
   "cell_type": "code",
   "execution_count": 460,
   "metadata": {},
   "outputs": [
    {
     "data": {
      "text/plain": [
       "122"
      ]
     },
     "execution_count": 460,
     "metadata": {},
     "output_type": "execute_result"
    }
   ],
   "source": [
    "ord('z')"
   ]
  },
  {
   "cell_type": "code",
   "execution_count": 463,
   "metadata": {},
   "outputs": [
    {
     "name": "stdout",
     "output_type": "stream",
     "text": [
      "f\n",
      "a\n",
      "b\n",
      "c\n",
      "d\n",
      "e\n",
      "f\n"
     ]
    }
   ],
   "source": [
    "n = input()\n",
    "for i in range(97, 123):\n",
    "    print(chr(i))\n",
    "    if i == ord(n):\n",
    "        break"
   ]
  },
  {
   "cell_type": "code",
   "execution_count": 467,
   "metadata": {},
   "outputs": [
    {
     "name": "stdout",
     "output_type": "stream",
     "text": [
      "5\n",
      "4\n",
      "3\n",
      "2\n",
      "1\n",
      "0\n"
     ]
    }
   ],
   "source": [
    "n = int(input())\n",
    "n_list = []\n",
    "\n",
    "for i in range(n):\n",
    "    n_list.append(i)\n",
    "    \n",
    "for i in range(1,n+1):\n",
    "    print(n_list[-i])"
   ]
  },
  {
   "cell_type": "markdown",
   "metadata": {},
   "source": [
    "# 코드업 구조체 연습"
   ]
  },
  {
   "cell_type": "code",
   "execution_count": 485,
   "metadata": {},
   "outputs": [
    {
     "name": "stdout",
     "output_type": "stream",
     "text": [
      "3\n",
      "1 20\n",
      "3 40\n",
      "2 10\n",
      "1 20\n",
      "3 40\n",
      "2 10\n"
     ]
    }
   ],
   "source": [
    "# 코드업 1805번\n",
    "\n",
    "n = int(input())\n",
    "n_dict = {}\n",
    "n_index = []\n",
    "\n",
    "for i in range(n):\n",
    "    index,last = map(int, input().split())\n",
    "    n_dict[index] = last\n",
    "    n_index.append(index)\n",
    "    \n",
    "n_index.sort()\n",
    "\n",
    "for i in n_index:\n",
    "    print(str(i) + ' ' + str(n_dict[i]))"
   ]
  },
  {
   "cell_type": "code",
   "execution_count": 487,
   "metadata": {},
   "outputs": [],
   "source": [
    "# 코드업 3004번 데이터 정렬\n"
   ]
  },
  {
   "cell_type": "code",
   "execution_count": null,
   "metadata": {},
   "outputs": [],
   "source": []
  },
  {
   "cell_type": "code",
   "execution_count": 2,
   "metadata": {},
   "outputs": [
    {
     "ename": "SyntaxError",
     "evalue": "invalid syntax (<ipython-input-2-9ee22546cd62>, line 1)",
     "output_type": "error",
     "traceback": [
      "\u001b[1;36m  File \u001b[1;32m\"<ipython-input-2-9ee22546cd62>\"\u001b[1;36m, line \u001b[1;32m1\u001b[0m\n\u001b[1;33m    재귀 호출\u001b[0m\n\u001b[1;37m        ^\u001b[0m\n\u001b[1;31mSyntaxError\u001b[0m\u001b[1;31m:\u001b[0m invalid syntax\n"
     ]
    }
   ],
   "source": [
    "재귀 호출 "
   ]
  },
  {
   "cell_type": "code",
   "execution_count": 4,
   "metadata": {},
   "outputs": [
    {
     "name": "stdout",
     "output_type": "stream",
     "text": [
      "Hello. world! 5\n",
      "Hello. world! 4\n",
      "Hello. world! 3\n",
      "Hello. world! 2\n",
      "Hello. world! 1\n"
     ]
    }
   ],
   "source": [
    "def hello(count):\n",
    "    if count == 0:   #호출 중지 조건\n",
    "        return\n",
    "    print(\"Hello. world!\", count)\n",
    "    count-= 1\n",
    "    hello(count) #재귀 호출(자기 자신)\n",
    "\n",
    "hello(5)"
   ]
  },
  {
   "cell_type": "code",
   "execution_count": 5,
   "metadata": {},
   "outputs": [
    {
     "data": {
      "text/plain": [
       "120"
      ]
     },
     "execution_count": 5,
     "metadata": {},
     "output_type": "execute_result"
    }
   ],
   "source": [
    "# 재귀호출로 팩토리얼 구하기. \n",
    "def factorial(n):\n",
    "    if n == 1:\n",
    "        return 1\n",
    "    return n * factorial(n-1) # 스택구조\n",
    "factorial(5)"
   ]
  },
  {
   "cell_type": "code",
   "execution_count": 8,
   "metadata": {},
   "outputs": [
    {
     "data": {
      "text/plain": [
       "50"
      ]
     },
     "execution_count": 8,
     "metadata": {},
     "output_type": "execute_result"
    }
   ],
   "source": [
    "100 // 2"
   ]
  },
  {
   "cell_type": "markdown",
   "metadata": {},
   "source": [
    "# 이진탐색 "
   ]
  },
  {
   "cell_type": "markdown",
   "metadata": {},
   "source": [
    "처음부터 하나씩 탐색하는 것이 아니라, 업다운 게임처럼 중간값과 찾고자하는 값을 참고해서 범위를 줄여나가는것. \n"
   ]
  },
  {
   "cell_type": "code",
   "execution_count": 10,
   "metadata": {},
   "outputs": [],
   "source": [
    "def binary_search (data, search):\n",
    "    print(data)\n",
    "    if len(data) == 1:\n",
    "        if data[0] == search:\n",
    "            return True\n",
    "        else:\n",
    "            return False\n",
    "    if len(data) == 0:\n",
    "        return False\n",
    "    \n",
    "    medium = len(data) // 2\n",
    "    if search == data[medium]:\n",
    "        return True\n",
    "    if search > data[medium]:\n",
    "        return binary_search(data[medium:], search)\n",
    "    else:\n",
    "        return binary_search(data[:medium], search)"
   ]
  },
  {
   "cell_type": "code",
   "execution_count": 14,
   "metadata": {},
   "outputs": [],
   "source": [
    "import random\n",
    "data_lsit = random.sample(range(100),11)\n",
    "data_lsit.sort()"
   ]
  },
  {
   "cell_type": "code",
   "execution_count": 18,
   "metadata": {},
   "outputs": [
    {
     "name": "stdout",
     "output_type": "stream",
     "text": [
      "[5, 23, 29, 49, 64, 66, 68, 72, 77, 80, 84]\n",
      "[66, 68, 72, 77, 80, 84]\n",
      "[77, 80, 84]\n",
      "[77]\n",
      "2020-04-23 02:53:25.467185\n"
     ]
    }
   ],
   "source": [
    "\n",
    "binary_search(data_lsit, 79)"
   ]
  },
  {
   "cell_type": "code",
   "execution_count": 19,
   "metadata": {
    "scrolled": true
   },
   "outputs": [
    {
     "ename": "SyntaxError",
     "evalue": "invalid syntax (<ipython-input-19-a3ec83faa60c>, line 6)",
     "output_type": "error",
     "traceback": [
      "\u001b[1;36m  File \u001b[1;32m\"<ipython-input-19-a3ec83faa60c>\"\u001b[1;36m, line \u001b[1;32m6\u001b[0m\n\u001b[1;33m    else\u001b[0m\n\u001b[1;37m        ^\u001b[0m\n\u001b[1;31mSyntaxError\u001b[0m\u001b[1;31m:\u001b[0m invalid syntax\n"
     ]
    }
   ],
   "source": [
    "def binary_search (data, search):\n",
    "    print(data)\n",
    "    \n",
    "    #데이터 길이가 1일때랑 1이 아닐때 구현. 1이면 원하는 값이랑 대조! \n",
    "    # 아닐 경우 무조건 원하는 값이 데이터에 없다는 뜻.\n",
    "    if len(data) == 1:\n",
    "        if data[0] == search:\n",
    "            return True\n",
    "        else:\n",
    "            return False\n",
    "        \n",
    "    if len(data) == 0:\n",
    "        return False\n",
    "    \n",
    "    # 중간값을 통해서 찾아내는 제어문 \n",
    "    medium == len(data) // 2\n",
    "    if search == data[medium]:\n",
    "        return True\n",
    "    if search > data[medium]:\n",
    "        return binary_search(data[medium:], search)\n",
    "    else:\n",
    "        return binary_search(data[:medium], search)\n",
    "        "
   ]
  },
  {
   "cell_type": "code",
   "execution_count": null,
   "metadata": {},
   "outputs": [],
   "source": [
    "이진 탐색에서 짜기위해 중요한것\n",
    "1. 데이터길이에 따른 분류 (길이가 1 일때랑, 0일때, 1이 아닐때,)\n",
    "2. 중간값을 통해서 찾아내는 제어문"
   ]
  },
  {
   "cell_type": "code",
   "execution_count": 22,
   "metadata": {},
   "outputs": [],
   "source": [
    "def binary_search (data, search):\n",
    "    if len(data) == 1:\n",
    "        if data[0] == search:\n",
    "            return True\n",
    "        else:\n",
    "            return False\n",
    "    if len(data) == 0:\n",
    "        return False \n",
    "    \n",
    "    #중간값을 통해서 찾아내는 제어문\n",
    "    medium == len(data) // 2\n",
    "    \n",
    "    if search == data[medium]:\n",
    "        return True\n",
    "    if search > data[medium]:\n",
    "        return binary_search(data[medium:], search)\n",
    "    else:\n",
    "        return binary_search(data[:medium], search)"
   ]
  },
  {
   "cell_type": "code",
   "execution_count": 25,
   "metadata": {},
   "outputs": [
    {
     "name": "stdout",
     "output_type": "stream",
     "text": [
      "2 1 5\n"
     ]
    },
    {
     "data": {
      "text/plain": [
       "4"
      ]
     },
     "execution_count": 25,
     "metadata": {},
     "output_type": "execute_result"
    }
   ],
   "source": [
    "# 백준 2869번, 시간초과\n",
    "a,b,v = map(int, input().split())\n",
    "\n",
    "def keepgoing(a,b,v):\n",
    "    now = 0\n",
    "    count = 0\n",
    "    while True:\n",
    "        count += 1\n",
    "        now += a\n",
    "        if now >= v:\n",
    "            break\n",
    "        now -= b \n",
    "        \n",
    "    return count \n",
    "\n",
    "keepgoing(a, b, v)"
   ]
  },
  {
   "cell_type": "code",
   "execution_count": 26,
   "metadata": {},
   "outputs": [
    {
     "name": "stdout",
     "output_type": "stream",
     "text": [
      "2 1 5\n",
      "4\n"
     ]
    }
   ],
   "source": [
    "# 백준 2869번, 2차시도\n",
    "\n",
    "a,b,v = map(int, input().split())\n",
    "now=0\n",
    "if (v-b) % (a-b) != 0:\n",
    "    now = ((v-b)//(a-b)) + 1\n",
    "else:\n",
    "    now = ((v-b)//(a-b))\n",
    "    \n",
    "print (now)"
   ]
  },
  {
   "cell_type": "code",
   "execution_count": 49,
   "metadata": {},
   "outputs": [
    {
     "name": "stdout",
     "output_type": "stream",
     "text": [
      "5\n",
      "4 1 5 2 3\n",
      "5 \n",
      "1 3 7 9 5\n",
      "1\n",
      "1\n",
      "0\n",
      "0\n",
      "1\n"
     ]
    }
   ],
   "source": [
    "# 백준 1920번, 1차시도. 시간초과 뜸 ㅠ\n",
    "def binary_search (data, search):\n",
    "    #데이터 길이가 1일때, 아닐때, 0일때\n",
    "    if len(data) == 1:\n",
    "        if data[0] == search:\n",
    "            return 1\n",
    "        else:\n",
    "            return 0\n",
    "    if len(data) == 0:\n",
    "        return 0\n",
    "    \n",
    "    # 중간값 \n",
    "    medium = len(data) // 2\n",
    "    if search == data[medium]:\n",
    "        return 1 \n",
    "    if search > data[medium]:\n",
    "        return binary_search(data[medium:], search)\n",
    "    else:\n",
    "        return binary_search(data[:medium], search) \n",
    "    \n",
    "n = int(input())\n",
    "n_list = list(map(int, input().split()))\n",
    "n_list.sort()\n",
    "m = int(input())\n",
    "m_list = list(map(int, input().split()))\n",
    "\n",
    "\n",
    "for i in m_list:\n",
    "    print(binary_search(n_list, i))"
   ]
  },
  {
   "cell_type": "markdown",
   "metadata": {},
   "source": [
    "그리디 예제 "
   ]
  },
  {
   "cell_type": "code",
   "execution_count": 4,
   "metadata": {},
   "outputs": [
    {
     "name": "stdout",
     "output_type": "stream",
     "text": [
      "[1, 100, 50, 500]\n",
      "[500, 100, 50, 1]\n"
     ]
    }
   ],
   "source": [
    "coin_list = [1, 100, 50, 500]\n",
    "print(coin_list)\n",
    "coin_list.sort(reverse=True)\n",
    "print(coin_list)"
   ]
  },
  {
   "cell_type": "code",
   "execution_count": 9,
   "metadata": {},
   "outputs": [],
   "source": [
    "coin_list = [500, 100, 50, 1]\n",
    "\n",
    "def min_coin_count(value, coin_list):\n",
    "    total_coin_count = 0\n",
    "    details = list()\n",
    "    coin_list.sort(reverse=True)\n",
    "    for coin in coin_list:\n",
    "        coin_num = value // coin\n",
    "        total_coin_count += coin_num\n",
    "        value -= coin_num * coin\n",
    "        details.append([coin, coin_num])\n",
    "    return total_coin_count, details"
   ]
  },
  {
   "cell_type": "code",
   "execution_count": 10,
   "metadata": {},
   "outputs": [
    {
     "data": {
      "text/plain": [
       "(31, [[500, 9], [100, 2], [50, 0], [1, 20]])"
      ]
     },
     "execution_count": 10,
     "metadata": {},
     "output_type": "execute_result"
    }
   ],
   "source": [
    "min_coin_count(4720, coin_list)"
   ]
  },
  {
   "cell_type": "code",
   "execution_count": null,
   "metadata": {},
   "outputs": [],
   "source": []
  }
 ],
 "metadata": {
  "kernelspec": {
   "display_name": "Python 3",
   "language": "python",
   "name": "python3"
  },
  "language_info": {
   "codemirror_mode": {
    "name": "ipython",
    "version": 3
   },
   "file_extension": ".py",
   "mimetype": "text/x-python",
   "name": "python",
   "nbconvert_exporter": "python",
   "pygments_lexer": "ipython3",
   "version": "3.7.4"
  }
 },
 "nbformat": 4,
 "nbformat_minor": 2
}
